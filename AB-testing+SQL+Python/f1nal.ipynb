{
 "cells": [
  {
   "cell_type": "markdown",
   "metadata": {},
   "source": [
    "# Проект: вариант 2\n",
    "\n",
    "## A/B–тестирование\n",
    "\n",
    "### Условие\n",
    "\n",
    "Одной из основных задач аналитика в нашей команде является корректное проведение экспериментов. Для этого мы применяем метод A/B–тестирования. В ходе тестирования одной гипотезы целевой группе была предложена новая механика оплаты услуг на сайте, у контрольной группы оставалась базовая механика. В качестве задания Вам необходимо проанализировать итоги эксперимента и сделать вывод, стоит ли запускать новую механику оплаты на всех пользователей.\n",
    "\n",
    "### Входные данные\n",
    "\n",
    "В качестве входных данных Вы имеете 4 csv-файла:\n",
    "- `groups.csv` - файл с информацией о принадлежности пользователя к контрольной или экспериментальной группе **(А – контроль, B – целевая группа)** \n",
    "- `groups_add.csv` - дополнительный файл с пользователями, который вам прислали спустя 2 дня после передачи данных\n",
    "- `active_studs.csv` - файл с информацией о пользователях, которые зашли на платформу в дни проведения эксперимента. \n",
    "- `checks.csv` - файл с информацией об оплатах пользователей в дни проведения эксперимента.\n",
    "\n",
    "### Вопросы\n",
    "\n",
    "Предлагаем Вам ответить на следующие вопросы:\n",
    "\n",
    "1. На какие метрики Вы смотрите в ходе анализа и почему?\n",
    "2. Имеются ли различия в показателях и с чем они могут быть связаны?\n",
    "3. Являются ли эти различия статистически значимыми?\n",
    "4. Стоит ли запускать новую механику на всех пользователей?\n",
    "5. Данный список вопросов не является обязательным, и Вы можете при своём ответе опираться на собственный план.\n",
    "\n",
    "### Требования к ответу\n",
    "\n",
    "- При выполнении тестового задания необходимо использовать язык программирования Python. \n",
    "- В файле обязательно должны быть комментарии к тем действиям, которые Вы выполняете с данными. \n",
    "- Файл должен представлять собой законченный отчёт с выводами, сделанными в ходе исследования."
   ]
  },
  {
   "cell_type": "code",
   "execution_count": 1,
   "metadata": {},
   "outputs": [],
   "source": [
    "import pandas as pd\n",
    "# import requests\n",
    "# from urllib.parse import urlencode\n",
    "\n",
    "import seaborn as sns\n",
    "import matplotlib.pyplot as plt\n",
    "%matplotlib inline\n",
    "\n",
    "from scipy import stats\n",
    "import numpy as np\n",
    "from tqdm.auto import tqdm\n",
    "\n",
    "import pandahouse as ph"
   ]
  },
  {
   "cell_type": "code",
   "execution_count": 2,
   "metadata": {},
   "outputs": [],
   "source": [
    "# ДАННЫЙ КОД СТАЛ ВЫДАВАТЬ ОШИБКУ (РАНЬШЕ РАБОТАЛ), ПРОБЛЕМА НА СТОРОНЕ API ЯНДЕКС ДИСКА\n",
    "\n",
    "\n",
    "# # считывание данных с помощью api\n",
    "# base_url = 'https://cloud-api.yandex.net/v1/disk/public/resources/download?' \n",
    "# public_key = ['https://disk.yandex.ru/d/UhyYx41rTt3clQ',\n",
    "#               'https://disk.yandex.ru/d/Tbs44Bm6H_FwFQ',\n",
    "#               'https://disk.yandex.ru/d/pH1q-VqcxXjsVA']\n",
    "\n",
    "# groups = pd.DataFrame()\n",
    "# active_studs = pd.DataFrame()\n",
    "# checks = pd.DataFrame()\n",
    "# df = ['groups', 'active_studs', 'checks']\n",
    "\n",
    "# for i, j in zip(public_key, df):\n",
    "#     final_url = base_url + urlencode(dict(public_key=i))\n",
    "#     response = requests.get(final_url)\n",
    "#     download_url = response.json()['href']\n",
    "#     locals()[j] = pd.read_csv(download_url, sep=';')\n",
    "\n",
    "# # groups_add считываем отдельно, без разделителя\n",
    "# download_url_add = requests.get(base_url + \n",
    "#                                 urlencode(dict(public_key='https://disk.yandex.ru/d/5Kxrz02m3IBUwQ'))).json()['href']\n",
    "# groups_add = pd.read_csv(download_url_add)"
   ]
  },
  {
   "cell_type": "code",
   "execution_count": 3,
   "metadata": {},
   "outputs": [],
   "source": [
    "groups = pd.read_csv('groups.csv', sep=';')\n",
    "groups_add = pd.read_csv('group_add.csv')\n",
    "active_studs = pd.read_csv('active_studs.csv', sep=';')\n",
    "checks = pd.read_csv('checks.csv', sep=';')"
   ]
  },
  {
   "cell_type": "markdown",
   "metadata": {},
   "source": [
    "Проверим таблицы на пропуски, NaN и уникальные значения:"
   ]
  },
  {
   "cell_type": "code",
   "execution_count": 4,
   "metadata": {},
   "outputs": [
    {
     "name": "stdout",
     "output_type": "stream",
     "text": [
      "<class 'pandas.core.frame.DataFrame'>\n",
      "RangeIndex: 74484 entries, 0 to 74483\n",
      "Data columns (total 2 columns):\n",
      " #   Column  Non-Null Count  Dtype \n",
      "---  ------  --------------  ----- \n",
      " 0   id      74484 non-null  int64 \n",
      " 1   grp     74484 non-null  object\n",
      "dtypes: int64(1), object(1)\n",
      "memory usage: 1.1+ MB\n"
     ]
    }
   ],
   "source": [
    "groups.info()"
   ]
  },
  {
   "cell_type": "code",
   "execution_count": 5,
   "metadata": {},
   "outputs": [
    {
     "data": {
      "text/plain": [
       "74484"
      ]
     },
     "execution_count": 5,
     "metadata": {},
     "output_type": "execute_result"
    }
   ],
   "source": [
    "groups.id.nunique()"
   ]
  },
  {
   "cell_type": "code",
   "execution_count": 6,
   "metadata": {},
   "outputs": [
    {
     "data": {
      "text/html": [
       "<div>\n",
       "<style scoped>\n",
       "    .dataframe tbody tr th:only-of-type {\n",
       "        vertical-align: middle;\n",
       "    }\n",
       "\n",
       "    .dataframe tbody tr th {\n",
       "        vertical-align: top;\n",
       "    }\n",
       "\n",
       "    .dataframe thead th {\n",
       "        text-align: right;\n",
       "    }\n",
       "</style>\n",
       "<table border=\"1\" class=\"dataframe\">\n",
       "  <thead>\n",
       "    <tr style=\"text-align: right;\">\n",
       "      <th></th>\n",
       "      <th>grp</th>\n",
       "    </tr>\n",
       "  </thead>\n",
       "  <tbody>\n",
       "    <tr>\n",
       "      <th>count</th>\n",
       "      <td>74484</td>\n",
       "    </tr>\n",
       "    <tr>\n",
       "      <th>unique</th>\n",
       "      <td>2</td>\n",
       "    </tr>\n",
       "    <tr>\n",
       "      <th>top</th>\n",
       "      <td>B</td>\n",
       "    </tr>\n",
       "    <tr>\n",
       "      <th>freq</th>\n",
       "      <td>59813</td>\n",
       "    </tr>\n",
       "  </tbody>\n",
       "</table>\n",
       "</div>"
      ],
      "text/plain": [
       "          grp\n",
       "count   74484\n",
       "unique      2\n",
       "top         B\n",
       "freq    59813"
      ]
     },
     "execution_count": 6,
     "metadata": {},
     "output_type": "execute_result"
    }
   ],
   "source": [
    "groups.describe(include='object')"
   ]
  },
  {
   "cell_type": "code",
   "execution_count": 7,
   "metadata": {},
   "outputs": [
    {
     "name": "stdout",
     "output_type": "stream",
     "text": [
      "<class 'pandas.core.frame.DataFrame'>\n",
      "RangeIndex: 92 entries, 0 to 91\n",
      "Data columns (total 2 columns):\n",
      " #   Column  Non-Null Count  Dtype \n",
      "---  ------  --------------  ----- \n",
      " 0   id      92 non-null     int64 \n",
      " 1   grp     92 non-null     object\n",
      "dtypes: int64(1), object(1)\n",
      "memory usage: 1.6+ KB\n"
     ]
    }
   ],
   "source": [
    "groups_add.info()"
   ]
  },
  {
   "cell_type": "code",
   "execution_count": 8,
   "metadata": {},
   "outputs": [
    {
     "data": {
      "text/plain": [
       "92"
      ]
     },
     "execution_count": 8,
     "metadata": {},
     "output_type": "execute_result"
    }
   ],
   "source": [
    "groups_add.id.nunique()"
   ]
  },
  {
   "cell_type": "code",
   "execution_count": 9,
   "metadata": {},
   "outputs": [
    {
     "data": {
      "text/plain": [
       "8341"
      ]
     },
     "execution_count": 9,
     "metadata": {},
     "output_type": "execute_result"
    }
   ],
   "source": [
    "active_studs.student_id.nunique()"
   ]
  },
  {
   "cell_type": "code",
   "execution_count": 10,
   "metadata": {},
   "outputs": [
    {
     "name": "stdout",
     "output_type": "stream",
     "text": [
      "<class 'pandas.core.frame.DataFrame'>\n",
      "RangeIndex: 541 entries, 0 to 540\n",
      "Data columns (total 2 columns):\n",
      " #   Column      Non-Null Count  Dtype  \n",
      "---  ------      --------------  -----  \n",
      " 0   student_id  541 non-null    int64  \n",
      " 1   rev         541 non-null    float64\n",
      "dtypes: float64(1), int64(1)\n",
      "memory usage: 8.6 KB\n"
     ]
    }
   ],
   "source": [
    "checks.info()"
   ]
  },
  {
   "cell_type": "code",
   "execution_count": 11,
   "metadata": {},
   "outputs": [
    {
     "data": {
      "text/plain": [
       "student_id    541\n",
       "rev            39\n",
       "dtype: int64"
      ]
     },
     "execution_count": 11,
     "metadata": {},
     "output_type": "execute_result"
    }
   ],
   "source": [
    "checks.nunique()"
   ]
  },
  {
   "cell_type": "code",
   "execution_count": 12,
   "metadata": {},
   "outputs": [
    {
     "data": {
      "text/plain": [
       "count     541.000000\n",
       "mean     1059.752317\n",
       "std       762.712359\n",
       "min       199.000000\n",
       "25%       290.000000\n",
       "50%       840.000000\n",
       "75%      1900.000000\n",
       "max      4650.000000\n",
       "Name: rev, dtype: float64"
      ]
     },
     "execution_count": 12,
     "metadata": {},
     "output_type": "execute_result"
    }
   ],
   "source": [
    "# 541 чек - по одному чеку на каждого пользователя\n",
    "checks.rev.describe()"
   ]
  },
  {
   "cell_type": "markdown",
   "metadata": {},
   "source": [
    "Все значения id уникальны. Пропуски, NaN, нулевые значения отсутствуют."
   ]
  },
  {
   "cell_type": "markdown",
   "metadata": {},
   "source": [
    "Объединим основной файл с дополнительным и добавим колонку с указанием, заходил ли пользователь на платформу в дни проведения эксперимента (если заходил - в колонке будет 1, не заходил - 0)."
   ]
  },
  {
   "cell_type": "code",
   "execution_count": 13,
   "metadata": {},
   "outputs": [],
   "source": [
    "groups_full = pd.concat([groups, groups_add]).rename(columns={'id': 'student_id'}).reset_index(drop=True)"
   ]
  },
  {
   "cell_type": "code",
   "execution_count": 14,
   "metadata": {},
   "outputs": [],
   "source": [
    "active_studs['activity'] = 1"
   ]
  },
  {
   "cell_type": "code",
   "execution_count": 15,
   "metadata": {},
   "outputs": [],
   "source": [
    "groups_full = groups_full.merge(active_studs, on='student_id', how='left').fillna(0)"
   ]
  },
  {
   "cell_type": "code",
   "execution_count": 16,
   "metadata": {},
   "outputs": [
    {
     "data": {
      "text/plain": [
       "0.0    66235\n",
       "1.0     8341\n",
       "Name: activity, dtype: int64"
      ]
     },
     "execution_count": 16,
     "metadata": {},
     "output_type": "execute_result"
    }
   ],
   "source": [
    "groups_full.activity.value_counts()"
   ]
  },
  {
   "cell_type": "markdown",
   "metadata": {},
   "source": [
    "Добавим к нашему датасету чеки, собрав таким образом все данные в одну таблицу."
   ]
  },
  {
   "cell_type": "code",
   "execution_count": 17,
   "metadata": {},
   "outputs": [],
   "source": [
    "df = groups_full.merge(checks, how='left').fillna(0).reset_index(drop=True)"
   ]
  },
  {
   "cell_type": "markdown",
   "metadata": {},
   "source": [
    "Общий датасет выглядит так:"
   ]
  },
  {
   "cell_type": "code",
   "execution_count": 18,
   "metadata": {
    "scrolled": true
   },
   "outputs": [
    {
     "data": {
      "text/html": [
       "<div>\n",
       "<style scoped>\n",
       "    .dataframe tbody tr th:only-of-type {\n",
       "        vertical-align: middle;\n",
       "    }\n",
       "\n",
       "    .dataframe tbody tr th {\n",
       "        vertical-align: top;\n",
       "    }\n",
       "\n",
       "    .dataframe thead th {\n",
       "        text-align: right;\n",
       "    }\n",
       "</style>\n",
       "<table border=\"1\" class=\"dataframe\">\n",
       "  <thead>\n",
       "    <tr style=\"text-align: right;\">\n",
       "      <th></th>\n",
       "      <th>student_id</th>\n",
       "      <th>grp</th>\n",
       "      <th>activity</th>\n",
       "      <th>rev</th>\n",
       "    </tr>\n",
       "  </thead>\n",
       "  <tbody>\n",
       "    <tr>\n",
       "      <th>0</th>\n",
       "      <td>1489</td>\n",
       "      <td>B</td>\n",
       "      <td>0.0</td>\n",
       "      <td>0.0</td>\n",
       "    </tr>\n",
       "    <tr>\n",
       "      <th>1</th>\n",
       "      <td>1627</td>\n",
       "      <td>A</td>\n",
       "      <td>1.0</td>\n",
       "      <td>990.0</td>\n",
       "    </tr>\n",
       "    <tr>\n",
       "      <th>2</th>\n",
       "      <td>1768</td>\n",
       "      <td>B</td>\n",
       "      <td>0.0</td>\n",
       "      <td>0.0</td>\n",
       "    </tr>\n",
       "    <tr>\n",
       "      <th>3</th>\n",
       "      <td>1783</td>\n",
       "      <td>B</td>\n",
       "      <td>0.0</td>\n",
       "      <td>0.0</td>\n",
       "    </tr>\n",
       "    <tr>\n",
       "      <th>4</th>\n",
       "      <td>1794</td>\n",
       "      <td>A</td>\n",
       "      <td>0.0</td>\n",
       "      <td>0.0</td>\n",
       "    </tr>\n",
       "  </tbody>\n",
       "</table>\n",
       "</div>"
      ],
      "text/plain": [
       "   student_id grp  activity    rev\n",
       "0        1489   B       0.0    0.0\n",
       "1        1627   A       1.0  990.0\n",
       "2        1768   B       0.0    0.0\n",
       "3        1783   B       0.0    0.0\n",
       "4        1794   A       0.0    0.0"
      ]
     },
     "execution_count": 18,
     "metadata": {},
     "output_type": "execute_result"
    }
   ],
   "source": [
    "df.head()"
   ]
  },
  {
   "cell_type": "markdown",
   "metadata": {},
   "source": [
    "Посмотрим на количество пользователей в группах:"
   ]
  },
  {
   "cell_type": "code",
   "execution_count": 19,
   "metadata": {},
   "outputs": [
    {
     "data": {
      "text/plain": [
       "B    59883\n",
       "A    14693\n",
       "Name: grp, dtype: int64"
      ]
     },
     "execution_count": 19,
     "metadata": {},
     "output_type": "execute_result"
    }
   ],
   "source": [
    "df.grp.value_counts()"
   ]
  },
  {
   "cell_type": "code",
   "execution_count": 20,
   "metadata": {},
   "outputs": [
    {
     "data": {
      "text/plain": [
       "B    80.3\n",
       "A    19.7\n",
       "Name: grp, dtype: float64"
      ]
     },
     "execution_count": 20,
     "metadata": {},
     "output_type": "execute_result"
    }
   ],
   "source": [
    "# в процентах\n",
    "df.grp.value_counts(normalize=True).mul(100).round(1)"
   ]
  },
  {
   "cell_type": "code",
   "execution_count": 21,
   "metadata": {},
   "outputs": [
    {
     "data": {
      "text/plain": [
       "student_id    149\n",
       "grp             2\n",
       "activity        1\n",
       "rev            13\n",
       "dtype: int64"
      ]
     },
     "execution_count": 21,
     "metadata": {},
     "output_type": "execute_result"
    }
   ],
   "source": [
    "df_to_del = df.query('activity == 0 and rev > 0')\n",
    "df_to_del.nunique()"
   ]
  },
  {
   "cell_type": "markdown",
   "metadata": {},
   "source": [
    "149 пользователей не заходили на платформу, но произвели оплату в дни проведения эксперимента. Можно предположить, что у них стоит услуга \"автоплатеж\", и оплата была проведена автоматически, без посещения платформы. Данных пользователей не будем учитывать при проведении А/B-тестирования, так как, скорее всего, механика их оплаты на сайте не менялась и они не принимали участия в эксперименте.\n",
    "\n",
    "Уберем из общего датасета этих пользователей."
   ]
  },
  {
   "cell_type": "code",
   "execution_count": 22,
   "metadata": {},
   "outputs": [
    {
     "data": {
      "text/plain": [
       "149"
      ]
     },
     "execution_count": 22,
     "metadata": {},
     "output_type": "execute_result"
    }
   ],
   "source": [
    "# сохраним для проверки размер исходного df\n",
    "df_old_len = df.shape[0]\n",
    "\n",
    "# убираем\n",
    "df = pd.concat([df, df_to_del]).drop_duplicates(keep=False)\n",
    "\n",
    "# проверка что убрали ровно 149\n",
    "df_old_len - df.shape[0]"
   ]
  },
  {
   "cell_type": "code",
   "execution_count": 23,
   "metadata": {
    "scrolled": true
   },
   "outputs": [
    {
     "data": {
      "text/html": [
       "<div>\n",
       "<style scoped>\n",
       "    .dataframe tbody tr th:only-of-type {\n",
       "        vertical-align: middle;\n",
       "    }\n",
       "\n",
       "    .dataframe tbody tr th {\n",
       "        vertical-align: top;\n",
       "    }\n",
       "\n",
       "    .dataframe thead th {\n",
       "        text-align: right;\n",
       "    }\n",
       "</style>\n",
       "<table border=\"1\" class=\"dataframe\">\n",
       "  <thead>\n",
       "    <tr style=\"text-align: right;\">\n",
       "      <th></th>\n",
       "      <th>grp</th>\n",
       "      <th>student_id</th>\n",
       "      <th>activity</th>\n",
       "      <th>pay_flag</th>\n",
       "      <th>rev</th>\n",
       "    </tr>\n",
       "  </thead>\n",
       "  <tbody>\n",
       "    <tr>\n",
       "      <th>0</th>\n",
       "      <td>A</td>\n",
       "      <td>14664</td>\n",
       "      <td>1538.0</td>\n",
       "      <td>78</td>\n",
       "      <td>72820.0000</td>\n",
       "    </tr>\n",
       "    <tr>\n",
       "      <th>1</th>\n",
       "      <td>B</td>\n",
       "      <td>59763</td>\n",
       "      <td>6803.0</td>\n",
       "      <td>314</td>\n",
       "      <td>394974.0035</td>\n",
       "    </tr>\n",
       "  </tbody>\n",
       "</table>\n",
       "</div>"
      ],
      "text/plain": [
       "  grp  student_id  activity  pay_flag          rev\n",
       "0   A       14664    1538.0        78   72820.0000\n",
       "1   B       59763    6803.0       314  394974.0035"
      ]
     },
     "execution_count": 23,
     "metadata": {},
     "output_type": "execute_result"
    }
   ],
   "source": [
    "df['pay_flag'] = (df.rev > 0) * 1\n",
    "df.groupby('grp', as_index=False).agg({'student_id': 'count', 'activity': 'sum', 'pay_flag': 'sum', 'rev': 'sum'})"
   ]
  },
  {
   "cell_type": "markdown",
   "metadata": {},
   "source": [
    "Выше представлена таблица с суммарными показателями по группам, но она неинформативна, так как количество пользователей в группах разное. Поэтому ниже представлена таблица со средними значениями по группам - количество студентов в группе, доля зашедших на платформу в дни проведения эксперимента, доля оплативших в дни проведения эксперимента:"
   ]
  },
  {
   "cell_type": "code",
   "execution_count": 24,
   "metadata": {
    "scrolled": false
   },
   "outputs": [
    {
     "data": {
      "text/html": [
       "<div>\n",
       "<style scoped>\n",
       "    .dataframe tbody tr th:only-of-type {\n",
       "        vertical-align: middle;\n",
       "    }\n",
       "\n",
       "    .dataframe tbody tr th {\n",
       "        vertical-align: top;\n",
       "    }\n",
       "\n",
       "    .dataframe thead th {\n",
       "        text-align: right;\n",
       "    }\n",
       "</style>\n",
       "<table border=\"1\" class=\"dataframe\">\n",
       "  <thead>\n",
       "    <tr style=\"text-align: right;\">\n",
       "      <th></th>\n",
       "      <th>grp</th>\n",
       "      <th>student_id</th>\n",
       "      <th>activity</th>\n",
       "      <th>pay_flag</th>\n",
       "    </tr>\n",
       "  </thead>\n",
       "  <tbody>\n",
       "    <tr>\n",
       "      <th>0</th>\n",
       "      <td>A</td>\n",
       "      <td>14664</td>\n",
       "      <td>0.104883</td>\n",
       "      <td>0.005319</td>\n",
       "    </tr>\n",
       "    <tr>\n",
       "      <th>1</th>\n",
       "      <td>B</td>\n",
       "      <td>59763</td>\n",
       "      <td>0.113833</td>\n",
       "      <td>0.005254</td>\n",
       "    </tr>\n",
       "  </tbody>\n",
       "</table>\n",
       "</div>"
      ],
      "text/plain": [
       "  grp  student_id  activity  pay_flag\n",
       "0   A       14664  0.104883  0.005319\n",
       "1   B       59763  0.113833  0.005254"
      ]
     },
     "execution_count": 24,
     "metadata": {},
     "output_type": "execute_result"
    }
   ],
   "source": [
    "df.groupby('grp', as_index=False).agg({'student_id': 'count', 'activity': 'mean', 'pay_flag': 'mean'})"
   ]
  },
  {
   "cell_type": "markdown",
   "metadata": {},
   "source": [
    "Можем заметить, что показатели в группах не сильно различаются - 10-11% пользоватей из группы зашли на платформу, оплату произвели 0.5% пользователей от общего количества пользователей в группе.\n",
    "\n",
    "Посмотрим на долю оплативших от количества зашедших на платформу в дни проведения эксперимента пользователей, чтобы лучше видеть разницу."
   ]
  },
  {
   "cell_type": "code",
   "execution_count": 25,
   "metadata": {},
   "outputs": [
    {
     "data": {
      "text/html": [
       "<div>\n",
       "<style scoped>\n",
       "    .dataframe tbody tr th:only-of-type {\n",
       "        vertical-align: middle;\n",
       "    }\n",
       "\n",
       "    .dataframe tbody tr th {\n",
       "        vertical-align: top;\n",
       "    }\n",
       "\n",
       "    .dataframe thead th {\n",
       "        text-align: right;\n",
       "    }\n",
       "</style>\n",
       "<table border=\"1\" class=\"dataframe\">\n",
       "  <thead>\n",
       "    <tr style=\"text-align: right;\">\n",
       "      <th></th>\n",
       "      <th>grp</th>\n",
       "      <th>student_id</th>\n",
       "      <th>pay_flag</th>\n",
       "    </tr>\n",
       "  </thead>\n",
       "  <tbody>\n",
       "    <tr>\n",
       "      <th>0</th>\n",
       "      <td>A</td>\n",
       "      <td>1538</td>\n",
       "      <td>0.050715</td>\n",
       "    </tr>\n",
       "    <tr>\n",
       "      <th>1</th>\n",
       "      <td>B</td>\n",
       "      <td>6803</td>\n",
       "      <td>0.046156</td>\n",
       "    </tr>\n",
       "  </tbody>\n",
       "</table>\n",
       "</div>"
      ],
      "text/plain": [
       "  grp  student_id  pay_flag\n",
       "0   A        1538  0.050715\n",
       "1   B        6803  0.046156"
      ]
     },
     "execution_count": 25,
     "metadata": {},
     "output_type": "execute_result"
    }
   ],
   "source": [
    "df[df.activity > 0].groupby('grp', as_index=False).agg({'student_id': 'count', 'pay_flag': 'mean'})"
   ]
  },
  {
   "cell_type": "markdown",
   "metadata": {},
   "source": [
    "Количество оплативших пользователей в целевой группе (В) меньше примерно на 0.4%, чем в контрольной (A).\n",
    "\n",
    "Пока что по этим значениям нельзя судить об успешности новой механики оплаты услуг на сайте, необходимо посмотреть на метрики и провести А/В тест."
   ]
  },
  {
   "cell_type": "markdown",
   "metadata": {},
   "source": [
    "### 1. Метрики\n",
    "\n",
    "Новая механика оплаты на сайте (в идеале) должна привлечь больше платящих пользователей, таким образом увеличив доход компании, так что обязательно нужно опираться на метрики, которые будут отвечать на вопросы:\n",
    "- Сколько пользователей удалось привлечь к оплате в дни проведения эксперимента?\n",
    "- На сколько увеличился средний доход от пользователей?\n",
    "\n",
    "Данным требованиям удовлетворяют метрики:\n",
    "- СR (конверсия из посещения платформы в дни проведения эксперимента в оплату);\n",
    "- ARPPU (средний доход на платящего пользователя), ARPU (средний доход с привлеченного пользователя).\n",
    "\n",
    "_Считать метрики будем по группам._"
   ]
  },
  {
   "cell_type": "markdown",
   "metadata": {},
   "source": [
    "**CR**\n",
    "\n",
    "— это отношение количества клиентов, совершивших оплату, к количеству посетивших платформу в дни проведения эксперимента."
   ]
  },
  {
   "cell_type": "code",
   "execution_count": 26,
   "metadata": {},
   "outputs": [
    {
     "data": {
      "text/html": [
       "<div>\n",
       "<style scoped>\n",
       "    .dataframe tbody tr th:only-of-type {\n",
       "        vertical-align: middle;\n",
       "    }\n",
       "\n",
       "    .dataframe tbody tr th {\n",
       "        vertical-align: top;\n",
       "    }\n",
       "\n",
       "    .dataframe thead th {\n",
       "        text-align: right;\n",
       "    }\n",
       "</style>\n",
       "<table border=\"1\" class=\"dataframe\">\n",
       "  <thead>\n",
       "    <tr style=\"text-align: right;\">\n",
       "      <th></th>\n",
       "      <th>grp</th>\n",
       "      <th>CR</th>\n",
       "      <th>CR, %</th>\n",
       "    </tr>\n",
       "  </thead>\n",
       "  <tbody>\n",
       "    <tr>\n",
       "      <th>0</th>\n",
       "      <td>A</td>\n",
       "      <td>0.050715</td>\n",
       "      <td>5.071521</td>\n",
       "    </tr>\n",
       "    <tr>\n",
       "      <th>1</th>\n",
       "      <td>B</td>\n",
       "      <td>0.046156</td>\n",
       "      <td>4.615611</td>\n",
       "    </tr>\n",
       "  </tbody>\n",
       "</table>\n",
       "</div>"
      ],
      "text/plain": [
       "  grp        CR     CR, %\n",
       "0   A  0.050715  5.071521\n",
       "1   B  0.046156  4.615611"
      ]
     },
     "execution_count": 26,
     "metadata": {},
     "output_type": "execute_result"
    }
   ],
   "source": [
    "CR = df[df.activity > 0].groupby('grp', as_index=False).agg(CR=('pay_flag', 'mean'))\n",
    "CR['CR, %'] = CR.CR * 100\n",
    "CR"
   ]
  },
  {
   "cell_type": "markdown",
   "metadata": {},
   "source": [
    "Посмотрим на распределение CR в группах, проверим на нормальность."
   ]
  },
  {
   "cell_type": "code",
   "execution_count": 27,
   "metadata": {},
   "outputs": [
    {
     "data": {
      "text/html": [
       "<div>\n",
       "<style scoped>\n",
       "    .dataframe tbody tr th:only-of-type {\n",
       "        vertical-align: middle;\n",
       "    }\n",
       "\n",
       "    .dataframe tbody tr th {\n",
       "        vertical-align: top;\n",
       "    }\n",
       "\n",
       "    .dataframe thead th {\n",
       "        text-align: right;\n",
       "    }\n",
       "</style>\n",
       "<table border=\"1\" class=\"dataframe\">\n",
       "  <thead>\n",
       "    <tr style=\"text-align: right;\">\n",
       "      <th></th>\n",
       "      <th>CR_in_A</th>\n",
       "      <th>CR_in_B</th>\n",
       "    </tr>\n",
       "  </thead>\n",
       "  <tbody>\n",
       "    <tr>\n",
       "      <th>count</th>\n",
       "      <td>1538.000000</td>\n",
       "      <td>6803.000000</td>\n",
       "    </tr>\n",
       "    <tr>\n",
       "      <th>mean</th>\n",
       "      <td>0.050715</td>\n",
       "      <td>0.046156</td>\n",
       "    </tr>\n",
       "    <tr>\n",
       "      <th>std</th>\n",
       "      <td>0.219487</td>\n",
       "      <td>0.209838</td>\n",
       "    </tr>\n",
       "    <tr>\n",
       "      <th>min</th>\n",
       "      <td>0.000000</td>\n",
       "      <td>0.000000</td>\n",
       "    </tr>\n",
       "    <tr>\n",
       "      <th>25%</th>\n",
       "      <td>0.000000</td>\n",
       "      <td>0.000000</td>\n",
       "    </tr>\n",
       "    <tr>\n",
       "      <th>50%</th>\n",
       "      <td>0.000000</td>\n",
       "      <td>0.000000</td>\n",
       "    </tr>\n",
       "    <tr>\n",
       "      <th>75%</th>\n",
       "      <td>0.000000</td>\n",
       "      <td>0.000000</td>\n",
       "    </tr>\n",
       "    <tr>\n",
       "      <th>max</th>\n",
       "      <td>1.000000</td>\n",
       "      <td>1.000000</td>\n",
       "    </tr>\n",
       "  </tbody>\n",
       "</table>\n",
       "</div>"
      ],
      "text/plain": [
       "           CR_in_A      CR_in_B\n",
       "count  1538.000000  6803.000000\n",
       "mean      0.050715     0.046156\n",
       "std       0.219487     0.209838\n",
       "min       0.000000     0.000000\n",
       "25%       0.000000     0.000000\n",
       "50%       0.000000     0.000000\n",
       "75%       0.000000     0.000000\n",
       "max       1.000000     1.000000"
      ]
     },
     "execution_count": 27,
     "metadata": {},
     "output_type": "execute_result"
    }
   ],
   "source": [
    "CR_A = pd.DataFrame(df.query(\"activity > 0 and grp == 'A'\").pay_flag.describe()) \\\n",
    "    .rename(columns={'pay_flag':'CR_in_A'})\n",
    "\n",
    "CR_B = pd.DataFrame(df.query(\"activity > 0 and grp == 'B'\").pay_flag.describe()) \\\n",
    "    .rename(columns={'pay_flag': 'CR_in_B'})\n",
    "\n",
    "pd.concat([CR_A, CR_B], axis=1)"
   ]
  },
  {
   "cell_type": "code",
   "execution_count": 28,
   "metadata": {},
   "outputs": [
    {
     "data": {
      "text/plain": [
       "<matplotlib.axes._subplots.AxesSubplot at 0x7fbed2dfc160>"
      ]
     },
     "execution_count": 28,
     "metadata": {},
     "output_type": "execute_result"
    },
    {
     "data": {
      "image/png": "[encoded data removed]",
      "text/plain": [
       "<Figure size 432x288 with 1 Axes>"
      ]
     },
     "metadata": {},
     "output_type": "display_data"
    }
   ],
   "source": [
    "sns.set_theme()\n",
    "sns.histplot(data=df[df.activity > 0][['grp', 'pay_flag']], hue='grp', x='pay_flag')"
   ]
  },
  {
   "cell_type": "code",
   "execution_count": 29,
   "metadata": {},
   "outputs": [
    {
     "data": {
      "text/plain": [
       "ShapiroResult(statistic=0.22591686248779297, pvalue=0.0)"
      ]
     },
     "execution_count": 29,
     "metadata": {},
     "output_type": "execute_result"
    }
   ],
   "source": [
    "stats.shapiro(df.query(\"activity > 0 and grp == 'A'\").pay_flag)"
   ]
  },
  {
   "cell_type": "code",
   "execution_count": 30,
   "metadata": {},
   "outputs": [
    {
     "name": "stderr",
     "output_type": "stream",
     "text": [
      "/opt/tljh/user/lib/python3.7/site-packages/scipy/stats/morestats.py:1760: UserWarning: p-value may not be accurate for N > 5000.\n",
      "  warnings.warn(\"p-value may not be accurate for N > 5000.\")\n"
     ]
    },
    {
     "data": {
      "text/plain": [
       "ShapiroResult(statistic=0.2125367522239685, pvalue=0.0)"
      ]
     },
     "execution_count": 30,
     "metadata": {},
     "output_type": "execute_result"
    }
   ],
   "source": [
    "stats.shapiro(df.query(\"activity > 0 and grp == 'B'\").pay_flag)"
   ]
  },
  {
   "cell_type": "markdown",
   "metadata": {},
   "source": [
    "Распределение CR в группах не является нормальным."
   ]
  },
  {
   "cell_type": "markdown",
   "metadata": {},
   "source": [
    "**ARPU**\n",
    "\n",
    "— это отношение дохода к количеству пользователей, посетивших платформу в дни проведения эксперимента."
   ]
  },
  {
   "cell_type": "code",
   "execution_count": 31,
   "metadata": {},
   "outputs": [
    {
     "data": {
      "text/html": [
       "<div>\n",
       "<style scoped>\n",
       "    .dataframe tbody tr th:only-of-type {\n",
       "        vertical-align: middle;\n",
       "    }\n",
       "\n",
       "    .dataframe tbody tr th {\n",
       "        vertical-align: top;\n",
       "    }\n",
       "\n",
       "    .dataframe thead th {\n",
       "        text-align: right;\n",
       "    }\n",
       "</style>\n",
       "<table border=\"1\" class=\"dataframe\">\n",
       "  <thead>\n",
       "    <tr style=\"text-align: right;\">\n",
       "      <th></th>\n",
       "      <th>grp</th>\n",
       "      <th>ARPU</th>\n",
       "    </tr>\n",
       "  </thead>\n",
       "  <tbody>\n",
       "    <tr>\n",
       "      <th>0</th>\n",
       "      <td>A</td>\n",
       "      <td>47.347204</td>\n",
       "    </tr>\n",
       "    <tr>\n",
       "      <th>1</th>\n",
       "      <td>B</td>\n",
       "      <td>58.058798</td>\n",
       "    </tr>\n",
       "  </tbody>\n",
       "</table>\n",
       "</div>"
      ],
      "text/plain": [
       "  grp       ARPU\n",
       "0   A  47.347204\n",
       "1   B  58.058798"
      ]
     },
     "execution_count": 31,
     "metadata": {},
     "output_type": "execute_result"
    }
   ],
   "source": [
    "ARPU = df[df.activity > 0].groupby('grp', as_index=False).agg(ARPU=('rev', 'mean'))\n",
    "ARPU"
   ]
  },
  {
   "cell_type": "code",
   "execution_count": 32,
   "metadata": {},
   "outputs": [
    {
     "data": {
      "text/html": [
       "<div>\n",
       "<style scoped>\n",
       "    .dataframe tbody tr th:only-of-type {\n",
       "        vertical-align: middle;\n",
       "    }\n",
       "\n",
       "    .dataframe tbody tr th {\n",
       "        vertical-align: top;\n",
       "    }\n",
       "\n",
       "    .dataframe thead th {\n",
       "        text-align: right;\n",
       "    }\n",
       "</style>\n",
       "<table border=\"1\" class=\"dataframe\">\n",
       "  <thead>\n",
       "    <tr style=\"text-align: right;\">\n",
       "      <th></th>\n",
       "      <th>ARPU_in_A</th>\n",
       "      <th>ARPU_in_B</th>\n",
       "    </tr>\n",
       "  </thead>\n",
       "  <tbody>\n",
       "    <tr>\n",
       "      <th>count</th>\n",
       "      <td>1538.000000</td>\n",
       "      <td>6803.000000</td>\n",
       "    </tr>\n",
       "    <tr>\n",
       "      <th>mean</th>\n",
       "      <td>47.347204</td>\n",
       "      <td>58.058798</td>\n",
       "    </tr>\n",
       "    <tr>\n",
       "      <th>std</th>\n",
       "      <td>290.490632</td>\n",
       "      <td>313.770201</td>\n",
       "    </tr>\n",
       "    <tr>\n",
       "      <th>min</th>\n",
       "      <td>0.000000</td>\n",
       "      <td>0.000000</td>\n",
       "    </tr>\n",
       "    <tr>\n",
       "      <th>25%</th>\n",
       "      <td>0.000000</td>\n",
       "      <td>0.000000</td>\n",
       "    </tr>\n",
       "    <tr>\n",
       "      <th>50%</th>\n",
       "      <td>0.000000</td>\n",
       "      <td>0.000000</td>\n",
       "    </tr>\n",
       "    <tr>\n",
       "      <th>75%</th>\n",
       "      <td>0.000000</td>\n",
       "      <td>0.000000</td>\n",
       "    </tr>\n",
       "    <tr>\n",
       "      <th>max</th>\n",
       "      <td>3660.000000</td>\n",
       "      <td>4650.000000</td>\n",
       "    </tr>\n",
       "  </tbody>\n",
       "</table>\n",
       "</div>"
      ],
      "text/plain": [
       "         ARPU_in_A    ARPU_in_B\n",
       "count  1538.000000  6803.000000\n",
       "mean     47.347204    58.058798\n",
       "std     290.490632   313.770201\n",
       "min       0.000000     0.000000\n",
       "25%       0.000000     0.000000\n",
       "50%       0.000000     0.000000\n",
       "75%       0.000000     0.000000\n",
       "max    3660.000000  4650.000000"
      ]
     },
     "execution_count": 32,
     "metadata": {},
     "output_type": "execute_result"
    }
   ],
   "source": [
    "ARPU_A = pd.DataFrame(df.query(\"activity > 0 and grp == 'A'\").rev.describe()) \\\n",
    "    .rename(columns={'rev': 'ARPU_in_A'})\n",
    "\n",
    "ARPU_B = pd.DataFrame(df.query(\"activity > 0 and grp == 'B'\").rev.describe()) \\\n",
    "    .rename(columns={'rev': 'ARPU_in_B'})\n",
    "\n",
    "pd.concat([ARPU_A, ARPU_B], axis=1)"
   ]
  },
  {
   "cell_type": "code",
   "execution_count": 33,
   "metadata": {},
   "outputs": [
    {
     "data": {
      "text/plain": [
       "<matplotlib.axes._subplots.AxesSubplot at 0x7fbed0d68940>"
      ]
     },
     "execution_count": 33,
     "metadata": {},
     "output_type": "execute_result"
    },
    {
     "data": {
      "image/png": "[encoded data removed]",
      "text/plain": [
       "<Figure size 432x288 with 1 Axes>"
      ]
     },
     "metadata": {},
     "output_type": "display_data"
    }
   ],
   "source": [
    "sns.histplot(data=df[df.activity > 0][['grp', 'rev']], hue='grp', x='rev')"
   ]
  },
  {
   "cell_type": "code",
   "execution_count": 34,
   "metadata": {},
   "outputs": [
    {
     "data": {
      "text/plain": [
       "ShapiroResult(statistic=0.1541670560836792, pvalue=0.0)"
      ]
     },
     "execution_count": 34,
     "metadata": {},
     "output_type": "execute_result"
    }
   ],
   "source": [
    "stats.shapiro(df.query(\"activity > 0 and grp == 'A'\").rev)"
   ]
  },
  {
   "cell_type": "code",
   "execution_count": 35,
   "metadata": {},
   "outputs": [
    {
     "name": "stderr",
     "output_type": "stream",
     "text": [
      "/opt/tljh/user/lib/python3.7/site-packages/scipy/stats/morestats.py:1760: UserWarning: p-value may not be accurate for N > 5000.\n",
      "  warnings.warn(\"p-value may not be accurate for N > 5000.\")\n"
     ]
    },
    {
     "data": {
      "text/plain": [
       "ShapiroResult(statistic=0.18124502897262573, pvalue=0.0)"
      ]
     },
     "execution_count": 35,
     "metadata": {},
     "output_type": "execute_result"
    }
   ],
   "source": [
    "stats.shapiro(df.query(\"activity > 0 and grp == 'B'\").rev)"
   ]
  },
  {
   "cell_type": "markdown",
   "metadata": {},
   "source": [
    "Распределение ARPU в группах не является нормальным."
   ]
  },
  {
   "cell_type": "markdown",
   "metadata": {},
   "source": [
    "**ARPPU**\n",
    "\n",
    "— это отношение дохода к числу пользователей, посетивших платформу и совершивших оплату в дни проведения эксперимента."
   ]
  },
  {
   "cell_type": "code",
   "execution_count": 36,
   "metadata": {},
   "outputs": [
    {
     "data": {
      "text/html": [
       "<div>\n",
       "<style scoped>\n",
       "    .dataframe tbody tr th:only-of-type {\n",
       "        vertical-align: middle;\n",
       "    }\n",
       "\n",
       "    .dataframe tbody tr th {\n",
       "        vertical-align: top;\n",
       "    }\n",
       "\n",
       "    .dataframe thead th {\n",
       "        text-align: right;\n",
       "    }\n",
       "</style>\n",
       "<table border=\"1\" class=\"dataframe\">\n",
       "  <thead>\n",
       "    <tr style=\"text-align: right;\">\n",
       "      <th></th>\n",
       "      <th>grp</th>\n",
       "      <th>ARPPU</th>\n",
       "    </tr>\n",
       "  </thead>\n",
       "  <tbody>\n",
       "    <tr>\n",
       "      <th>0</th>\n",
       "      <td>A</td>\n",
       "      <td>933.589744</td>\n",
       "    </tr>\n",
       "    <tr>\n",
       "      <th>1</th>\n",
       "      <td>B</td>\n",
       "      <td>1257.878992</td>\n",
       "    </tr>\n",
       "  </tbody>\n",
       "</table>\n",
       "</div>"
      ],
      "text/plain": [
       "  grp        ARPPU\n",
       "0   A   933.589744\n",
       "1   B  1257.878992"
      ]
     },
     "execution_count": 36,
     "metadata": {},
     "output_type": "execute_result"
    }
   ],
   "source": [
    "ARPPU = df[df.rev > 0].groupby('grp', as_index=False).agg(ARPPU=('rev', 'mean'))\n",
    "ARPPU"
   ]
  },
  {
   "cell_type": "code",
   "execution_count": 37,
   "metadata": {},
   "outputs": [
    {
     "data": {
      "text/html": [
       "<div>\n",
       "<style scoped>\n",
       "    .dataframe tbody tr th:only-of-type {\n",
       "        vertical-align: middle;\n",
       "    }\n",
       "\n",
       "    .dataframe tbody tr th {\n",
       "        vertical-align: top;\n",
       "    }\n",
       "\n",
       "    .dataframe thead th {\n",
       "        text-align: right;\n",
       "    }\n",
       "</style>\n",
       "<table border=\"1\" class=\"dataframe\">\n",
       "  <thead>\n",
       "    <tr style=\"text-align: right;\">\n",
       "      <th></th>\n",
       "      <th>ARPPU_in_A</th>\n",
       "      <th>ARPPU_in_B</th>\n",
       "    </tr>\n",
       "  </thead>\n",
       "  <tbody>\n",
       "    <tr>\n",
       "      <th>count</th>\n",
       "      <td>78.000000</td>\n",
       "      <td>314.000000</td>\n",
       "    </tr>\n",
       "    <tr>\n",
       "      <th>mean</th>\n",
       "      <td>933.589744</td>\n",
       "      <td>1257.878992</td>\n",
       "    </tr>\n",
       "    <tr>\n",
       "      <th>std</th>\n",
       "      <td>919.932711</td>\n",
       "      <td>790.864254</td>\n",
       "    </tr>\n",
       "    <tr>\n",
       "      <th>min</th>\n",
       "      <td>199.000000</td>\n",
       "      <td>199.000000</td>\n",
       "    </tr>\n",
       "    <tr>\n",
       "      <th>25%</th>\n",
       "      <td>290.000000</td>\n",
       "      <td>511.750000</td>\n",
       "    </tr>\n",
       "    <tr>\n",
       "      <th>50%</th>\n",
       "      <td>585.000000</td>\n",
       "      <td>1140.000000</td>\n",
       "    </tr>\n",
       "    <tr>\n",
       "      <th>75%</th>\n",
       "      <td>1114.750000</td>\n",
       "      <td>1900.000000</td>\n",
       "    </tr>\n",
       "    <tr>\n",
       "      <th>max</th>\n",
       "      <td>3660.000000</td>\n",
       "      <td>4650.000000</td>\n",
       "    </tr>\n",
       "  </tbody>\n",
       "</table>\n",
       "</div>"
      ],
      "text/plain": [
       "        ARPPU_in_A   ARPPU_in_B\n",
       "count    78.000000   314.000000\n",
       "mean    933.589744  1257.878992\n",
       "std     919.932711   790.864254\n",
       "min     199.000000   199.000000\n",
       "25%     290.000000   511.750000\n",
       "50%     585.000000  1140.000000\n",
       "75%    1114.750000  1900.000000\n",
       "max    3660.000000  4650.000000"
      ]
     },
     "execution_count": 37,
     "metadata": {},
     "output_type": "execute_result"
    }
   ],
   "source": [
    "ARPPU_A = pd.DataFrame(df.query(\"rev > 0 and grp == 'A'\").rev.describe()) \\\n",
    "    .rename(columns={'rev': 'ARPPU_in_A'})\n",
    "\n",
    "ARPPU_B = pd.DataFrame(df.query(\"rev > 0 and grp == 'B'\").rev.describe()) \\\n",
    "    .rename(columns={'rev': 'ARPPU_in_B'})\n",
    "\n",
    "pd.concat([ARPPU_A, ARPPU_B], axis=1)"
   ]
  },
  {
   "cell_type": "code",
   "execution_count": 38,
   "metadata": {},
   "outputs": [
    {
     "data": {
      "text/plain": [
       "<matplotlib.axes._subplots.AxesSubplot at 0x7fbed07c7f60>"
      ]
     },
     "execution_count": 38,
     "metadata": {},
     "output_type": "execute_result"
    },
    {
     "data": {
      "image/png": "[encoded data removed]",
      "text/plain": [
       "<Figure size 432x288 with 1 Axes>"
      ]
     },
     "metadata": {},
     "output_type": "display_data"
    }
   ],
   "source": [
    "sns.histplot(data=df[df.rev > 0][['grp', 'rev']], hue='grp', x='rev')"
   ]
  },
  {
   "cell_type": "code",
   "execution_count": 39,
   "metadata": {},
   "outputs": [
    {
     "data": {
      "text/plain": [
       "<matplotlib.axes._subplots.AxesSubplot at 0x7fbed0733ba8>"
      ]
     },
     "execution_count": 39,
     "metadata": {},
     "output_type": "execute_result"
    },
    {
     "data": {
      "image/png": "[encoded data removed]",
      "text/plain": [
       "<Figure size 432x288 with 1 Axes>"
      ]
     },
     "metadata": {},
     "output_type": "display_data"
    }
   ],
   "source": [
    "sns.boxplot(data=df[df.rev > 0][['grp', 'rev']], x='grp', y='rev')"
   ]
  },
  {
   "cell_type": "code",
   "execution_count": 40,
   "metadata": {},
   "outputs": [
    {
     "data": {
      "text/plain": [
       "ShapiroResult(statistic=0.7353236079216003, pvalue=1.4986822893803264e-10)"
      ]
     },
     "execution_count": 40,
     "metadata": {},
     "output_type": "execute_result"
    }
   ],
   "source": [
    "stats.shapiro(df.query(\"rev > 0 and grp == 'A'\").rev)"
   ]
  },
  {
   "cell_type": "code",
   "execution_count": 41,
   "metadata": {},
   "outputs": [
    {
     "data": {
      "text/plain": [
       "ShapiroResult(statistic=0.8547235727310181, pvalue=1.5437024585965894e-16)"
      ]
     },
     "execution_count": 41,
     "metadata": {},
     "output_type": "execute_result"
    }
   ],
   "source": [
    "stats.shapiro(df.query(\"rev > 0 and grp == 'B'\").rev)"
   ]
  },
  {
   "cell_type": "markdown",
   "metadata": {},
   "source": [
    "Распределение ARPPU в группах не является нормальным."
   ]
  },
  {
   "cell_type": "markdown",
   "metadata": {},
   "source": [
    "### 2. Имеются ли различия в метриках?"
   ]
  },
  {
   "cell_type": "code",
   "execution_count": 42,
   "metadata": {},
   "outputs": [
    {
     "data": {
      "text/html": [
       "<div>\n",
       "<style scoped>\n",
       "    .dataframe tbody tr th:only-of-type {\n",
       "        vertical-align: middle;\n",
       "    }\n",
       "\n",
       "    .dataframe tbody tr th {\n",
       "        vertical-align: top;\n",
       "    }\n",
       "\n",
       "    .dataframe thead th {\n",
       "        text-align: right;\n",
       "    }\n",
       "</style>\n",
       "<table border=\"1\" class=\"dataframe\">\n",
       "  <thead>\n",
       "    <tr style=\"text-align: right;\">\n",
       "      <th></th>\n",
       "      <th>grp</th>\n",
       "      <th>CR</th>\n",
       "      <th>CR, %</th>\n",
       "      <th>ARPU</th>\n",
       "      <th>ARPPU</th>\n",
       "    </tr>\n",
       "  </thead>\n",
       "  <tbody>\n",
       "    <tr>\n",
       "      <th>0</th>\n",
       "      <td>A</td>\n",
       "      <td>0.050715</td>\n",
       "      <td>5.071521</td>\n",
       "      <td>47.347204</td>\n",
       "      <td>933.589744</td>\n",
       "    </tr>\n",
       "    <tr>\n",
       "      <th>1</th>\n",
       "      <td>B</td>\n",
       "      <td>0.046156</td>\n",
       "      <td>4.615611</td>\n",
       "      <td>58.058798</td>\n",
       "      <td>1257.878992</td>\n",
       "    </tr>\n",
       "  </tbody>\n",
       "</table>\n",
       "</div>"
      ],
      "text/plain": [
       "  grp        CR     CR, %       ARPU        ARPPU\n",
       "0   A  0.050715  5.071521  47.347204   933.589744\n",
       "1   B  0.046156  4.615611  58.058798  1257.878992"
      ]
     },
     "execution_count": 42,
     "metadata": {},
     "output_type": "execute_result"
    }
   ],
   "source": [
    "metrics = CR.merge(ARPU).merge(ARPPU)\n",
    "metrics"
   ]
  },
  {
   "cell_type": "markdown",
   "metadata": {},
   "source": [
    "Добавим в конец таблицы 2 строки с разницей значений в группах"
   ]
  },
  {
   "cell_type": "code",
   "execution_count": 43,
   "metadata": {},
   "outputs": [
    {
     "data": {
      "text/html": [
       "<div>\n",
       "<style scoped>\n",
       "    .dataframe tbody tr th:only-of-type {\n",
       "        vertical-align: middle;\n",
       "    }\n",
       "\n",
       "    .dataframe tbody tr th {\n",
       "        vertical-align: top;\n",
       "    }\n",
       "\n",
       "    .dataframe thead th {\n",
       "        text-align: right;\n",
       "    }\n",
       "</style>\n",
       "<table border=\"1\" class=\"dataframe\">\n",
       "  <thead>\n",
       "    <tr style=\"text-align: right;\">\n",
       "      <th></th>\n",
       "      <th>grp</th>\n",
       "      <th>CR</th>\n",
       "      <th>CR, %</th>\n",
       "      <th>ARPU</th>\n",
       "      <th>ARPPU</th>\n",
       "    </tr>\n",
       "  </thead>\n",
       "  <tbody>\n",
       "    <tr>\n",
       "      <th>0</th>\n",
       "      <td>A</td>\n",
       "      <td>0.050715</td>\n",
       "      <td>5.071521</td>\n",
       "      <td>47.347204</td>\n",
       "      <td>933.589744</td>\n",
       "    </tr>\n",
       "    <tr>\n",
       "      <th>1</th>\n",
       "      <td>B</td>\n",
       "      <td>0.046156</td>\n",
       "      <td>4.615611</td>\n",
       "      <td>58.058798</td>\n",
       "      <td>1257.878992</td>\n",
       "    </tr>\n",
       "    <tr>\n",
       "      <th>2</th>\n",
       "      <td>difference</td>\n",
       "      <td>-0.004559</td>\n",
       "      <td>-0.455911</td>\n",
       "      <td>10.711594</td>\n",
       "      <td>324.289248</td>\n",
       "    </tr>\n",
       "    <tr>\n",
       "      <th>3</th>\n",
       "      <td>difference_in_%</td>\n",
       "      <td>-8.989624</td>\n",
       "      <td>-8.989624</td>\n",
       "      <td>22.623498</td>\n",
       "      <td>34.735734</td>\n",
       "    </tr>\n",
       "  </tbody>\n",
       "</table>\n",
       "</div>"
      ],
      "text/plain": [
       "               grp        CR     CR, %       ARPU        ARPPU\n",
       "0                A  0.050715  5.071521  47.347204   933.589744\n",
       "1                B  0.046156  4.615611  58.058798  1257.878992\n",
       "2       difference -0.004559 -0.455911  10.711594   324.289248\n",
       "3  difference_in_% -8.989624 -8.989624  22.623498    34.735734"
      ]
     },
     "execution_count": 43,
     "metadata": {},
     "output_type": "execute_result"
    }
   ],
   "source": [
    "x = ['difference']\n",
    "perc = ['difference_in_%']\n",
    "for i in metrics[['CR', 'CR, %', 'ARPU', 'ARPPU']]:\n",
    "    x.append(metrics[i][1] - metrics[i][0])\n",
    "    perc.append(100 * (metrics[i][1] - metrics[i][0]) / metrics[i][0])\n",
    "metrics.loc[len(metrics.index)] = x\n",
    "metrics.loc[len(metrics.index)] = perc\n",
    "metrics"
   ]
  },
  {
   "cell_type": "markdown",
   "metadata": {},
   "source": [
    "Для дальнейшей работы последние две строки с разницей в метриках нам не пригодятся, уберем их"
   ]
  },
  {
   "cell_type": "code",
   "execution_count": 44,
   "metadata": {},
   "outputs": [],
   "source": [
    "metrics = metrics.head(2)"
   ]
  },
  {
   "cell_type": "markdown",
   "metadata": {},
   "source": [
    "- Конверсия **CR** упала на **~9%**\n",
    "- Средний доход с привлеченного пользователя **ARPU** увеличился на **~23%**\n",
    "- Средний доход на платящего пользователя **ARPPU** увеличился на **~35%**"
   ]
  },
  {
   "cell_type": "markdown",
   "metadata": {},
   "source": [
    "### 3. Являются ли эти различия статистически значимыми?\n",
    "\n",
    "Для ответа на этот вопрос проведем A/B тестирование методом bootstrap (так как размеры групп сильно различны, а распределения в группах не являются нормальными)."
   ]
  },
  {
   "cell_type": "code",
   "execution_count": 45,
   "metadata": {},
   "outputs": [],
   "source": [
    "plt.style.use('ggplot')\n",
    "\n",
    "# объявим функцию бутстрап\n",
    "\n",
    "def get_bootstrap(\n",
    "    data_column_1,  # числовые значения первой выборки\n",
    "    data_column_2,  # числовые значения второй выборки\n",
    "    boot_it = 10000,  # количество бутстрэп-подвыборок\n",
    "    statistic = np.mean,  # интересующая нас статистика\n",
    "    bootstrap_conf_level = 0.95  # уровень значимости\n",
    "):\n",
    "    boot_data = []\n",
    "    boot_len = max(len(data_column_1), len(data_column_2))\n",
    "    for i in tqdm(range(boot_it)):  # извлекаем подвыборки\n",
    "        samples_1 = data_column_1.sample(\n",
    "            boot_len, \n",
    "            replace=True  # параметр возвращения\n",
    "        ).values\n",
    "        \n",
    "        samples_2 = data_column_2.sample(\n",
    "            boot_len, \n",
    "            replace=True\n",
    "        ).values\n",
    "        \n",
    "        boot_data.append(statistic(samples_1) - statistic(samples_2))  # mean() - применяем статистику\n",
    "        \n",
    "    pd_boot_data = pd.DataFrame(boot_data)\n",
    "        \n",
    "    left_quant = (1 - bootstrap_conf_level) / 2\n",
    "    right_quant = 1 - (1 - bootstrap_conf_level) / 2\n",
    "    quants = pd_boot_data.quantile([left_quant, right_quant])\n",
    "        \n",
    "    p_1 = stats.norm.cdf(\n",
    "        x=0, \n",
    "        loc=np.mean(boot_data), \n",
    "        scale=np.std(boot_data)\n",
    "    )\n",
    "    p_2=stats.norm.cdf(\n",
    "        x=0, \n",
    "        loc=-np.mean(boot_data), \n",
    "        scale=np.std(boot_data)\n",
    "    )\n",
    "    p_value = min(p_1, p_2) * 2\n",
    "        \n",
    "    # Визуализация\n",
    "    _, _, bars = plt.hist(pd_boot_data[0], bins=50)\n",
    "    for bar in bars:\n",
    "        if bar.get_x() <= quants.iloc[0][0] or bar.get_x() >= quants.iloc[1][0]:\n",
    "            bar.set_facecolor('red')\n",
    "        else: \n",
    "            bar.set_facecolor('grey')\n",
    "            bar.set_edgecolor('black')\n",
    "    \n",
    "    plt.style.use('ggplot')\n",
    "    plt.vlines(quants, ymin=0, ymax=50, linestyle='--')\n",
    "    plt.xlabel('boot_data')\n",
    "    plt.ylabel('frequency')\n",
    "    plt.title(\"Histogram of boot_data\")\n",
    "    plt.show()\n",
    "       \n",
    "    return {\"boot_data\": boot_data, \n",
    "            \"quants\": quants, \n",
    "            \"p_value\": p_value}"
   ]
  },
  {
   "cell_type": "markdown",
   "metadata": {},
   "source": [
    "**ГИПОТЕЗЫ**\n",
    "- H0: метрика в группах статистически значимо не изменилась (p > 0,05)\n",
    "- H1: метрика в группах различна (p < 0,05)"
   ]
  },
  {
   "cell_type": "markdown",
   "metadata": {},
   "source": [
    "**CR**"
   ]
  },
  {
   "cell_type": "code",
   "execution_count": 46,
   "metadata": {},
   "outputs": [
    {
     "data": {
      "application/vnd.jupyter.widget-view+json": {
       "model_id": "a3ca2c769da346a89f859de3614e1afc",
       "version_major": 2,
       "version_minor": 0
      },
      "text/plain": [
       "  0%|          | 0/10000 [00:00<?, ?it/s]"
      ]
     },
     "metadata": {},
     "output_type": "display_data"
    },
    {
     "data": {
      "image/png": "[encoded data removed]",
      "text/plain": [
       "<Figure size 432x288 with 1 Axes>"
      ]
     },
     "metadata": {},
     "output_type": "display_data"
    }
   ],
   "source": [
    "booted_CR = get_bootstrap(df.query(\"activity > 0 and grp == 'A'\").pay_flag, \n",
    "                          df.query(\"activity > 0 and grp == 'B'\").pay_flag)"
   ]
  },
  {
   "cell_type": "code",
   "execution_count": 47,
   "metadata": {},
   "outputs": [
    {
     "data": {
      "text/plain": [
       "0.2123384833126012"
      ]
     },
     "execution_count": 47,
     "metadata": {},
     "output_type": "execute_result"
    }
   ],
   "source": [
    "booted_CR[\"p_value\"]"
   ]
  },
  {
   "cell_type": "code",
   "execution_count": 48,
   "metadata": {},
   "outputs": [
    {
     "data": {
      "text/html": [
       "<div>\n",
       "<style scoped>\n",
       "    .dataframe tbody tr th:only-of-type {\n",
       "        vertical-align: middle;\n",
       "    }\n",
       "\n",
       "    .dataframe tbody tr th {\n",
       "        vertical-align: top;\n",
       "    }\n",
       "\n",
       "    .dataframe thead th {\n",
       "        text-align: right;\n",
       "    }\n",
       "</style>\n",
       "<table border=\"1\" class=\"dataframe\">\n",
       "  <thead>\n",
       "    <tr style=\"text-align: right;\">\n",
       "      <th></th>\n",
       "      <th>0</th>\n",
       "    </tr>\n",
       "  </thead>\n",
       "  <tbody>\n",
       "    <tr>\n",
       "      <th>0.025</th>\n",
       "      <td>-0.002646</td>\n",
       "    </tr>\n",
       "    <tr>\n",
       "      <th>0.975</th>\n",
       "      <td>0.011907</td>\n",
       "    </tr>\n",
       "  </tbody>\n",
       "</table>\n",
       "</div>"
      ],
      "text/plain": [
       "              0\n",
       "0.025 -0.002646\n",
       "0.975  0.011907"
      ]
     },
     "execution_count": 48,
     "metadata": {},
     "output_type": "execute_result"
    }
   ],
   "source": [
    "booted_CR[\"quants\"]  # ДИ"
   ]
  },
  {
   "cell_type": "markdown",
   "metadata": {},
   "source": [
    "Так как p_value > 0.05, мы не можем отвергнуть нулевую гипотезу о том, что **статистически значимых различий конверсии CR между двумя группами нет.**"
   ]
  },
  {
   "cell_type": "markdown",
   "metadata": {},
   "source": [
    "**ARPU**"
   ]
  },
  {
   "cell_type": "code",
   "execution_count": 49,
   "metadata": {},
   "outputs": [
    {
     "data": {
      "application/vnd.jupyter.widget-view+json": {
       "model_id": "6dd8714d6b72480c9c440439f422e343",
       "version_major": 2,
       "version_minor": 0
      },
      "text/plain": [
       "  0%|          | 0/10000 [00:00<?, ?it/s]"
      ]
     },
     "metadata": {},
     "output_type": "display_data"
    },
    {
     "data": {
      "image/png": "[encoded data removed]",
      "text/plain": [
       "<Figure size 432x288 with 1 Axes>"
      ]
     },
     "metadata": {},
     "output_type": "display_data"
    }
   ],
   "source": [
    "booted_ARPU = get_bootstrap(df.query(\"activity > 0 and grp == 'A'\").rev, \n",
    "                            df.query(\"activity > 0 and grp == 'B'\").rev)"
   ]
  },
  {
   "cell_type": "code",
   "execution_count": 50,
   "metadata": {},
   "outputs": [
    {
     "data": {
      "text/plain": [
       "0.03582858379499591"
      ]
     },
     "execution_count": 50,
     "metadata": {},
     "output_type": "execute_result"
    }
   ],
   "source": [
    "booted_ARPU[\"p_value\"]"
   ]
  },
  {
   "cell_type": "code",
   "execution_count": 51,
   "metadata": {},
   "outputs": [
    {
     "data": {
      "text/html": [
       "<div>\n",
       "<style scoped>\n",
       "    .dataframe tbody tr th:only-of-type {\n",
       "        vertical-align: middle;\n",
       "    }\n",
       "\n",
       "    .dataframe tbody tr th {\n",
       "        vertical-align: top;\n",
       "    }\n",
       "\n",
       "    .dataframe thead th {\n",
       "        text-align: right;\n",
       "    }\n",
       "</style>\n",
       "<table border=\"1\" class=\"dataframe\">\n",
       "  <thead>\n",
       "    <tr style=\"text-align: right;\">\n",
       "      <th></th>\n",
       "      <th>0</th>\n",
       "    </tr>\n",
       "  </thead>\n",
       "  <tbody>\n",
       "    <tr>\n",
       "      <th>0.025</th>\n",
       "      <td>-21.058838</td>\n",
       "    </tr>\n",
       "    <tr>\n",
       "      <th>0.975</th>\n",
       "      <td>-0.706681</td>\n",
       "    </tr>\n",
       "  </tbody>\n",
       "</table>\n",
       "</div>"
      ],
      "text/plain": [
       "               0\n",
       "0.025 -21.058838\n",
       "0.975  -0.706681"
      ]
     },
     "execution_count": 51,
     "metadata": {},
     "output_type": "execute_result"
    }
   ],
   "source": [
    "booted_ARPU[\"quants\"]  # ДИ - не пересекает 0"
   ]
  },
  {
   "cell_type": "markdown",
   "metadata": {},
   "source": [
    "Получили p < 0.05, что означает, что есть основания **отвергнуть нулевую гипотезу** о том, что статистически значимых различий ARPU между двумя группами нет."
   ]
  },
  {
   "cell_type": "markdown",
   "metadata": {},
   "source": [
    "**ARPPU**"
   ]
  },
  {
   "cell_type": "code",
   "execution_count": 52,
   "metadata": {},
   "outputs": [
    {
     "data": {
      "application/vnd.jupyter.widget-view+json": {
       "model_id": "f4cb07a530ac4f94a575c4bdcc46d388",
       "version_major": 2,
       "version_minor": 0
      },
      "text/plain": [
       "  0%|          | 0/10000 [00:00<?, ?it/s]"
      ]
     },
     "metadata": {},
     "output_type": "display_data"
    },
    {
     "data": {
      "image/png": "[encoded data removed]",
      "text/plain": [
       "<Figure size 432x288 with 1 Axes>"
      ]
     },
     "metadata": {},
     "output_type": "display_data"
    }
   ],
   "source": [
    "booted_ARPPU = get_bootstrap(df.query(\"rev > 0 and grp == 'A'\").rev, \n",
    "                             df.query(\"rev > 0 and grp == 'B'\").rev)"
   ]
  },
  {
   "cell_type": "code",
   "execution_count": 53,
   "metadata": {},
   "outputs": [
    {
     "data": {
      "text/plain": [
       "1.9016621771063018e-06"
      ]
     },
     "execution_count": 53,
     "metadata": {},
     "output_type": "execute_result"
    }
   ],
   "source": [
    "booted_ARPPU[\"p_value\"]"
   ]
  },
  {
   "cell_type": "code",
   "execution_count": 54,
   "metadata": {},
   "outputs": [
    {
     "data": {
      "text/html": [
       "<div>\n",
       "<style scoped>\n",
       "    .dataframe tbody tr th:only-of-type {\n",
       "        vertical-align: middle;\n",
       "    }\n",
       "\n",
       "    .dataframe tbody tr th {\n",
       "        vertical-align: top;\n",
       "    }\n",
       "\n",
       "    .dataframe thead th {\n",
       "        text-align: right;\n",
       "    }\n",
       "</style>\n",
       "<table border=\"1\" class=\"dataframe\">\n",
       "  <thead>\n",
       "    <tr style=\"text-align: right;\">\n",
       "      <th></th>\n",
       "      <th>0</th>\n",
       "    </tr>\n",
       "  </thead>\n",
       "  <tbody>\n",
       "    <tr>\n",
       "      <th>0.025</th>\n",
       "      <td>-453.287354</td>\n",
       "    </tr>\n",
       "    <tr>\n",
       "      <th>0.975</th>\n",
       "      <td>-188.116332</td>\n",
       "    </tr>\n",
       "  </tbody>\n",
       "</table>\n",
       "</div>"
      ],
      "text/plain": [
       "                0\n",
       "0.025 -453.287354\n",
       "0.975 -188.116332"
      ]
     },
     "execution_count": 54,
     "metadata": {},
     "output_type": "execute_result"
    }
   ],
   "source": [
    "booted_ARPPU[\"quants\"]  # ДИ"
   ]
  },
  {
   "cell_type": "markdown",
   "metadata": {},
   "source": [
    "Получили p < 0.05, что означает, что есть основания **отвергнуть нулевую гипотезу** о том, что статистически значимых различий ARPPU между двумя группами нет."
   ]
  },
  {
   "cell_type": "markdown",
   "metadata": {},
   "source": [
    "### 4. Стоит ли запускать новую механику на всех пользователей?\n",
    "\n",
    "Измерив три метрики, получили ухудшение значений CR и улучшение значений ARPU и ARPPU в целевой группе.\n",
    "\n",
    "Далее, проведя тестирование методом бутстрап, выяснилось, что ухудшение значений CR не является статистически значимым, а улучшение двух других метрик статистически значимо.\n",
    "\n",
    "**Таким образом, можно рекомендовать запускать новую механику оплаты на всех пользователей!**"
   ]
  },
  {
   "cell_type": "markdown",
   "metadata": {},
   "source": [
    "# SQL\n",
    "\n",
    "## Очень усердные ученики\n",
    "\n",
    "### Условие\n",
    "\n",
    "Образовательные курсы состоят из различных уроков, каждый из которых состоит из нескольких маленьких заданий. Каждое такое маленькое задание называется \"горошиной\".\n",
    "\n",
    "Назовём очень усердным учеником того пользователя, который хотя бы раз за текущий месяц правильно решил 20 горошин.\n",
    "\n",
    "### Задача\n",
    "\n",
    "Дана таблица `default.peas`:\n",
    "\n",
    "- `st_id` - ID ученика\n",
    "- `timest` - Время решения карточки\n",
    "- `correct` - Правильно ли решена горошина?\n",
    "- `subject` - Дисциплина, в которой находится горошина\n",
    "\n",
    "Необходимо написать оптимальный запрос, который даст информацию о количестве очень усердных студентов.\n",
    "\n",
    "Под усердным студентом мы понимаем студента, который правильно решил 20 задач за текущий месяц."
   ]
  },
  {
   "cell_type": "code",
   "execution_count": 55,
   "metadata": {},
   "outputs": [],
   "source": [
    "connection_default = {'host': 'http://clickhouse.beslan.pro:8080',\n",
    "                      'database': 'default',\n",
    "                      'user': 'student', \n",
    "                      'password': 'dpo_python_2020' \n",
    "                      }"
   ]
  },
  {
   "cell_type": "markdown",
   "metadata": {},
   "source": [
    "Сначала узнаем, каком именно месяц - \"текущий\". Для этого посмотрим какие месяцы представлены в таблице:"
   ]
  },
  {
   "cell_type": "code",
   "execution_count": 56,
   "metadata": {},
   "outputs": [
    {
     "data": {
      "text/html": [
       "<div>\n",
       "<style scoped>\n",
       "    .dataframe tbody tr th:only-of-type {\n",
       "        vertical-align: middle;\n",
       "    }\n",
       "\n",
       "    .dataframe tbody tr th {\n",
       "        vertical-align: top;\n",
       "    }\n",
       "\n",
       "    .dataframe thead th {\n",
       "        text-align: right;\n",
       "    }\n",
       "</style>\n",
       "<table border=\"1\" class=\"dataframe\">\n",
       "  <thead>\n",
       "    <tr style=\"text-align: right;\">\n",
       "      <th></th>\n",
       "      <th>month</th>\n",
       "    </tr>\n",
       "  </thead>\n",
       "  <tbody>\n",
       "    <tr>\n",
       "      <th>0</th>\n",
       "      <td>2021-10-01</td>\n",
       "    </tr>\n",
       "  </tbody>\n",
       "</table>\n",
       "</div>"
      ],
      "text/plain": [
       "       month\n",
       "0 2021-10-01"
      ]
     },
     "execution_count": 56,
     "metadata": {},
     "output_type": "execute_result"
    }
   ],
   "source": [
    "q = '''\n",
    "    SELECT DISTINCT toStartOfMonth(timest) as month       \n",
    "    FROM peas\n",
    "    '''\n",
    "df_0 = ph.read_clickhouse(query=q, connection=connection_default) \n",
    "df_0"
   ]
  },
  {
   "cell_type": "markdown",
   "metadata": {},
   "source": [
    "Оказалось, что в таблице один, необходимый нам месяц, поэтому можно не задавать специальное условие для текущего месяца.\n",
    "\n",
    "Тогда запрос будет выглядеть так:"
   ]
  },
  {
   "cell_type": "code",
   "execution_count": 57,
   "metadata": {
    "scrolled": true
   },
   "outputs": [
    {
     "data": {
      "text/html": [
       "<div>\n",
       "<style scoped>\n",
       "    .dataframe tbody tr th:only-of-type {\n",
       "        vertical-align: middle;\n",
       "    }\n",
       "\n",
       "    .dataframe tbody tr th {\n",
       "        vertical-align: top;\n",
       "    }\n",
       "\n",
       "    .dataframe thead th {\n",
       "        text-align: right;\n",
       "    }\n",
       "</style>\n",
       "<table border=\"1\" class=\"dataframe\">\n",
       "  <thead>\n",
       "    <tr style=\"text-align: right;\">\n",
       "      <th></th>\n",
       "      <th>success_studs</th>\n",
       "    </tr>\n",
       "  </thead>\n",
       "  <tbody>\n",
       "    <tr>\n",
       "      <th>0</th>\n",
       "      <td>136</td>\n",
       "    </tr>\n",
       "  </tbody>\n",
       "</table>\n",
       "</div>"
      ],
      "text/plain": [
       "   success_studs\n",
       "0            136"
      ]
     },
     "execution_count": 57,
     "metadata": {},
     "output_type": "execute_result"
    }
   ],
   "source": [
    "q = '''\n",
    "    SELECT COUNT(st_id) AS success_studs\n",
    "    FROM\n",
    "        (\n",
    "        SELECT\n",
    "            st_id,\n",
    "            SUM(correct) AS tasks\n",
    "        FROM peas\n",
    "        GROUP BY st_id\n",
    "        HAVING tasks >= 20\n",
    "        ORDER BY tasks DESC\n",
    "        )\n",
    "    '''\n",
    "df_1 = ph.read_clickhouse(query=q, connection=connection_default) \n",
    "df_1"
   ]
  },
  {
   "cell_type": "markdown",
   "metadata": {},
   "source": [
    "**Количество очень усердных студентов - 136.**"
   ]
  },
  {
   "cell_type": "markdown",
   "metadata": {},
   "source": [
    "## Оптимизация воронки\n",
    "\n",
    "### Условие\n",
    "\n",
    "Дана таблицы `default.peas` (см. выше), `default.studs`:\n",
    "- `st_id` - ID ученика\n",
    "- `test_grp` -  Метка ученика в данном эксперименте\n",
    "\n",
    "и `default.final_project_check`:\n",
    "\n",
    "- `st_id` - ID ученика\n",
    "- `sale_time` - Время покупки\n",
    "- `money` - Цена, по которой приобрели данный курс\n",
    "- `subject`\n",
    "\n",
    "### Задача\n",
    "\n",
    "Необходимо в одном запросе выгрузить следующую информацию о группах пользователей:\n",
    "\n",
    "1. ARPU\n",
    "2. ARPAU\n",
    "3. CR в покупку\n",
    "4. СR активного пользователя в покупку\n",
    "5. CR пользователя из активности по математике (subject = ’math’) в покупку курса по математике\n",
    "\n",
    "ARPU считается относительно всех пользователей, попавших в группы\n",
    "\n",
    "Активным считается пользователь, за все время решивший больше 10 задач правильно в любых дисциплинах.\n",
    "\n",
    "Активным по математике считается пользователь, за все время решивший 2 или больше задач правильно по математике.\n",
    "\n",
    "Все данные находятся в табличном виде в ClickHouse.\n"
   ]
  },
  {
   "cell_type": "code",
   "execution_count": 58,
   "metadata": {},
   "outputs": [
    {
     "data": {
      "text/html": [
       "<div>\n",
       "<style scoped>\n",
       "    .dataframe tbody tr th:only-of-type {\n",
       "        vertical-align: middle;\n",
       "    }\n",
       "\n",
       "    .dataframe tbody tr th {\n",
       "        vertical-align: top;\n",
       "    }\n",
       "\n",
       "    .dataframe thead th {\n",
       "        text-align: right;\n",
       "    }\n",
       "</style>\n",
       "<table border=\"1\" class=\"dataframe\">\n",
       "  <thead>\n",
       "    <tr style=\"text-align: right;\">\n",
       "      <th></th>\n",
       "      <th>test_grp</th>\n",
       "      <th>ARPU</th>\n",
       "      <th>ARPAU</th>\n",
       "      <th>CR</th>\n",
       "      <th>CR_active</th>\n",
       "      <th>CR_active_math</th>\n",
       "    </tr>\n",
       "  </thead>\n",
       "  <tbody>\n",
       "    <tr>\n",
       "      <th>0</th>\n",
       "      <td>control</td>\n",
       "      <td>4541.0</td>\n",
       "      <td>10393.7</td>\n",
       "      <td>4.92</td>\n",
       "      <td>11.02</td>\n",
       "      <td>6.12</td>\n",
       "    </tr>\n",
       "    <tr>\n",
       "      <th>1</th>\n",
       "      <td>pilot</td>\n",
       "      <td>11508.5</td>\n",
       "      <td>29739.6</td>\n",
       "      <td>10.85</td>\n",
       "      <td>26.04</td>\n",
       "      <td>9.52</td>\n",
       "    </tr>\n",
       "  </tbody>\n",
       "</table>\n",
       "</div>"
      ],
      "text/plain": [
       "  test_grp     ARPU    ARPAU     CR  CR_active  CR_active_math\n",
       "0  control   4541.0  10393.7   4.92      11.02            6.12\n",
       "1    pilot  11508.5  29739.6  10.85      26.04            9.52"
      ]
     },
     "execution_count": 58,
     "metadata": {},
     "output_type": "execute_result"
    }
   ],
   "source": [
    "q = '''\n",
    "    SELECT \n",
    "        b.test_grp AS test_grp,\n",
    "        ROUND(SUM(c.money)/uniq(b.st_id), 1) AS ARPU,\n",
    "        ROUND(SUM(CASE WHEN a.tasks > 10 THEN c.money END)/uniq(CASE WHEN a.tasks > 10 THEN b.st_id END), 1) AS ARPAU,\n",
    "        ROUND(100*uniq(CASE WHEN c.money > 0 THEN b.st_id END)/uniq(b.st_id), 2) AS CR,\n",
    "        ROUND(100*uniq(CASE WHEN c.money > 0 AND a.tasks > 10 THEN b.st_id END)/\n",
    "            uniq(CASE WHEN a.tasks > 10 THEN b.st_id END), 2) AS CR_active,\n",
    "        ROUND(100*uniq(CASE WHEN c.money > 0 AND subject = 'Math' AND a.math_tasks > 2 THEN b.st_id END)/\n",
    "            uniq(CASE WHEN a.math_tasks >= 2 THEN b.st_id END), 2) AS CR_active_math\n",
    "    FROM\n",
    "        (\n",
    "        SELECT\n",
    "            st_id,\n",
    "            SUM(correct) AS tasks,\n",
    "            SUM(CASE WHEN subject == 'Math' THEN correct END) AS math_tasks\n",
    "        FROM peas\n",
    "        GROUP BY st_id\n",
    "        ) AS a\n",
    "        FULL JOIN studs AS b ON a.st_id = b.st_id\n",
    "        FULL JOIN final_project_check AS c ON b.st_id = c.st_id\n",
    "    GROUP BY test_grp\n",
    "    '''\n",
    "df_2 = ph.read_clickhouse(q, connection=connection_default)\n",
    "df_2"
   ]
  },
  {
   "cell_type": "markdown",
   "metadata": {},
   "source": [
    "# Python\n",
    "### Задача\n",
    "1. Реализуйте функцию, которая будет автоматически подгружать информацию из дополнительного файла groups_add.csv (заголовки могут отличаться) и на основании дополнительных параметров пересчитывать метрики.\n",
    "2. Реализуйте функцию, которая будет строить графики по получаемым метрикам."
   ]
  },
  {
   "cell_type": "markdown",
   "metadata": {},
   "source": [
    "### 1. Метрики\n",
    "\n",
    "**Реализация**\n",
    "\n",
    "Что должно поступать на вход?\n",
    "\n",
    "- Исходные данные: таблицы groups, active_studs, checks. Они будут являться аргументами по умолчанию. То есть, во время вызова функции в аргументах вместо каждого можно подставить другой файл с данными, либо вообще не писать их в аргументах - тогда считаются те, что есть в коде до вызова функции.\n",
    "\n",
    "- Ссылка или файл с дополнительными данными (тоже аргумент по умолчанию): если последним аргументом введена ссылка, то файл будет считываться через API; если последний аргумент во время вызова функции не введен и в корневой папке лежит файл с доп. данными, то он будет считываться оттуда.\n",
    "\n",
    "ВАЖНО: *файл должен лежать в той же папке, где находится этот код!*\n",
    "\n",
    "**Функцию можно вызывать без аргументов - в таком случае исходные данные должны быть прописаны выше в коде, а в корневой папке должен лежать файл с доп. данными.**\n",
    "\n",
    "Что будет на выходе?\n",
    "\n",
    "- Функция будет возвращать датафрейм с метриками, аналогичиный датафрейму metrics из шага 42, и содержащий в себе: столбцы с названиями групп, CR, CR в %, ARPU, ARPPU."
   ]
  },
  {
   "cell_type": "code",
   "execution_count": 59,
   "metadata": {},
   "outputs": [],
   "source": [
    "def update_metrics(groups=groups, active_studs=active_studs, checks=checks, link=\"\"):\n",
    "    \n",
    "#     # библиотеки (на всякий случай)\n",
    "#     import pandas as pd\n",
    "#     import requests\n",
    "#     from urllib.parse import urlencode\n",
    "\n",
    "    # подгружаем groups_add\n",
    "    if len(link) > 0:\n",
    "        # через API\n",
    "        base_url = 'https://cloud-api.yandex.net/v1/disk/public/resources/download?' \n",
    "        download_url_add = requests.get(base_url + urlencode(dict(public_key=link))).json()['href']\n",
    "        groups_add = pd.read_csv(download_url_add)\n",
    "    \n",
    "    else:\n",
    "        # через файл\n",
    "        groups_add = pd.read_csv('group_add.csv')\n",
    "    \n",
    "    # флаг для определения активных студентов (на всякий случай - если нет в коде)\n",
    "    active_studs['activity'] = 1\n",
    "    \n",
    "    # объединяем данные\n",
    "    groups_full = pd.concat([groups, groups_add]).rename(columns={'id': 'student_id'}).reset_index(drop=True)\n",
    "    df = groups_full.merge(active_studs, on='student_id', how='left').fillna(0) \\\n",
    "        .merge(checks, how='left').fillna(0).reset_index(drop=True)\n",
    "    \n",
    "    # удалим студентов с \"автоплатежом\"\n",
    "    df_to_del = df.query('activity == 0 and rev > 0')\n",
    "    df = pd.concat([df, df_to_del]).drop_duplicates(keep=False)\n",
    "    \n",
    "    # добавим флаг с фактом оплаты пользователем (1 - производил оплату, 0 - не платил)\n",
    "    df['pay_flag'] = (df.rev > 0) * 1\n",
    "    \n",
    "    # посчитаем метрики\n",
    "    CR = df[df.activity > 0].groupby('grp', as_index=False).agg(CR=('pay_flag', 'mean'))\n",
    "    CR['CR, %'] = CR.CR * 100\n",
    "    ARPU = df[df.activity > 0].groupby('grp', as_index=False).agg(ARPU=('rev', 'mean'))\n",
    "    ARPPU = df[df.rev > 0].groupby('grp', as_index=False).agg(ARPPU=('rev', 'mean'))\n",
    "    \n",
    "    # сформируем общий датафрейм с метриками\n",
    "    metrics = CR.merge(ARPU).merge(ARPPU)\n",
    "    \n",
    "    return metrics"
   ]
  },
  {
   "cell_type": "markdown",
   "metadata": {},
   "source": [
    "Проверим работу функции. \n",
    "\n",
    "Ссылку на доп. файл указывать не будем, так как он лежит в этой же папке. Исходные данные прописаны выше в коде - их тоже не будем указывать. Вызовем функцию без аргументов."
   ]
  },
  {
   "cell_type": "code",
   "execution_count": 60,
   "metadata": {
    "scrolled": false
   },
   "outputs": [
    {
     "data": {
      "text/html": [
       "<div>\n",
       "<style scoped>\n",
       "    .dataframe tbody tr th:only-of-type {\n",
       "        vertical-align: middle;\n",
       "    }\n",
       "\n",
       "    .dataframe tbody tr th {\n",
       "        vertical-align: top;\n",
       "    }\n",
       "\n",
       "    .dataframe thead th {\n",
       "        text-align: right;\n",
       "    }\n",
       "</style>\n",
       "<table border=\"1\" class=\"dataframe\">\n",
       "  <thead>\n",
       "    <tr style=\"text-align: right;\">\n",
       "      <th></th>\n",
       "      <th>grp</th>\n",
       "      <th>CR</th>\n",
       "      <th>CR, %</th>\n",
       "      <th>ARPU</th>\n",
       "      <th>ARPPU</th>\n",
       "    </tr>\n",
       "  </thead>\n",
       "  <tbody>\n",
       "    <tr>\n",
       "      <th>0</th>\n",
       "      <td>A</td>\n",
       "      <td>0.050715</td>\n",
       "      <td>5.071521</td>\n",
       "      <td>47.347204</td>\n",
       "      <td>933.589744</td>\n",
       "    </tr>\n",
       "    <tr>\n",
       "      <th>1</th>\n",
       "      <td>B</td>\n",
       "      <td>0.046156</td>\n",
       "      <td>4.615611</td>\n",
       "      <td>58.058798</td>\n",
       "      <td>1257.878992</td>\n",
       "    </tr>\n",
       "  </tbody>\n",
       "</table>\n",
       "</div>"
      ],
      "text/plain": [
       "  grp        CR     CR, %       ARPU        ARPPU\n",
       "0   A  0.050715  5.071521  47.347204   933.589744\n",
       "1   B  0.046156  4.615611  58.058798  1257.878992"
      ]
     },
     "execution_count": 60,
     "metadata": {},
     "output_type": "execute_result"
    }
   ],
   "source": [
    "update_metrics()"
   ]
  },
  {
   "cell_type": "markdown",
   "metadata": {},
   "source": [
    "### 2. Графики\n",
    "\n",
    "**Реализация**\n",
    "\n",
    "Что должно поступать на вход?\n",
    "\n",
    "- Датафрейм с метриками, аналогичный датафрейму на выходе предыдущей функции.\n",
    "\n",
    "Что будет на выходе?\n",
    "\n",
    "- Ничего, так как в теле функции будут строиться 4 барплота, отображающие метрики CR, CR в %, ARPU, ARPPU в группах A и B."
   ]
  },
  {
   "cell_type": "code",
   "execution_count": 61,
   "metadata": {},
   "outputs": [],
   "source": [
    "def plots(metric):\n",
    "    \n",
    "    # библиотека (на всякий случай)\n",
    "    import seaborn as sns\n",
    "    \n",
    "    fig, axs = plt.subplots(2, 2, figsize=(15, 12))\n",
    "    sns.barplot(data=metric, x='grp', y='CR', ax=axs[0, 0])\n",
    "    axs[0, 0].set_title('CR')  \n",
    "    sns.barplot(data=metric, x='grp', y='CR, %', ax=axs[0, 1])\n",
    "    axs[0, 1].set_title('CR, %')  \n",
    "    sns.barplot(data=metric, x='grp', y='ARPU', ax=axs[1, 0])\n",
    "    axs[1, 0].set_title('ARPU')\n",
    "    sns.barplot(data=metric, x='grp', y='ARPPU', ax=axs[1, 1])\n",
    "    axs[1, 1].set_title('ARPPU')\n",
    "    \n",
    "    return"
   ]
  },
  {
   "cell_type": "code",
   "execution_count": 62,
   "metadata": {},
   "outputs": [
    {
     "data": {
      "image/png": "[encoded data removed]",
      "text/plain": [
       "<Figure size 1080x864 with 4 Axes>"
      ]
     },
     "metadata": {},
     "output_type": "display_data"
    }
   ],
   "source": [
    "plots(metrics)"
   ]
  },
  {
   "cell_type": "code",
   "execution_count": null,
   "metadata": {},
   "outputs": [],
   "source": []
  }
 ],
 "metadata": {
  "kernelspec": {
   "display_name": "Python 3",
   "language": "python",
   "name": "python3"
  },
  "language_info": {
   "codemirror_mode": {
    "name": "ipython",
    "version": 3
   },
   "file_extension": ".py",
   "mimetype": "text/x-python",
   "name": "python",
   "nbconvert_exporter": "python",
   "pygments_lexer": "ipython3",
   "version": "3.7.3"
  }
 },
 "nbformat": 4,
 "nbformat_minor": 4
}
