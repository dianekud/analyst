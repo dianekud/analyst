{
 "cells": [
  {
   "cell_type": "markdown",
   "metadata": {},
   "source": [
    "# Вариант 2\n",
    "## Проект e-learning\n",
    "Продакт-менеджер Василий попросил вас проанализировать завершенные уроки и ответить на следующие вопросы:\n",
    "\n",
    "1. Сколько студентов успешно сдали только один курс? (Успешная сдача — это зачёт по курсу на экзамене) **(7 баллов)**.\n",
    "\n",
    "2. Выяви самый сложный и самый простой экзамен: \n",
    "найди курсы и экзамены в рамках курса, которые обладают самой низкой и самой высокой завершаемостью. **(10 баллов)**\n",
    "\n",
    "3. По каждому предмету определи средний срок сдачи экзаменов \n",
    "(под сдачей понимаем последнее успешное прохождение экзамена студентом). **(7 баллов)**\n",
    "\n",
    "4. Выяви самые популярные предметы (ТОП-3) по количеству регистраций на них. \n",
    "А также предметы с самым большим оттоком (ТОП-3). **(8 баллов)**\n",
    "\n",
    "5. Используя pandas, в период с начала 2013 по конец 2014 выяви семестр с самой низкой \n",
    "завершаемостью курсов и самыми долгими средними сроками сдачи курсов.  **(15 баллов)** \n",
    "\n",
    "6. Часто для качественного анализа аудитории используют подходы, \n",
    "основанные на сегментации. Используя python, построй адаптированные RFM-кластеры студентов, \n",
    "чтобы качественно оценить свою аудиторию. В адаптированной кластеризации можешь выбрать следующие метрики: \n",
    "R - среднее время сдачи одного экзамена, F - завершаемость курсов, M - среднее количество баллов, получаемое за экзамен. \n",
    "Подробно опиши, как ты создавала кластеры. \n",
    "Для каждого RFM-сегмента построй границы метрик recency, frequency и monetary для интерпретации этих кластеров. **(23 баллов)**\n",
    "\n",
    "Для решения задачи проведи предварительное исследование данных и сформулируй, что должно считаться курсом. \n",
    "Обосновать свой выбор ты можешь с помощью фактов сдачи экзаменов, распределения студентов и уникального идентефикатора курса."
   ]
  },
  {
   "cell_type": "code",
   "execution_count": 1,
   "metadata": {},
   "outputs": [],
   "source": [
    "import pandas as pd\n",
    "import requests\n",
    "from urllib.parse import urlencode\n",
    "# !pip install pandas_profiling --upgrade\n",
    "# from pandas_profiling import ProfileReport\n",
    "\n",
    "import seaborn as sns\n",
    "import matplotlib.pyplot as plt\n",
    "%matplotlib inline"
   ]
  },
  {
   "cell_type": "code",
   "execution_count": 2,
   "metadata": {},
   "outputs": [],
   "source": [
    "# считывание данных с помощью api\n",
    "base_url = 'https://cloud-api.yandex.net/v1/disk/public/resources/download?' \n",
    "public_key = ['https://disk.yandex.ru/d/iSVP1sZ7AdW7TQ',\n",
    "              'https://disk.yandex.ru/d/jmJxR8yhwCXlaw',\n",
    "              'https://disk.yandex.ru/d/DYd4M5b_8RETsA',\n",
    "              'https://disk.yandex.ru/d/lqHnH8NOZ458iw']\n",
    "\n",
    "assessments = pd.DataFrame()\n",
    "courses = pd.DataFrame()\n",
    "studentAssessment = pd.DataFrame()\n",
    "studentRegistration = pd.DataFrame()\n",
    "df = ['assessments', 'courses', 'studentAssessment', 'studentRegistration']\n",
    "\n",
    "for i, j in zip(public_key, df):\n",
    "    final_url = base_url + urlencode(dict(public_key=i)) \n",
    "    response = requests.get(final_url) \n",
    "    download_url = response.json()['href'] \n",
    "    locals()[j] = pd.read_csv(download_url)"
   ]
  },
  {
   "cell_type": "markdown",
   "metadata": {},
   "source": [
    "## Посмотрим на данные подробнее, проведем предварительный анализ данных."
   ]
  },
  {
   "cell_type": "markdown",
   "metadata": {},
   "source": [
    "**assessments.csv** — этот файл содержит информацию об оценках в тесте.\n",
    "\n",
    "Обычно каждый предмет в семестре включает ряд тестов с оценками, \n",
    "за которыми следует заключительный экзаменационный тест (экзамен).\n",
    "\n",
    "`code_module` — идентификационный код предмета.\n",
    "\n",
    "`code_presentation` — семестр (Идентификационный код).\n",
    "\n",
    "`id_assessment` — тест (Идентификационный номер ассессмента).\n",
    "\n",
    "`assessment_type` — тип теста. \n",
    "Существуют три типа оценивания: оценка преподавателя (TMA), компьютерная оценка (СМА), экзамен по курсу (Exam).\n",
    "\n",
    "`date` — информация об окончательной дате сдачи теста. \n",
    "Рассчитывается как количество дней с момента начала семестра. Дата начала семестра имеет номер 0 (ноль).\n",
    "\n",
    "`weight` — вес теста в % в оценке за курс. \n",
    "Обычно экзамены рассматриваются отдельно и имеют вес 100%; сумма всех остальных оценок составляет 100%."
   ]
  },
  {
   "cell_type": "code",
   "execution_count": 3,
   "metadata": {
    "scrolled": false
   },
   "outputs": [
    {
     "data": {
      "text/html": [
       "<div>\n",
       "<style scoped>\n",
       "    .dataframe tbody tr th:only-of-type {\n",
       "        vertical-align: middle;\n",
       "    }\n",
       "\n",
       "    .dataframe tbody tr th {\n",
       "        vertical-align: top;\n",
       "    }\n",
       "\n",
       "    .dataframe thead th {\n",
       "        text-align: right;\n",
       "    }\n",
       "</style>\n",
       "<table border=\"1\" class=\"dataframe\">\n",
       "  <thead>\n",
       "    <tr style=\"text-align: right;\">\n",
       "      <th></th>\n",
       "      <th>code_module</th>\n",
       "      <th>code_presentation</th>\n",
       "      <th>id_assessment</th>\n",
       "      <th>assessment_type</th>\n",
       "      <th>date</th>\n",
       "      <th>weight</th>\n",
       "    </tr>\n",
       "  </thead>\n",
       "  <tbody>\n",
       "    <tr>\n",
       "      <th>0</th>\n",
       "      <td>AAA</td>\n",
       "      <td>2013J</td>\n",
       "      <td>1752</td>\n",
       "      <td>TMA</td>\n",
       "      <td>19.0</td>\n",
       "      <td>10.0</td>\n",
       "    </tr>\n",
       "    <tr>\n",
       "      <th>1</th>\n",
       "      <td>AAA</td>\n",
       "      <td>2013J</td>\n",
       "      <td>1753</td>\n",
       "      <td>TMA</td>\n",
       "      <td>54.0</td>\n",
       "      <td>20.0</td>\n",
       "    </tr>\n",
       "    <tr>\n",
       "      <th>2</th>\n",
       "      <td>AAA</td>\n",
       "      <td>2013J</td>\n",
       "      <td>1754</td>\n",
       "      <td>TMA</td>\n",
       "      <td>117.0</td>\n",
       "      <td>20.0</td>\n",
       "    </tr>\n",
       "    <tr>\n",
       "      <th>3</th>\n",
       "      <td>AAA</td>\n",
       "      <td>2013J</td>\n",
       "      <td>1755</td>\n",
       "      <td>TMA</td>\n",
       "      <td>166.0</td>\n",
       "      <td>20.0</td>\n",
       "    </tr>\n",
       "    <tr>\n",
       "      <th>4</th>\n",
       "      <td>AAA</td>\n",
       "      <td>2013J</td>\n",
       "      <td>1756</td>\n",
       "      <td>TMA</td>\n",
       "      <td>215.0</td>\n",
       "      <td>30.0</td>\n",
       "    </tr>\n",
       "  </tbody>\n",
       "</table>\n",
       "</div>"
      ],
      "text/plain": [
       "  code_module code_presentation  id_assessment assessment_type   date  weight\n",
       "0         AAA             2013J           1752             TMA   19.0    10.0\n",
       "1         AAA             2013J           1753             TMA   54.0    20.0\n",
       "2         AAA             2013J           1754             TMA  117.0    20.0\n",
       "3         AAA             2013J           1755             TMA  166.0    20.0\n",
       "4         AAA             2013J           1756             TMA  215.0    30.0"
      ]
     },
     "execution_count": 3,
     "metadata": {},
     "output_type": "execute_result"
    }
   ],
   "source": [
    "assessments.head()"
   ]
  },
  {
   "cell_type": "code",
   "execution_count": 4,
   "metadata": {},
   "outputs": [
    {
     "data": {
      "text/plain": [
       "0"
      ]
     },
     "execution_count": 4,
     "metadata": {},
     "output_type": "execute_result"
    }
   ],
   "source": [
    "assessments.shape[0] - assessments.drop_duplicates().shape[0]  # дубликатов нет"
   ]
  },
  {
   "cell_type": "markdown",
   "metadata": {},
   "source": [
    "Посмотрим на описательные статистики."
   ]
  },
  {
   "cell_type": "code",
   "execution_count": 5,
   "metadata": {},
   "outputs": [
    {
     "data": {
      "text/html": [
       "<div>\n",
       "<style scoped>\n",
       "    .dataframe tbody tr th:only-of-type {\n",
       "        vertical-align: middle;\n",
       "    }\n",
       "\n",
       "    .dataframe tbody tr th {\n",
       "        vertical-align: top;\n",
       "    }\n",
       "\n",
       "    .dataframe thead th {\n",
       "        text-align: right;\n",
       "    }\n",
       "</style>\n",
       "<table border=\"1\" class=\"dataframe\">\n",
       "  <thead>\n",
       "    <tr style=\"text-align: right;\">\n",
       "      <th></th>\n",
       "      <th>id_assessment</th>\n",
       "      <th>date</th>\n",
       "      <th>weight</th>\n",
       "    </tr>\n",
       "  </thead>\n",
       "  <tbody>\n",
       "    <tr>\n",
       "      <th>count</th>\n",
       "      <td>206.000000</td>\n",
       "      <td>195.000000</td>\n",
       "      <td>206.000000</td>\n",
       "    </tr>\n",
       "    <tr>\n",
       "      <th>mean</th>\n",
       "      <td>26473.975728</td>\n",
       "      <td>145.005128</td>\n",
       "      <td>20.873786</td>\n",
       "    </tr>\n",
       "    <tr>\n",
       "      <th>std</th>\n",
       "      <td>10098.625521</td>\n",
       "      <td>76.001119</td>\n",
       "      <td>30.384224</td>\n",
       "    </tr>\n",
       "    <tr>\n",
       "      <th>min</th>\n",
       "      <td>1752.000000</td>\n",
       "      <td>12.000000</td>\n",
       "      <td>0.000000</td>\n",
       "    </tr>\n",
       "    <tr>\n",
       "      <th>25%</th>\n",
       "      <td>15023.250000</td>\n",
       "      <td>71.000000</td>\n",
       "      <td>0.000000</td>\n",
       "    </tr>\n",
       "    <tr>\n",
       "      <th>50%</th>\n",
       "      <td>25364.500000</td>\n",
       "      <td>152.000000</td>\n",
       "      <td>12.500000</td>\n",
       "    </tr>\n",
       "    <tr>\n",
       "      <th>75%</th>\n",
       "      <td>34891.750000</td>\n",
       "      <td>222.000000</td>\n",
       "      <td>24.250000</td>\n",
       "    </tr>\n",
       "    <tr>\n",
       "      <th>max</th>\n",
       "      <td>40088.000000</td>\n",
       "      <td>261.000000</td>\n",
       "      <td>100.000000</td>\n",
       "    </tr>\n",
       "  </tbody>\n",
       "</table>\n",
       "</div>"
      ],
      "text/plain": [
       "       id_assessment        date      weight\n",
       "count     206.000000  195.000000  206.000000\n",
       "mean    26473.975728  145.005128   20.873786\n",
       "std     10098.625521   76.001119   30.384224\n",
       "min      1752.000000   12.000000    0.000000\n",
       "25%     15023.250000   71.000000    0.000000\n",
       "50%     25364.500000  152.000000   12.500000\n",
       "75%     34891.750000  222.000000   24.250000\n",
       "max     40088.000000  261.000000  100.000000"
      ]
     },
     "execution_count": 5,
     "metadata": {},
     "output_type": "execute_result"
    }
   ],
   "source": [
    "assessments.describe()"
   ]
  },
  {
   "cell_type": "code",
   "execution_count": 6,
   "metadata": {},
   "outputs": [
    {
     "data": {
      "text/html": [
       "<div>\n",
       "<style scoped>\n",
       "    .dataframe tbody tr th:only-of-type {\n",
       "        vertical-align: middle;\n",
       "    }\n",
       "\n",
       "    .dataframe tbody tr th {\n",
       "        vertical-align: top;\n",
       "    }\n",
       "\n",
       "    .dataframe thead th {\n",
       "        text-align: right;\n",
       "    }\n",
       "</style>\n",
       "<table border=\"1\" class=\"dataframe\">\n",
       "  <thead>\n",
       "    <tr style=\"text-align: right;\">\n",
       "      <th></th>\n",
       "      <th>code_module</th>\n",
       "      <th>code_presentation</th>\n",
       "      <th>assessment_type</th>\n",
       "    </tr>\n",
       "  </thead>\n",
       "  <tbody>\n",
       "    <tr>\n",
       "      <th>count</th>\n",
       "      <td>206</td>\n",
       "      <td>206</td>\n",
       "      <td>206</td>\n",
       "    </tr>\n",
       "    <tr>\n",
       "      <th>unique</th>\n",
       "      <td>7</td>\n",
       "      <td>4</td>\n",
       "      <td>3</td>\n",
       "    </tr>\n",
       "    <tr>\n",
       "      <th>top</th>\n",
       "      <td>FFF</td>\n",
       "      <td>2014J</td>\n",
       "      <td>TMA</td>\n",
       "    </tr>\n",
       "    <tr>\n",
       "      <th>freq</th>\n",
       "      <td>52</td>\n",
       "      <td>57</td>\n",
       "      <td>106</td>\n",
       "    </tr>\n",
       "  </tbody>\n",
       "</table>\n",
       "</div>"
      ],
      "text/plain": [
       "       code_module code_presentation assessment_type\n",
       "count          206               206             206\n",
       "unique           7                 4               3\n",
       "top            FFF             2014J             TMA\n",
       "freq            52                57             106"
      ]
     },
     "execution_count": 6,
     "metadata": {},
     "output_type": "execute_result"
    }
   ],
   "source": [
    "assessments.describe(include='object')"
   ]
  },
  {
   "cell_type": "code",
   "execution_count": 7,
   "metadata": {},
   "outputs": [
    {
     "data": {
      "text/html": [
       "<div>\n",
       "<style scoped>\n",
       "    .dataframe tbody tr th:only-of-type {\n",
       "        vertical-align: middle;\n",
       "    }\n",
       "\n",
       "    .dataframe tbody tr th {\n",
       "        vertical-align: top;\n",
       "    }\n",
       "\n",
       "    .dataframe thead th {\n",
       "        text-align: right;\n",
       "    }\n",
       "</style>\n",
       "<table border=\"1\" class=\"dataframe\">\n",
       "  <thead>\n",
       "    <tr style=\"text-align: right;\">\n",
       "      <th></th>\n",
       "      <th></th>\n",
       "      <th></th>\n",
       "      <th>weight</th>\n",
       "    </tr>\n",
       "    <tr>\n",
       "      <th>code_presentation</th>\n",
       "      <th>code_module</th>\n",
       "      <th>assessment_type</th>\n",
       "      <th></th>\n",
       "    </tr>\n",
       "  </thead>\n",
       "  <tbody>\n",
       "    <tr>\n",
       "      <th rowspan=\"9\" valign=\"top\">2013B</th>\n",
       "      <th rowspan=\"3\" valign=\"top\">BBB</th>\n",
       "      <th>CMA</th>\n",
       "      <td>5.0</td>\n",
       "    </tr>\n",
       "    <tr>\n",
       "      <th>Exam</th>\n",
       "      <td>100.0</td>\n",
       "    </tr>\n",
       "    <tr>\n",
       "      <th>TMA</th>\n",
       "      <td>95.0</td>\n",
       "    </tr>\n",
       "    <tr>\n",
       "      <th rowspan=\"3\" valign=\"top\">DDD</th>\n",
       "      <th>CMA</th>\n",
       "      <td>25.0</td>\n",
       "    </tr>\n",
       "    <tr>\n",
       "      <th>Exam</th>\n",
       "      <td>100.0</td>\n",
       "    </tr>\n",
       "    <tr>\n",
       "      <th>TMA</th>\n",
       "      <td>75.0</td>\n",
       "    </tr>\n",
       "    <tr>\n",
       "      <th rowspan=\"3\" valign=\"top\">FFF</th>\n",
       "      <th>CMA</th>\n",
       "      <td>0.0</td>\n",
       "    </tr>\n",
       "    <tr>\n",
       "      <th>Exam</th>\n",
       "      <td>100.0</td>\n",
       "    </tr>\n",
       "    <tr>\n",
       "      <th>TMA</th>\n",
       "      <td>100.0</td>\n",
       "    </tr>\n",
       "    <tr>\n",
       "      <th rowspan=\"15\" valign=\"top\">2013J</th>\n",
       "      <th rowspan=\"2\" valign=\"top\">AAA</th>\n",
       "      <th>Exam</th>\n",
       "      <td>100.0</td>\n",
       "    </tr>\n",
       "    <tr>\n",
       "      <th>TMA</th>\n",
       "      <td>100.0</td>\n",
       "    </tr>\n",
       "    <tr>\n",
       "      <th rowspan=\"3\" valign=\"top\">BBB</th>\n",
       "      <th>CMA</th>\n",
       "      <td>5.0</td>\n",
       "    </tr>\n",
       "    <tr>\n",
       "      <th>Exam</th>\n",
       "      <td>100.0</td>\n",
       "    </tr>\n",
       "    <tr>\n",
       "      <th>TMA</th>\n",
       "      <td>95.0</td>\n",
       "    </tr>\n",
       "    <tr>\n",
       "      <th rowspan=\"2\" valign=\"top\">DDD</th>\n",
       "      <th>Exam</th>\n",
       "      <td>100.0</td>\n",
       "    </tr>\n",
       "    <tr>\n",
       "      <th>TMA</th>\n",
       "      <td>100.0</td>\n",
       "    </tr>\n",
       "    <tr>\n",
       "      <th rowspan=\"2\" valign=\"top\">EEE</th>\n",
       "      <th>Exam</th>\n",
       "      <td>100.0</td>\n",
       "    </tr>\n",
       "    <tr>\n",
       "      <th>TMA</th>\n",
       "      <td>100.0</td>\n",
       "    </tr>\n",
       "    <tr>\n",
       "      <th rowspan=\"3\" valign=\"top\">FFF</th>\n",
       "      <th>CMA</th>\n",
       "      <td>0.0</td>\n",
       "    </tr>\n",
       "    <tr>\n",
       "      <th>Exam</th>\n",
       "      <td>100.0</td>\n",
       "    </tr>\n",
       "    <tr>\n",
       "      <th>TMA</th>\n",
       "      <td>100.0</td>\n",
       "    </tr>\n",
       "    <tr>\n",
       "      <th rowspan=\"3\" valign=\"top\">GGG</th>\n",
       "      <th>CMA</th>\n",
       "      <td>0.0</td>\n",
       "    </tr>\n",
       "    <tr>\n",
       "      <th>Exam</th>\n",
       "      <td>100.0</td>\n",
       "    </tr>\n",
       "    <tr>\n",
       "      <th>TMA</th>\n",
       "      <td>0.0</td>\n",
       "    </tr>\n",
       "    <tr>\n",
       "      <th rowspan=\"16\" valign=\"top\">2014B</th>\n",
       "      <th rowspan=\"3\" valign=\"top\">BBB</th>\n",
       "      <th>CMA</th>\n",
       "      <td>5.0</td>\n",
       "    </tr>\n",
       "    <tr>\n",
       "      <th>Exam</th>\n",
       "      <td>100.0</td>\n",
       "    </tr>\n",
       "    <tr>\n",
       "      <th>TMA</th>\n",
       "      <td>95.0</td>\n",
       "    </tr>\n",
       "    <tr>\n",
       "      <th rowspan=\"3\" valign=\"top\">CCC</th>\n",
       "      <th>CMA</th>\n",
       "      <td>25.0</td>\n",
       "    </tr>\n",
       "    <tr>\n",
       "      <th>Exam</th>\n",
       "      <td>200.0</td>\n",
       "    </tr>\n",
       "    <tr>\n",
       "      <th>TMA</th>\n",
       "      <td>75.0</td>\n",
       "    </tr>\n",
       "    <tr>\n",
       "      <th rowspan=\"2\" valign=\"top\">DDD</th>\n",
       "      <th>Exam</th>\n",
       "      <td>100.0</td>\n",
       "    </tr>\n",
       "    <tr>\n",
       "      <th>TMA</th>\n",
       "      <td>100.0</td>\n",
       "    </tr>\n",
       "    <tr>\n",
       "      <th rowspan=\"2\" valign=\"top\">EEE</th>\n",
       "      <th>Exam</th>\n",
       "      <td>100.0</td>\n",
       "    </tr>\n",
       "    <tr>\n",
       "      <th>TMA</th>\n",
       "      <td>100.0</td>\n",
       "    </tr>\n",
       "    <tr>\n",
       "      <th rowspan=\"3\" valign=\"top\">FFF</th>\n",
       "      <th>CMA</th>\n",
       "      <td>0.0</td>\n",
       "    </tr>\n",
       "    <tr>\n",
       "      <th>Exam</th>\n",
       "      <td>100.0</td>\n",
       "    </tr>\n",
       "    <tr>\n",
       "      <th>TMA</th>\n",
       "      <td>100.0</td>\n",
       "    </tr>\n",
       "    <tr>\n",
       "      <th rowspan=\"3\" valign=\"top\">GGG</th>\n",
       "      <th>CMA</th>\n",
       "      <td>0.0</td>\n",
       "    </tr>\n",
       "    <tr>\n",
       "      <th>Exam</th>\n",
       "      <td>100.0</td>\n",
       "    </tr>\n",
       "    <tr>\n",
       "      <th>TMA</th>\n",
       "      <td>0.0</td>\n",
       "    </tr>\n",
       "    <tr>\n",
       "      <th rowspan=\"17\" valign=\"top\">2014J</th>\n",
       "      <th rowspan=\"2\" valign=\"top\">AAA</th>\n",
       "      <th>Exam</th>\n",
       "      <td>100.0</td>\n",
       "    </tr>\n",
       "    <tr>\n",
       "      <th>TMA</th>\n",
       "      <td>100.0</td>\n",
       "    </tr>\n",
       "    <tr>\n",
       "      <th rowspan=\"2\" valign=\"top\">BBB</th>\n",
       "      <th>Exam</th>\n",
       "      <td>100.0</td>\n",
       "    </tr>\n",
       "    <tr>\n",
       "      <th>TMA</th>\n",
       "      <td>100.0</td>\n",
       "    </tr>\n",
       "    <tr>\n",
       "      <th rowspan=\"3\" valign=\"top\">CCC</th>\n",
       "      <th>CMA</th>\n",
       "      <td>25.0</td>\n",
       "    </tr>\n",
       "    <tr>\n",
       "      <th>Exam</th>\n",
       "      <td>200.0</td>\n",
       "    </tr>\n",
       "    <tr>\n",
       "      <th>TMA</th>\n",
       "      <td>75.0</td>\n",
       "    </tr>\n",
       "    <tr>\n",
       "      <th rowspan=\"2\" valign=\"top\">DDD</th>\n",
       "      <th>Exam</th>\n",
       "      <td>100.0</td>\n",
       "    </tr>\n",
       "    <tr>\n",
       "      <th>TMA</th>\n",
       "      <td>100.0</td>\n",
       "    </tr>\n",
       "    <tr>\n",
       "      <th rowspan=\"2\" valign=\"top\">EEE</th>\n",
       "      <th>Exam</th>\n",
       "      <td>100.0</td>\n",
       "    </tr>\n",
       "    <tr>\n",
       "      <th>TMA</th>\n",
       "      <td>100.0</td>\n",
       "    </tr>\n",
       "    <tr>\n",
       "      <th rowspan=\"3\" valign=\"top\">FFF</th>\n",
       "      <th>CMA</th>\n",
       "      <td>0.0</td>\n",
       "    </tr>\n",
       "    <tr>\n",
       "      <th>Exam</th>\n",
       "      <td>100.0</td>\n",
       "    </tr>\n",
       "    <tr>\n",
       "      <th>TMA</th>\n",
       "      <td>100.0</td>\n",
       "    </tr>\n",
       "    <tr>\n",
       "      <th rowspan=\"3\" valign=\"top\">GGG</th>\n",
       "      <th>CMA</th>\n",
       "      <td>0.0</td>\n",
       "    </tr>\n",
       "    <tr>\n",
       "      <th>Exam</th>\n",
       "      <td>100.0</td>\n",
       "    </tr>\n",
       "    <tr>\n",
       "      <th>TMA</th>\n",
       "      <td>0.0</td>\n",
       "    </tr>\n",
       "  </tbody>\n",
       "</table>\n",
       "</div>"
      ],
      "text/plain": [
       "                                               weight\n",
       "code_presentation code_module assessment_type        \n",
       "2013B             BBB         CMA                 5.0\n",
       "                              Exam              100.0\n",
       "                              TMA                95.0\n",
       "                  DDD         CMA                25.0\n",
       "                              Exam              100.0\n",
       "                              TMA                75.0\n",
       "                  FFF         CMA                 0.0\n",
       "                              Exam              100.0\n",
       "                              TMA               100.0\n",
       "2013J             AAA         Exam              100.0\n",
       "                              TMA               100.0\n",
       "                  BBB         CMA                 5.0\n",
       "                              Exam              100.0\n",
       "                              TMA                95.0\n",
       "                  DDD         Exam              100.0\n",
       "                              TMA               100.0\n",
       "                  EEE         Exam              100.0\n",
       "                              TMA               100.0\n",
       "                  FFF         CMA                 0.0\n",
       "                              Exam              100.0\n",
       "                              TMA               100.0\n",
       "                  GGG         CMA                 0.0\n",
       "                              Exam              100.0\n",
       "                              TMA                 0.0\n",
       "2014B             BBB         CMA                 5.0\n",
       "                              Exam              100.0\n",
       "                              TMA                95.0\n",
       "                  CCC         CMA                25.0\n",
       "                              Exam              200.0\n",
       "                              TMA                75.0\n",
       "                  DDD         Exam              100.0\n",
       "                              TMA               100.0\n",
       "                  EEE         Exam              100.0\n",
       "                              TMA               100.0\n",
       "                  FFF         CMA                 0.0\n",
       "                              Exam              100.0\n",
       "                              TMA               100.0\n",
       "                  GGG         CMA                 0.0\n",
       "                              Exam              100.0\n",
       "                              TMA                 0.0\n",
       "2014J             AAA         Exam              100.0\n",
       "                              TMA               100.0\n",
       "                  BBB         Exam              100.0\n",
       "                              TMA               100.0\n",
       "                  CCC         CMA                25.0\n",
       "                              Exam              200.0\n",
       "                              TMA                75.0\n",
       "                  DDD         Exam              100.0\n",
       "                              TMA               100.0\n",
       "                  EEE         Exam              100.0\n",
       "                              TMA               100.0\n",
       "                  FFF         CMA                 0.0\n",
       "                              Exam              100.0\n",
       "                              TMA               100.0\n",
       "                  GGG         CMA                 0.0\n",
       "                              Exam              100.0\n",
       "                              TMA                 0.0"
      ]
     },
     "execution_count": 7,
     "metadata": {},
     "output_type": "execute_result"
    }
   ],
   "source": [
    "assessments.groupby(['code_presentation', 'code_module', 'assessment_type']).agg({'weight': 'sum'})"
   ]
  },
  {
   "cell_type": "markdown",
   "metadata": {},
   "source": [
    "В таблице сверху представлена принадлежность предметов к конкретным семестрам и типы оценивания этих предметов.\n",
    "\n",
    "Видим, что *Exam* есть по каждому предмету в каждом семестре, т.е. экзаменом оканчивается каждый предмет в каждом семестре.\n",
    "\n",
    "Так как, согласно описанию *df*, тип оценивания *Exam* - это экзамен *по курсу*, то **<u>курсом при дальнейшем исследовании будем считать каждый предмет в каждом семестре</u>** (в каждом семестре - потому что в каждом семестре у них разный id_assessment и в каждом семестре предмет оканчивается экзаменом).\n",
    "\n",
    "То есть, всего у нас 4 семестра и 22 курса: \n",
    "- в 2013B 3 курса (BBB, DDD, FFF)\n",
    "- в 2013J 6 курсов (AAA, BBB, DDD, EEE, FFF, GGG)\n",
    "- в 2014B 6 курсов (BBB, CCC, DDD, EEE, FFF, GGG) \n",
    "- в 2014J 7 курсов (AAA, BBB, CCC, DDD, EEE, FFF, GGG)\n",
    "\n",
    "По весу есть нестыковки: *weight = 200* в предмете *CCC* объясняется наличием двух экзаменов в семестре (разных по *id_assessment*). Это аномалия, потому что, по условию, каждый предмет заканчивается одним экзаменом. Рассмотрев данные по предмету CCC (я не стала вписывать в ноутбук излишне громоздкие датафреймы с самим анализом этого - только выводы), можно увидеть, что студенты сдавали один экзамен по этому предмету (у них присутствует оценка в score и дата сдачи в date_submitted) и успешно завершали курс, значит, информация о двух экзаменах по CCC - ошибка и экзамен на самом деле был один. \n",
    "\n",
    "Также, по предмету GGG вес CMA + TMA *weight = 0*, что тоже не совпадает с условиями задачи (CMA + TMA должно быть 100). Проверив эту информацию по конкретным студентам, обнаружили, что у студентов присутствуют оценки в score по данным типам оценивания, а значит, вероятно, информация о нулевом весе в предмете GGG тоже является ошибочной. Может быть, забыли внести эти данные."
   ]
  },
  {
   "cell_type": "code",
   "execution_count": 8,
   "metadata": {
    "scrolled": false
   },
   "outputs": [
    {
     "name": "stdout",
     "output_type": "stream",
     "text": [
      "<class 'pandas.core.frame.DataFrame'>\n",
      "RangeIndex: 206 entries, 0 to 205\n",
      "Data columns (total 6 columns):\n",
      " #   Column             Non-Null Count  Dtype  \n",
      "---  ------             --------------  -----  \n",
      " 0   code_module        206 non-null    object \n",
      " 1   code_presentation  206 non-null    object \n",
      " 2   id_assessment      206 non-null    int64  \n",
      " 3   assessment_type    206 non-null    object \n",
      " 4   date               195 non-null    float64\n",
      " 5   weight             206 non-null    float64\n",
      "dtypes: float64(2), int64(1), object(3)\n",
      "memory usage: 9.8+ KB\n"
     ]
    }
   ],
   "source": [
    "assessments.info()  # в колонке date 11 пропусков"
   ]
  },
  {
   "cell_type": "code",
   "execution_count": 9,
   "metadata": {},
   "outputs": [
    {
     "data": {
      "text/html": [
       "<div>\n",
       "<style scoped>\n",
       "    .dataframe tbody tr th:only-of-type {\n",
       "        vertical-align: middle;\n",
       "    }\n",
       "\n",
       "    .dataframe tbody tr th {\n",
       "        vertical-align: top;\n",
       "    }\n",
       "\n",
       "    .dataframe thead th {\n",
       "        text-align: right;\n",
       "    }\n",
       "</style>\n",
       "<table border=\"1\" class=\"dataframe\">\n",
       "  <thead>\n",
       "    <tr style=\"text-align: right;\">\n",
       "      <th></th>\n",
       "      <th>code_module</th>\n",
       "      <th>code_presentation</th>\n",
       "      <th>id_assessment</th>\n",
       "      <th>assessment_type</th>\n",
       "      <th>date</th>\n",
       "      <th>weight</th>\n",
       "    </tr>\n",
       "  </thead>\n",
       "  <tbody>\n",
       "    <tr>\n",
       "      <th>5</th>\n",
       "      <td>AAA</td>\n",
       "      <td>2013J</td>\n",
       "      <td>1757</td>\n",
       "      <td>Exam</td>\n",
       "      <td>NaN</td>\n",
       "      <td>100.0</td>\n",
       "    </tr>\n",
       "    <tr>\n",
       "      <th>11</th>\n",
       "      <td>AAA</td>\n",
       "      <td>2014J</td>\n",
       "      <td>1763</td>\n",
       "      <td>Exam</td>\n",
       "      <td>NaN</td>\n",
       "      <td>100.0</td>\n",
       "    </tr>\n",
       "    <tr>\n",
       "      <th>23</th>\n",
       "      <td>BBB</td>\n",
       "      <td>2013B</td>\n",
       "      <td>14990</td>\n",
       "      <td>Exam</td>\n",
       "      <td>NaN</td>\n",
       "      <td>100.0</td>\n",
       "    </tr>\n",
       "    <tr>\n",
       "      <th>35</th>\n",
       "      <td>BBB</td>\n",
       "      <td>2013J</td>\n",
       "      <td>15002</td>\n",
       "      <td>Exam</td>\n",
       "      <td>NaN</td>\n",
       "      <td>100.0</td>\n",
       "    </tr>\n",
       "    <tr>\n",
       "      <th>47</th>\n",
       "      <td>BBB</td>\n",
       "      <td>2014B</td>\n",
       "      <td>15014</td>\n",
       "      <td>Exam</td>\n",
       "      <td>NaN</td>\n",
       "      <td>100.0</td>\n",
       "    </tr>\n",
       "    <tr>\n",
       "      <th>53</th>\n",
       "      <td>BBB</td>\n",
       "      <td>2014J</td>\n",
       "      <td>15025</td>\n",
       "      <td>Exam</td>\n",
       "      <td>NaN</td>\n",
       "      <td>100.0</td>\n",
       "    </tr>\n",
       "    <tr>\n",
       "      <th>62</th>\n",
       "      <td>CCC</td>\n",
       "      <td>2014B</td>\n",
       "      <td>24290</td>\n",
       "      <td>Exam</td>\n",
       "      <td>NaN</td>\n",
       "      <td>100.0</td>\n",
       "    </tr>\n",
       "    <tr>\n",
       "      <th>63</th>\n",
       "      <td>CCC</td>\n",
       "      <td>2014B</td>\n",
       "      <td>40087</td>\n",
       "      <td>Exam</td>\n",
       "      <td>NaN</td>\n",
       "      <td>100.0</td>\n",
       "    </tr>\n",
       "    <tr>\n",
       "      <th>72</th>\n",
       "      <td>CCC</td>\n",
       "      <td>2014J</td>\n",
       "      <td>24299</td>\n",
       "      <td>Exam</td>\n",
       "      <td>NaN</td>\n",
       "      <td>100.0</td>\n",
       "    </tr>\n",
       "    <tr>\n",
       "      <th>73</th>\n",
       "      <td>CCC</td>\n",
       "      <td>2014J</td>\n",
       "      <td>40088</td>\n",
       "      <td>Exam</td>\n",
       "      <td>NaN</td>\n",
       "      <td>100.0</td>\n",
       "    </tr>\n",
       "    <tr>\n",
       "      <th>108</th>\n",
       "      <td>DDD</td>\n",
       "      <td>2014J</td>\n",
       "      <td>25368</td>\n",
       "      <td>Exam</td>\n",
       "      <td>NaN</td>\n",
       "      <td>100.0</td>\n",
       "    </tr>\n",
       "  </tbody>\n",
       "</table>\n",
       "</div>"
      ],
      "text/plain": [
       "    code_module code_presentation  id_assessment assessment_type  date  weight\n",
       "5           AAA             2013J           1757            Exam   NaN   100.0\n",
       "11          AAA             2014J           1763            Exam   NaN   100.0\n",
       "23          BBB             2013B          14990            Exam   NaN   100.0\n",
       "35          BBB             2013J          15002            Exam   NaN   100.0\n",
       "47          BBB             2014B          15014            Exam   NaN   100.0\n",
       "53          BBB             2014J          15025            Exam   NaN   100.0\n",
       "62          CCC             2014B          24290            Exam   NaN   100.0\n",
       "63          CCC             2014B          40087            Exam   NaN   100.0\n",
       "72          CCC             2014J          24299            Exam   NaN   100.0\n",
       "73          CCC             2014J          40088            Exam   NaN   100.0\n",
       "108         DDD             2014J          25368            Exam   NaN   100.0"
      ]
     },
     "execution_count": 9,
     "metadata": {},
     "output_type": "execute_result"
    }
   ],
   "source": [
    "assessments.query('date.isna()')"
   ]
  },
  {
   "cell_type": "markdown",
   "metadata": {},
   "source": [
    "Пропуски в date - по экзаменам за предметы AAA, BBB, CCC, DDD"
   ]
  },
  {
   "cell_type": "markdown",
   "metadata": {},
   "source": [
    "Посмотрим количество студентов, сдающих экзамен по предметам AAA и BBB"
   ]
  },
  {
   "cell_type": "code",
   "execution_count": 10,
   "metadata": {
    "scrolled": false
   },
   "outputs": [
    {
     "data": {
      "text/plain": [
       "0"
      ]
     },
     "execution_count": 10,
     "metadata": {},
     "output_type": "execute_result"
    }
   ],
   "source": [
    "(assessments.merge(studentAssessment, on='id_assessment')) \\\n",
    "    .merge(studentRegistration, on=['id_student', 'code_module', 'code_presentation']) \\\n",
    "    .query(\"assessment_type == 'Exam'\").query(\"code_module == 'AAA' or code_module == 'BBB'\") \\\n",
    "    .id_student.count()"
   ]
  },
  {
   "cell_type": "markdown",
   "metadata": {},
   "source": [
    "Посмотрим, завершили ли студенты курс по AAA и BBB - если завершили, то будет выведен массив NaN-ов"
   ]
  },
  {
   "cell_type": "code",
   "execution_count": 11,
   "metadata": {},
   "outputs": [
    {
     "data": {
      "text/plain": [
       "array([nan])"
      ]
     },
     "execution_count": 11,
     "metadata": {},
     "output_type": "execute_result"
    }
   ],
   "source": [
    "(assessments.merge(studentAssessment, on='id_assessment')) \\\n",
    "    .merge(studentRegistration, on=['id_student', 'code_module', 'code_presentation']) \\\n",
    "    .query(\"date_unregistration.isna()\").query(\"code_module == 'AAA' or code_module == 'BBB'\") \\\n",
    "    .date_unregistration.unique()"
   ]
  },
  {
   "cell_type": "markdown",
   "metadata": {},
   "source": [
    "Теперь посмотрим на экзамены по курсам CCC и DDD c date = NaN"
   ]
  },
  {
   "cell_type": "code",
   "execution_count": 12,
   "metadata": {},
   "outputs": [
    {
     "data": {
      "text/html": [
       "<div>\n",
       "<style scoped>\n",
       "    .dataframe tbody tr th:only-of-type {\n",
       "        vertical-align: middle;\n",
       "    }\n",
       "\n",
       "    .dataframe tbody tr th {\n",
       "        vertical-align: top;\n",
       "    }\n",
       "\n",
       "    .dataframe thead th {\n",
       "        text-align: right;\n",
       "    }\n",
       "</style>\n",
       "<table border=\"1\" class=\"dataframe\">\n",
       "  <thead>\n",
       "    <tr style=\"text-align: right;\">\n",
       "      <th></th>\n",
       "      <th></th>\n",
       "      <th>score</th>\n",
       "      <th>date_unregistration</th>\n",
       "    </tr>\n",
       "    <tr>\n",
       "      <th>code_presentation</th>\n",
       "      <th>code_module</th>\n",
       "      <th></th>\n",
       "      <th></th>\n",
       "    </tr>\n",
       "  </thead>\n",
       "  <tbody>\n",
       "    <tr>\n",
       "      <th>2014B</th>\n",
       "      <th>CCC</th>\n",
       "      <td>46</td>\n",
       "      <td>[nan]</td>\n",
       "    </tr>\n",
       "    <tr>\n",
       "      <th rowspan=\"2\" valign=\"top\">2014J</th>\n",
       "      <th>CCC</th>\n",
       "      <td>46</td>\n",
       "      <td>[nan]</td>\n",
       "    </tr>\n",
       "    <tr>\n",
       "      <th>DDD</th>\n",
       "      <td>40</td>\n",
       "      <td>[nan]</td>\n",
       "    </tr>\n",
       "  </tbody>\n",
       "</table>\n",
       "</div>"
      ],
      "text/plain": [
       "                               score date_unregistration\n",
       "code_presentation code_module                           \n",
       "2014B             CCC             46               [nan]\n",
       "2014J             CCC             46               [nan]\n",
       "                  DDD             40               [nan]"
      ]
     },
     "execution_count": 12,
     "metadata": {},
     "output_type": "execute_result"
    }
   ],
   "source": [
    "(assessments.merge(studentAssessment, on='id_assessment')) \\\n",
    "    .merge(studentRegistration, on=['id_student', 'code_module', 'code_presentation']) \\\n",
    "    .query(\"date.isna() & assessment_type == 'Exam'\") \\\n",
    "    .groupby(['code_presentation', 'code_module']) \\\n",
    "    .agg({'score': 'nunique', 'date_unregistration': 'unique'})"
   ]
  },
  {
   "cell_type": "markdown",
   "metadata": {},
   "source": [
    "**Вывод:**\n",
    "\n",
    "Ни один студент не регистрировался для сдачи и не сдавал *экзамен* по курсам AAA или BBB, оценки за эти экзамены также отсутствуют. При этом, у этих студентов стоят оценки по TMA и CMA и они завершили курс по этим предметам. Можно предположить, что экзамен по этим курсам не проводился, а решение о завершении курса принималось на основании основании оценок по *TMA* и *CMA*.\n",
    "\n",
    "Студенты сдавали экзамен по курсам CCC и DDD, у них стоят за экзамен оценки в score и они завершили курсы CCC и DDD. Скорее всего, экзамен по CCC и DDD всё же проводился, а отсутствие даты экзамена связано с ошибкой в данных."
   ]
  },
  {
   "cell_type": "markdown",
   "metadata": {},
   "source": [
    "**courses.csv** — файл содержит список предметов по семестрам.\n",
    "\n",
    "`code_module` — предмет (идентификационный код).\n",
    "\n",
    "`code_presentation` — семестр (идентификационный код).\n",
    "\n",
    "`module_presentation_length` — продолжительность семестра в днях."
   ]
  },
  {
   "cell_type": "code",
   "execution_count": 13,
   "metadata": {
    "scrolled": true
   },
   "outputs": [
    {
     "data": {
      "text/html": [
       "<div>\n",
       "<style scoped>\n",
       "    .dataframe tbody tr th:only-of-type {\n",
       "        vertical-align: middle;\n",
       "    }\n",
       "\n",
       "    .dataframe tbody tr th {\n",
       "        vertical-align: top;\n",
       "    }\n",
       "\n",
       "    .dataframe thead th {\n",
       "        text-align: right;\n",
       "    }\n",
       "</style>\n",
       "<table border=\"1\" class=\"dataframe\">\n",
       "  <thead>\n",
       "    <tr style=\"text-align: right;\">\n",
       "      <th></th>\n",
       "      <th>code_module</th>\n",
       "      <th>code_presentation</th>\n",
       "      <th>module_presentation_length</th>\n",
       "    </tr>\n",
       "  </thead>\n",
       "  <tbody>\n",
       "    <tr>\n",
       "      <th>0</th>\n",
       "      <td>AAA</td>\n",
       "      <td>2013J</td>\n",
       "      <td>268</td>\n",
       "    </tr>\n",
       "    <tr>\n",
       "      <th>1</th>\n",
       "      <td>AAA</td>\n",
       "      <td>2014J</td>\n",
       "      <td>269</td>\n",
       "    </tr>\n",
       "    <tr>\n",
       "      <th>2</th>\n",
       "      <td>BBB</td>\n",
       "      <td>2013J</td>\n",
       "      <td>268</td>\n",
       "    </tr>\n",
       "    <tr>\n",
       "      <th>3</th>\n",
       "      <td>BBB</td>\n",
       "      <td>2014J</td>\n",
       "      <td>262</td>\n",
       "    </tr>\n",
       "    <tr>\n",
       "      <th>4</th>\n",
       "      <td>BBB</td>\n",
       "      <td>2013B</td>\n",
       "      <td>240</td>\n",
       "    </tr>\n",
       "  </tbody>\n",
       "</table>\n",
       "</div>"
      ],
      "text/plain": [
       "  code_module code_presentation  module_presentation_length\n",
       "0         AAA             2013J                         268\n",
       "1         AAA             2014J                         269\n",
       "2         BBB             2013J                         268\n",
       "3         BBB             2014J                         262\n",
       "4         BBB             2013B                         240"
      ]
     },
     "execution_count": 13,
     "metadata": {},
     "output_type": "execute_result"
    }
   ],
   "source": [
    "courses.head()"
   ]
  },
  {
   "cell_type": "code",
   "execution_count": 14,
   "metadata": {},
   "outputs": [
    {
     "data": {
      "text/plain": [
       "0"
      ]
     },
     "execution_count": 14,
     "metadata": {},
     "output_type": "execute_result"
    }
   ],
   "source": [
    "courses.shape[0] - courses.drop_duplicates().shape[0]  # дубликатов нет"
   ]
  },
  {
   "cell_type": "markdown",
   "metadata": {},
   "source": [
    "Посмотрим на описательные статистики."
   ]
  },
  {
   "cell_type": "code",
   "execution_count": 15,
   "metadata": {},
   "outputs": [
    {
     "data": {
      "text/html": [
       "<div>\n",
       "<style scoped>\n",
       "    .dataframe tbody tr th:only-of-type {\n",
       "        vertical-align: middle;\n",
       "    }\n",
       "\n",
       "    .dataframe tbody tr th {\n",
       "        vertical-align: top;\n",
       "    }\n",
       "\n",
       "    .dataframe thead th {\n",
       "        text-align: right;\n",
       "    }\n",
       "</style>\n",
       "<table border=\"1\" class=\"dataframe\">\n",
       "  <thead>\n",
       "    <tr style=\"text-align: right;\">\n",
       "      <th></th>\n",
       "      <th>module_presentation_length</th>\n",
       "    </tr>\n",
       "  </thead>\n",
       "  <tbody>\n",
       "    <tr>\n",
       "      <th>count</th>\n",
       "      <td>22.000000</td>\n",
       "    </tr>\n",
       "    <tr>\n",
       "      <th>mean</th>\n",
       "      <td>255.545455</td>\n",
       "    </tr>\n",
       "    <tr>\n",
       "      <th>std</th>\n",
       "      <td>13.654677</td>\n",
       "    </tr>\n",
       "    <tr>\n",
       "      <th>min</th>\n",
       "      <td>234.000000</td>\n",
       "    </tr>\n",
       "    <tr>\n",
       "      <th>25%</th>\n",
       "      <td>241.000000</td>\n",
       "    </tr>\n",
       "    <tr>\n",
       "      <th>50%</th>\n",
       "      <td>261.500000</td>\n",
       "    </tr>\n",
       "    <tr>\n",
       "      <th>75%</th>\n",
       "      <td>268.000000</td>\n",
       "    </tr>\n",
       "    <tr>\n",
       "      <th>max</th>\n",
       "      <td>269.000000</td>\n",
       "    </tr>\n",
       "  </tbody>\n",
       "</table>\n",
       "</div>"
      ],
      "text/plain": [
       "       module_presentation_length\n",
       "count                   22.000000\n",
       "mean                   255.545455\n",
       "std                     13.654677\n",
       "min                    234.000000\n",
       "25%                    241.000000\n",
       "50%                    261.500000\n",
       "75%                    268.000000\n",
       "max                    269.000000"
      ]
     },
     "execution_count": 15,
     "metadata": {},
     "output_type": "execute_result"
    }
   ],
   "source": [
    "courses.describe()"
   ]
  },
  {
   "cell_type": "code",
   "execution_count": 16,
   "metadata": {},
   "outputs": [
    {
     "data": {
      "text/html": [
       "<div>\n",
       "<style scoped>\n",
       "    .dataframe tbody tr th:only-of-type {\n",
       "        vertical-align: middle;\n",
       "    }\n",
       "\n",
       "    .dataframe tbody tr th {\n",
       "        vertical-align: top;\n",
       "    }\n",
       "\n",
       "    .dataframe thead th {\n",
       "        text-align: right;\n",
       "    }\n",
       "</style>\n",
       "<table border=\"1\" class=\"dataframe\">\n",
       "  <thead>\n",
       "    <tr style=\"text-align: right;\">\n",
       "      <th></th>\n",
       "      <th>code_module</th>\n",
       "      <th>code_presentation</th>\n",
       "    </tr>\n",
       "  </thead>\n",
       "  <tbody>\n",
       "    <tr>\n",
       "      <th>count</th>\n",
       "      <td>22</td>\n",
       "      <td>22</td>\n",
       "    </tr>\n",
       "    <tr>\n",
       "      <th>unique</th>\n",
       "      <td>7</td>\n",
       "      <td>4</td>\n",
       "    </tr>\n",
       "    <tr>\n",
       "      <th>top</th>\n",
       "      <td>BBB</td>\n",
       "      <td>2014J</td>\n",
       "    </tr>\n",
       "    <tr>\n",
       "      <th>freq</th>\n",
       "      <td>4</td>\n",
       "      <td>7</td>\n",
       "    </tr>\n",
       "  </tbody>\n",
       "</table>\n",
       "</div>"
      ],
      "text/plain": [
       "       code_module code_presentation\n",
       "count           22                22\n",
       "unique           7                 4\n",
       "top            BBB             2014J\n",
       "freq             4                 7"
      ]
     },
     "execution_count": 16,
     "metadata": {},
     "output_type": "execute_result"
    }
   ],
   "source": [
    "courses.describe(include='object')"
   ]
  },
  {
   "cell_type": "code",
   "execution_count": 17,
   "metadata": {
    "scrolled": false
   },
   "outputs": [
    {
     "name": "stdout",
     "output_type": "stream",
     "text": [
      "<class 'pandas.core.frame.DataFrame'>\n",
      "RangeIndex: 22 entries, 0 to 21\n",
      "Data columns (total 3 columns):\n",
      " #   Column                      Non-Null Count  Dtype \n",
      "---  ------                      --------------  ----- \n",
      " 0   code_module                 22 non-null     object\n",
      " 1   code_presentation           22 non-null     object\n",
      " 2   module_presentation_length  22 non-null     int64 \n",
      "dtypes: int64(1), object(2)\n",
      "memory usage: 656.0+ bytes\n"
     ]
    }
   ],
   "source": [
    "courses.info()  # в этом df всё норм"
   ]
  },
  {
   "cell_type": "markdown",
   "metadata": {},
   "source": [
    "Очень необычная продолжительность семестра - 8-9 месяцев! Обычно семестр подразумевает продолжительность 4 месяца и на 5 месяц проводится сессия."
   ]
  },
  {
   "cell_type": "markdown",
   "metadata": {},
   "source": [
    "Объединим *assessments* с *courses*, таким образом в общем *df* появится колонка с продолжительностью семестра, а колонку *weight* уберем, так как мы ее уже проверили и в дальнейшем она нам не пригодится. Результат перезапишем в assessments."
   ]
  },
  {
   "cell_type": "code",
   "execution_count": 18,
   "metadata": {},
   "outputs": [],
   "source": [
    "assessments = assessments.merge(courses, on=['code_module', 'code_presentation']).drop(columns='weight')"
   ]
  },
  {
   "cell_type": "markdown",
   "metadata": {},
   "source": [
    "**studentAssessment.csv** — этот файл содержит результаты тестов студентов. \n",
    "Если учащийся не отправляет работу на оценку, результат не записывается в таблицу.\n",
    "\n",
    "`id_assessment` — тест (идентификационный номер).\n",
    "\n",
    "`id_student` — идентификационный номер студента.\n",
    "\n",
    "`date_submitted` — дата сдачи теста студентом, измеряемая как количество дней с начала семестра.\n",
    "\n",
    "`is_banked` — факт перезачета теста с прошлого семестра \n",
    "(иногда курсы перезачитывают студентам, вернувшимся из академического отпуска).\n",
    "\n",
    "`score` — оценка учащегося в этом тесте. \n",
    "Диапазон составляет от 0 до 100. Оценка ниже 40 неудачная/неуспешная сдача теста."
   ]
  },
  {
   "cell_type": "code",
   "execution_count": 19,
   "metadata": {},
   "outputs": [
    {
     "data": {
      "text/html": [
       "<div>\n",
       "<style scoped>\n",
       "    .dataframe tbody tr th:only-of-type {\n",
       "        vertical-align: middle;\n",
       "    }\n",
       "\n",
       "    .dataframe tbody tr th {\n",
       "        vertical-align: top;\n",
       "    }\n",
       "\n",
       "    .dataframe thead th {\n",
       "        text-align: right;\n",
       "    }\n",
       "</style>\n",
       "<table border=\"1\" class=\"dataframe\">\n",
       "  <thead>\n",
       "    <tr style=\"text-align: right;\">\n",
       "      <th></th>\n",
       "      <th>id_assessment</th>\n",
       "      <th>id_student</th>\n",
       "      <th>date_submitted</th>\n",
       "      <th>is_banked</th>\n",
       "      <th>score</th>\n",
       "    </tr>\n",
       "  </thead>\n",
       "  <tbody>\n",
       "    <tr>\n",
       "      <th>0</th>\n",
       "      <td>1752</td>\n",
       "      <td>11391</td>\n",
       "      <td>18</td>\n",
       "      <td>0</td>\n",
       "      <td>78.0</td>\n",
       "    </tr>\n",
       "    <tr>\n",
       "      <th>1</th>\n",
       "      <td>1752</td>\n",
       "      <td>28400</td>\n",
       "      <td>22</td>\n",
       "      <td>0</td>\n",
       "      <td>70.0</td>\n",
       "    </tr>\n",
       "    <tr>\n",
       "      <th>2</th>\n",
       "      <td>1752</td>\n",
       "      <td>31604</td>\n",
       "      <td>17</td>\n",
       "      <td>0</td>\n",
       "      <td>72.0</td>\n",
       "    </tr>\n",
       "    <tr>\n",
       "      <th>3</th>\n",
       "      <td>1752</td>\n",
       "      <td>32885</td>\n",
       "      <td>26</td>\n",
       "      <td>0</td>\n",
       "      <td>69.0</td>\n",
       "    </tr>\n",
       "    <tr>\n",
       "      <th>4</th>\n",
       "      <td>1752</td>\n",
       "      <td>38053</td>\n",
       "      <td>19</td>\n",
       "      <td>0</td>\n",
       "      <td>79.0</td>\n",
       "    </tr>\n",
       "  </tbody>\n",
       "</table>\n",
       "</div>"
      ],
      "text/plain": [
       "   id_assessment  id_student  date_submitted  is_banked  score\n",
       "0           1752       11391              18          0   78.0\n",
       "1           1752       28400              22          0   70.0\n",
       "2           1752       31604              17          0   72.0\n",
       "3           1752       32885              26          0   69.0\n",
       "4           1752       38053              19          0   79.0"
      ]
     },
     "execution_count": 19,
     "metadata": {},
     "output_type": "execute_result"
    }
   ],
   "source": [
    "studentAssessment.head()"
   ]
  },
  {
   "cell_type": "code",
   "execution_count": 20,
   "metadata": {},
   "outputs": [
    {
     "data": {
      "text/plain": [
       "0"
      ]
     },
     "execution_count": 20,
     "metadata": {},
     "output_type": "execute_result"
    }
   ],
   "source": [
    "studentAssessment.shape[0] - studentAssessment.drop_duplicates().shape[0]  # дубликатов нет"
   ]
  },
  {
   "cell_type": "markdown",
   "metadata": {},
   "source": [
    "Посмотрим на описательные статистики."
   ]
  },
  {
   "cell_type": "code",
   "execution_count": 21,
   "metadata": {},
   "outputs": [
    {
     "data": {
      "text/html": [
       "<div>\n",
       "<style scoped>\n",
       "    .dataframe tbody tr th:only-of-type {\n",
       "        vertical-align: middle;\n",
       "    }\n",
       "\n",
       "    .dataframe tbody tr th {\n",
       "        vertical-align: top;\n",
       "    }\n",
       "\n",
       "    .dataframe thead th {\n",
       "        text-align: right;\n",
       "    }\n",
       "</style>\n",
       "<table border=\"1\" class=\"dataframe\">\n",
       "  <thead>\n",
       "    <tr style=\"text-align: right;\">\n",
       "      <th></th>\n",
       "      <th>id_assessment</th>\n",
       "      <th>id_student</th>\n",
       "      <th>date_submitted</th>\n",
       "      <th>is_banked</th>\n",
       "      <th>score</th>\n",
       "    </tr>\n",
       "  </thead>\n",
       "  <tbody>\n",
       "    <tr>\n",
       "      <th>count</th>\n",
       "      <td>173912.000000</td>\n",
       "      <td>1.739120e+05</td>\n",
       "      <td>173912.000000</td>\n",
       "      <td>173912.000000</td>\n",
       "      <td>173739.000000</td>\n",
       "    </tr>\n",
       "    <tr>\n",
       "      <th>mean</th>\n",
       "      <td>26553.803556</td>\n",
       "      <td>7.051507e+05</td>\n",
       "      <td>116.032942</td>\n",
       "      <td>0.010977</td>\n",
       "      <td>75.799573</td>\n",
       "    </tr>\n",
       "    <tr>\n",
       "      <th>std</th>\n",
       "      <td>8829.784254</td>\n",
       "      <td>5.523952e+05</td>\n",
       "      <td>71.484148</td>\n",
       "      <td>0.104194</td>\n",
       "      <td>18.798107</td>\n",
       "    </tr>\n",
       "    <tr>\n",
       "      <th>min</th>\n",
       "      <td>1752.000000</td>\n",
       "      <td>6.516000e+03</td>\n",
       "      <td>-11.000000</td>\n",
       "      <td>0.000000</td>\n",
       "      <td>0.000000</td>\n",
       "    </tr>\n",
       "    <tr>\n",
       "      <th>25%</th>\n",
       "      <td>15022.000000</td>\n",
       "      <td>5.044290e+05</td>\n",
       "      <td>51.000000</td>\n",
       "      <td>0.000000</td>\n",
       "      <td>65.000000</td>\n",
       "    </tr>\n",
       "    <tr>\n",
       "      <th>50%</th>\n",
       "      <td>25359.000000</td>\n",
       "      <td>5.852080e+05</td>\n",
       "      <td>116.000000</td>\n",
       "      <td>0.000000</td>\n",
       "      <td>80.000000</td>\n",
       "    </tr>\n",
       "    <tr>\n",
       "      <th>75%</th>\n",
       "      <td>34883.000000</td>\n",
       "      <td>6.344980e+05</td>\n",
       "      <td>173.000000</td>\n",
       "      <td>0.000000</td>\n",
       "      <td>90.000000</td>\n",
       "    </tr>\n",
       "    <tr>\n",
       "      <th>max</th>\n",
       "      <td>37443.000000</td>\n",
       "      <td>2.698588e+06</td>\n",
       "      <td>608.000000</td>\n",
       "      <td>1.000000</td>\n",
       "      <td>100.000000</td>\n",
       "    </tr>\n",
       "  </tbody>\n",
       "</table>\n",
       "</div>"
      ],
      "text/plain": [
       "       id_assessment    id_student  date_submitted      is_banked  \\\n",
       "count  173912.000000  1.739120e+05   173912.000000  173912.000000   \n",
       "mean    26553.803556  7.051507e+05      116.032942       0.010977   \n",
       "std      8829.784254  5.523952e+05       71.484148       0.104194   \n",
       "min      1752.000000  6.516000e+03      -11.000000       0.000000   \n",
       "25%     15022.000000  5.044290e+05       51.000000       0.000000   \n",
       "50%     25359.000000  5.852080e+05      116.000000       0.000000   \n",
       "75%     34883.000000  6.344980e+05      173.000000       0.000000   \n",
       "max     37443.000000  2.698588e+06      608.000000       1.000000   \n",
       "\n",
       "               score  \n",
       "count  173739.000000  \n",
       "mean       75.799573  \n",
       "std        18.798107  \n",
       "min         0.000000  \n",
       "25%        65.000000  \n",
       "50%        80.000000  \n",
       "75%        90.000000  \n",
       "max       100.000000  "
      ]
     },
     "execution_count": 21,
     "metadata": {},
     "output_type": "execute_result"
    }
   ],
   "source": [
    "studentAssessment.describe()"
   ]
  },
  {
   "cell_type": "code",
   "execution_count": 22,
   "metadata": {},
   "outputs": [
    {
     "name": "stdout",
     "output_type": "stream",
     "text": [
      "<class 'pandas.core.frame.DataFrame'>\n",
      "RangeIndex: 173912 entries, 0 to 173911\n",
      "Data columns (total 5 columns):\n",
      " #   Column          Non-Null Count   Dtype  \n",
      "---  ------          --------------   -----  \n",
      " 0   id_assessment   173912 non-null  int64  \n",
      " 1   id_student      173912 non-null  int64  \n",
      " 2   date_submitted  173912 non-null  int64  \n",
      " 3   is_banked       173912 non-null  int64  \n",
      " 4   score           173739 non-null  float64\n",
      "dtypes: float64(1), int64(4)\n",
      "memory usage: 6.6 MB\n"
     ]
    }
   ],
   "source": [
    "studentAssessment.info()"
   ]
  },
  {
   "cell_type": "code",
   "execution_count": 23,
   "metadata": {},
   "outputs": [
    {
     "data": {
      "text/plain": [
       "id_assessment       0\n",
       "id_student          0\n",
       "date_submitted      0\n",
       "is_banked           0\n",
       "score             173\n",
       "dtype: int64"
      ]
     },
     "execution_count": 23,
     "metadata": {},
     "output_type": "execute_result"
    }
   ],
   "source": [
    "studentAssessment.isna().sum()  # 173 пропуска в колонке score"
   ]
  },
  {
   "cell_type": "markdown",
   "metadata": {},
   "source": [
    "По условию, если учащийся не отправляет работу на оценку, результат не записывается в таблицу.\n",
    "Пропуски в score говорят о том, что работа была отправлена студентом, но не проверена (либо проверена, но результат не внесен в таблицу). Вероятно, это ошибка в данных.\n",
    "\n",
    "P.S. Я это посмотрела, но считаю лишним добавлять в ноутбук саму проверку: все пропуски в score принадлежат assessment_type = TMA (оценка преподавателя). При этом у одного студента is_banked = 1 (перезачет после академа) - оценка точно должна была быть. То есть это точно ошибка в данных - преподаватель забыл внести результат в таблицу."
   ]
  },
  {
   "cell_type": "markdown",
   "metadata": {},
   "source": [
    "**studentRegistration.csv** — этот файл содержит информацию о времени, \n",
    "когда студент зарегистрировался для прохождения курса в семестре.\n",
    "\n",
    "`code_module` — предмет (идентификационный код).\n",
    "\n",
    "`code_presentation` — семестр (идентификационный код)\n",
    "\n",
    "`id_student` — идентификационный номер студента.\n",
    "\n",
    "`date_registration` — дата регистрации студента. \n",
    "Это количество дней, измеренное от начала семестра \n",
    "(например, отрицательное значение -30 означает, что студент зарегистрировался на прохождение курса за 30 дней до его начала).\n",
    "\n",
    "`date_unregistration` — дата отмены регистрации студента с предмета. \n",
    "У студентов, окончивших курс, это поле остается пустым."
   ]
  },
  {
   "cell_type": "code",
   "execution_count": 24,
   "metadata": {},
   "outputs": [
    {
     "data": {
      "text/html": [
       "<div>\n",
       "<style scoped>\n",
       "    .dataframe tbody tr th:only-of-type {\n",
       "        vertical-align: middle;\n",
       "    }\n",
       "\n",
       "    .dataframe tbody tr th {\n",
       "        vertical-align: top;\n",
       "    }\n",
       "\n",
       "    .dataframe thead th {\n",
       "        text-align: right;\n",
       "    }\n",
       "</style>\n",
       "<table border=\"1\" class=\"dataframe\">\n",
       "  <thead>\n",
       "    <tr style=\"text-align: right;\">\n",
       "      <th></th>\n",
       "      <th>code_module</th>\n",
       "      <th>code_presentation</th>\n",
       "      <th>id_student</th>\n",
       "      <th>date_registration</th>\n",
       "      <th>date_unregistration</th>\n",
       "    </tr>\n",
       "  </thead>\n",
       "  <tbody>\n",
       "    <tr>\n",
       "      <th>0</th>\n",
       "      <td>AAA</td>\n",
       "      <td>2013J</td>\n",
       "      <td>11391</td>\n",
       "      <td>-159.0</td>\n",
       "      <td>NaN</td>\n",
       "    </tr>\n",
       "    <tr>\n",
       "      <th>1</th>\n",
       "      <td>AAA</td>\n",
       "      <td>2013J</td>\n",
       "      <td>28400</td>\n",
       "      <td>-53.0</td>\n",
       "      <td>NaN</td>\n",
       "    </tr>\n",
       "    <tr>\n",
       "      <th>2</th>\n",
       "      <td>AAA</td>\n",
       "      <td>2013J</td>\n",
       "      <td>30268</td>\n",
       "      <td>-92.0</td>\n",
       "      <td>12.0</td>\n",
       "    </tr>\n",
       "    <tr>\n",
       "      <th>3</th>\n",
       "      <td>AAA</td>\n",
       "      <td>2013J</td>\n",
       "      <td>31604</td>\n",
       "      <td>-52.0</td>\n",
       "      <td>NaN</td>\n",
       "    </tr>\n",
       "    <tr>\n",
       "      <th>4</th>\n",
       "      <td>AAA</td>\n",
       "      <td>2013J</td>\n",
       "      <td>32885</td>\n",
       "      <td>-176.0</td>\n",
       "      <td>NaN</td>\n",
       "    </tr>\n",
       "  </tbody>\n",
       "</table>\n",
       "</div>"
      ],
      "text/plain": [
       "  code_module code_presentation  id_student  date_registration  \\\n",
       "0         AAA             2013J       11391             -159.0   \n",
       "1         AAA             2013J       28400              -53.0   \n",
       "2         AAA             2013J       30268              -92.0   \n",
       "3         AAA             2013J       31604              -52.0   \n",
       "4         AAA             2013J       32885             -176.0   \n",
       "\n",
       "   date_unregistration  \n",
       "0                  NaN  \n",
       "1                  NaN  \n",
       "2                 12.0  \n",
       "3                  NaN  \n",
       "4                  NaN  "
      ]
     },
     "execution_count": 24,
     "metadata": {},
     "output_type": "execute_result"
    }
   ],
   "source": [
    "studentRegistration.head()"
   ]
  },
  {
   "cell_type": "code",
   "execution_count": 25,
   "metadata": {},
   "outputs": [
    {
     "data": {
      "text/plain": [
       "0"
      ]
     },
     "execution_count": 25,
     "metadata": {},
     "output_type": "execute_result"
    }
   ],
   "source": [
    "studentRegistration.shape[0] - studentRegistration.drop_duplicates().shape[0]  # дубликатов нет"
   ]
  },
  {
   "cell_type": "markdown",
   "metadata": {},
   "source": [
    "Посмотрим на описательные статистики."
   ]
  },
  {
   "cell_type": "code",
   "execution_count": 26,
   "metadata": {},
   "outputs": [
    {
     "data": {
      "text/html": [
       "<div>\n",
       "<style scoped>\n",
       "    .dataframe tbody tr th:only-of-type {\n",
       "        vertical-align: middle;\n",
       "    }\n",
       "\n",
       "    .dataframe tbody tr th {\n",
       "        vertical-align: top;\n",
       "    }\n",
       "\n",
       "    .dataframe thead th {\n",
       "        text-align: right;\n",
       "    }\n",
       "</style>\n",
       "<table border=\"1\" class=\"dataframe\">\n",
       "  <thead>\n",
       "    <tr style=\"text-align: right;\">\n",
       "      <th></th>\n",
       "      <th>id_student</th>\n",
       "      <th>date_registration</th>\n",
       "      <th>date_unregistration</th>\n",
       "    </tr>\n",
       "  </thead>\n",
       "  <tbody>\n",
       "    <tr>\n",
       "      <th>count</th>\n",
       "      <td>3.259300e+04</td>\n",
       "      <td>32548.000000</td>\n",
       "      <td>10072.000000</td>\n",
       "    </tr>\n",
       "    <tr>\n",
       "      <th>mean</th>\n",
       "      <td>7.066877e+05</td>\n",
       "      <td>-69.411300</td>\n",
       "      <td>49.757645</td>\n",
       "    </tr>\n",
       "    <tr>\n",
       "      <th>std</th>\n",
       "      <td>5.491673e+05</td>\n",
       "      <td>49.260522</td>\n",
       "      <td>82.460890</td>\n",
       "    </tr>\n",
       "    <tr>\n",
       "      <th>min</th>\n",
       "      <td>3.733000e+03</td>\n",
       "      <td>-322.000000</td>\n",
       "      <td>-365.000000</td>\n",
       "    </tr>\n",
       "    <tr>\n",
       "      <th>25%</th>\n",
       "      <td>5.085730e+05</td>\n",
       "      <td>-100.000000</td>\n",
       "      <td>-2.000000</td>\n",
       "    </tr>\n",
       "    <tr>\n",
       "      <th>50%</th>\n",
       "      <td>5.903100e+05</td>\n",
       "      <td>-57.000000</td>\n",
       "      <td>27.000000</td>\n",
       "    </tr>\n",
       "    <tr>\n",
       "      <th>75%</th>\n",
       "      <td>6.444530e+05</td>\n",
       "      <td>-29.000000</td>\n",
       "      <td>109.000000</td>\n",
       "    </tr>\n",
       "    <tr>\n",
       "      <th>max</th>\n",
       "      <td>2.716795e+06</td>\n",
       "      <td>167.000000</td>\n",
       "      <td>444.000000</td>\n",
       "    </tr>\n",
       "  </tbody>\n",
       "</table>\n",
       "</div>"
      ],
      "text/plain": [
       "         id_student  date_registration  date_unregistration\n",
       "count  3.259300e+04       32548.000000         10072.000000\n",
       "mean   7.066877e+05         -69.411300            49.757645\n",
       "std    5.491673e+05          49.260522            82.460890\n",
       "min    3.733000e+03        -322.000000          -365.000000\n",
       "25%    5.085730e+05        -100.000000            -2.000000\n",
       "50%    5.903100e+05         -57.000000            27.000000\n",
       "75%    6.444530e+05         -29.000000           109.000000\n",
       "max    2.716795e+06         167.000000           444.000000"
      ]
     },
     "execution_count": 26,
     "metadata": {},
     "output_type": "execute_result"
    }
   ],
   "source": [
    "studentRegistration.describe()"
   ]
  },
  {
   "cell_type": "code",
   "execution_count": 27,
   "metadata": {},
   "outputs": [
    {
     "data": {
      "text/html": [
       "<div>\n",
       "<style scoped>\n",
       "    .dataframe tbody tr th:only-of-type {\n",
       "        vertical-align: middle;\n",
       "    }\n",
       "\n",
       "    .dataframe tbody tr th {\n",
       "        vertical-align: top;\n",
       "    }\n",
       "\n",
       "    .dataframe thead th {\n",
       "        text-align: right;\n",
       "    }\n",
       "</style>\n",
       "<table border=\"1\" class=\"dataframe\">\n",
       "  <thead>\n",
       "    <tr style=\"text-align: right;\">\n",
       "      <th></th>\n",
       "      <th>code_module</th>\n",
       "      <th>code_presentation</th>\n",
       "    </tr>\n",
       "  </thead>\n",
       "  <tbody>\n",
       "    <tr>\n",
       "      <th>count</th>\n",
       "      <td>32593</td>\n",
       "      <td>32593</td>\n",
       "    </tr>\n",
       "    <tr>\n",
       "      <th>unique</th>\n",
       "      <td>7</td>\n",
       "      <td>4</td>\n",
       "    </tr>\n",
       "    <tr>\n",
       "      <th>top</th>\n",
       "      <td>BBB</td>\n",
       "      <td>2014J</td>\n",
       "    </tr>\n",
       "    <tr>\n",
       "      <th>freq</th>\n",
       "      <td>7909</td>\n",
       "      <td>11260</td>\n",
       "    </tr>\n",
       "  </tbody>\n",
       "</table>\n",
       "</div>"
      ],
      "text/plain": [
       "       code_module code_presentation\n",
       "count        32593             32593\n",
       "unique           7                 4\n",
       "top            BBB             2014J\n",
       "freq          7909             11260"
      ]
     },
     "execution_count": 27,
     "metadata": {},
     "output_type": "execute_result"
    }
   ],
   "source": [
    "studentRegistration.describe(include='object')"
   ]
  },
  {
   "cell_type": "code",
   "execution_count": 28,
   "metadata": {
    "scrolled": true
   },
   "outputs": [
    {
     "name": "stdout",
     "output_type": "stream",
     "text": [
      "<class 'pandas.core.frame.DataFrame'>\n",
      "RangeIndex: 32593 entries, 0 to 32592\n",
      "Data columns (total 5 columns):\n",
      " #   Column               Non-Null Count  Dtype  \n",
      "---  ------               --------------  -----  \n",
      " 0   code_module          32593 non-null  object \n",
      " 1   code_presentation    32593 non-null  object \n",
      " 2   id_student           32593 non-null  int64  \n",
      " 3   date_registration    32548 non-null  float64\n",
      " 4   date_unregistration  10072 non-null  float64\n",
      "dtypes: float64(2), int64(1), object(2)\n",
      "memory usage: 1.2+ MB\n"
     ]
    }
   ],
   "source": [
    "studentRegistration.info()"
   ]
  },
  {
   "cell_type": "code",
   "execution_count": 29,
   "metadata": {
    "scrolled": false
   },
   "outputs": [
    {
     "data": {
      "text/plain": [
       "code_module                0\n",
       "code_presentation          0\n",
       "id_student                 0\n",
       "date_registration         45\n",
       "date_unregistration    22521\n",
       "dtype: int64"
      ]
     },
     "execution_count": 29,
     "metadata": {},
     "output_type": "execute_result"
    }
   ],
   "source": [
    "studentRegistration.isna().sum()"
   ]
  },
  {
   "cell_type": "markdown",
   "metadata": {},
   "source": [
    "45 пропусков в date_registration (о 43 студентах), NaN в date_unregistration - это норма"
   ]
  },
  {
   "cell_type": "markdown",
   "metadata": {},
   "source": [
    "Рассмотрим пропуски в date_registration подробнее."
   ]
  },
  {
   "cell_type": "markdown",
   "metadata": {},
   "source": [
    "Выведем студентов с пропусками и по date_registration, и по date_unregistration (якобы завершивших курс)."
   ]
  },
  {
   "cell_type": "code",
   "execution_count": 30,
   "metadata": {},
   "outputs": [
    {
     "data": {
      "text/html": [
       "<div>\n",
       "<style scoped>\n",
       "    .dataframe tbody tr th:only-of-type {\n",
       "        vertical-align: middle;\n",
       "    }\n",
       "\n",
       "    .dataframe tbody tr th {\n",
       "        vertical-align: top;\n",
       "    }\n",
       "\n",
       "    .dataframe thead th {\n",
       "        text-align: right;\n",
       "    }\n",
       "</style>\n",
       "<table border=\"1\" class=\"dataframe\">\n",
       "  <thead>\n",
       "    <tr style=\"text-align: right;\">\n",
       "      <th></th>\n",
       "      <th>code_module</th>\n",
       "      <th>code_presentation</th>\n",
       "      <th>id_student</th>\n",
       "      <th>date_registration</th>\n",
       "      <th>date_unregistration</th>\n",
       "      <th>id_assessment</th>\n",
       "      <th>date_submitted</th>\n",
       "      <th>is_banked</th>\n",
       "      <th>score</th>\n",
       "    </tr>\n",
       "  </thead>\n",
       "  <tbody>\n",
       "    <tr>\n",
       "      <th>0</th>\n",
       "      <td>BBB</td>\n",
       "      <td>2013B</td>\n",
       "      <td>630346</td>\n",
       "      <td>NaN</td>\n",
       "      <td>NaN</td>\n",
       "      <td>NaN</td>\n",
       "      <td>NaN</td>\n",
       "      <td>NaN</td>\n",
       "      <td>NaN</td>\n",
       "    </tr>\n",
       "    <tr>\n",
       "      <th>38</th>\n",
       "      <td>CCC</td>\n",
       "      <td>2014J</td>\n",
       "      <td>1777834</td>\n",
       "      <td>NaN</td>\n",
       "      <td>NaN</td>\n",
       "      <td>NaN</td>\n",
       "      <td>NaN</td>\n",
       "      <td>NaN</td>\n",
       "      <td>NaN</td>\n",
       "    </tr>\n",
       "    <tr>\n",
       "      <th>46</th>\n",
       "      <td>DDD</td>\n",
       "      <td>2013B</td>\n",
       "      <td>2707979</td>\n",
       "      <td>NaN</td>\n",
       "      <td>NaN</td>\n",
       "      <td>NaN</td>\n",
       "      <td>NaN</td>\n",
       "      <td>NaN</td>\n",
       "      <td>NaN</td>\n",
       "    </tr>\n",
       "    <tr>\n",
       "      <th>47</th>\n",
       "      <td>DDD</td>\n",
       "      <td>2013B</td>\n",
       "      <td>2710343</td>\n",
       "      <td>NaN</td>\n",
       "      <td>NaN</td>\n",
       "      <td>NaN</td>\n",
       "      <td>NaN</td>\n",
       "      <td>NaN</td>\n",
       "      <td>NaN</td>\n",
       "    </tr>\n",
       "    <tr>\n",
       "      <th>70</th>\n",
       "      <td>DDD</td>\n",
       "      <td>2014B</td>\n",
       "      <td>2710343</td>\n",
       "      <td>NaN</td>\n",
       "      <td>NaN</td>\n",
       "      <td>NaN</td>\n",
       "      <td>NaN</td>\n",
       "      <td>NaN</td>\n",
       "      <td>NaN</td>\n",
       "    </tr>\n",
       "    <tr>\n",
       "      <th>78</th>\n",
       "      <td>FFF</td>\n",
       "      <td>2013B</td>\n",
       "      <td>2102658</td>\n",
       "      <td>NaN</td>\n",
       "      <td>NaN</td>\n",
       "      <td>NaN</td>\n",
       "      <td>NaN</td>\n",
       "      <td>NaN</td>\n",
       "      <td>NaN</td>\n",
       "    </tr>\n",
       "  </tbody>\n",
       "</table>\n",
       "</div>"
      ],
      "text/plain": [
       "   code_module code_presentation  id_student  date_registration  \\\n",
       "0          BBB             2013B      630346                NaN   \n",
       "38         CCC             2014J     1777834                NaN   \n",
       "46         DDD             2013B     2707979                NaN   \n",
       "47         DDD             2013B     2710343                NaN   \n",
       "70         DDD             2014B     2710343                NaN   \n",
       "78         FFF             2013B     2102658                NaN   \n",
       "\n",
       "    date_unregistration  id_assessment  date_submitted  is_banked  score  \n",
       "0                   NaN            NaN             NaN        NaN    NaN  \n",
       "38                  NaN            NaN             NaN        NaN    NaN  \n",
       "46                  NaN            NaN             NaN        NaN    NaN  \n",
       "47                  NaN            NaN             NaN        NaN    NaN  \n",
       "70                  NaN            NaN             NaN        NaN    NaN  \n",
       "78                  NaN            NaN             NaN        NaN    NaN  "
      ]
     },
     "execution_count": 30,
     "metadata": {},
     "output_type": "execute_result"
    }
   ],
   "source": [
    "(studentRegistration.query(\"date_registration.isna()\")).merge(studentAssessment, on='id_student', how='left') \\\n",
    "    .query(\"date_unregistration.isna()\")"
   ]
  },
  {
   "cell_type": "markdown",
   "metadata": {},
   "source": [
    "Видим, что информация об этих 5 студентах (в 6 записях) отсуствует в studentAssessment (они не сдавали никаких тестов). Вероятно, эти студенты случайно попали в датафрейм studentRegistration и пропуск date_unregistration говорит не об успешном завершении ими курса, а об отсутсвии каких-либо данных о них. По сути, мы не знаем о них никакой информации, кроме их id и курса обучения."
   ]
  },
  {
   "cell_type": "markdown",
   "metadata": {},
   "source": [
    "Выведем студентов, отменивших запись на курс с пропусками date_registration, но имеющих оценку в score"
   ]
  },
  {
   "cell_type": "code",
   "execution_count": 31,
   "metadata": {},
   "outputs": [
    {
     "data": {
      "text/html": [
       "<div>\n",
       "<style scoped>\n",
       "    .dataframe tbody tr th:only-of-type {\n",
       "        vertical-align: middle;\n",
       "    }\n",
       "\n",
       "    .dataframe tbody tr th {\n",
       "        vertical-align: top;\n",
       "    }\n",
       "\n",
       "    .dataframe thead th {\n",
       "        text-align: right;\n",
       "    }\n",
       "</style>\n",
       "<table border=\"1\" class=\"dataframe\">\n",
       "  <thead>\n",
       "    <tr style=\"text-align: right;\">\n",
       "      <th></th>\n",
       "      <th>id_student</th>\n",
       "      <th>count_of_score</th>\n",
       "      <th>count_of_transfer</th>\n",
       "    </tr>\n",
       "  </thead>\n",
       "  <tbody>\n",
       "    <tr>\n",
       "      <th>2</th>\n",
       "      <td>128965</td>\n",
       "      <td>6</td>\n",
       "      <td>0.0</td>\n",
       "    </tr>\n",
       "    <tr>\n",
       "      <th>6</th>\n",
       "      <td>394791</td>\n",
       "      <td>9</td>\n",
       "      <td>0.0</td>\n",
       "    </tr>\n",
       "    <tr>\n",
       "      <th>9</th>\n",
       "      <td>535460</td>\n",
       "      <td>2</td>\n",
       "      <td>0.0</td>\n",
       "    </tr>\n",
       "    <tr>\n",
       "      <th>10</th>\n",
       "      <td>544271</td>\n",
       "      <td>12</td>\n",
       "      <td>0.0</td>\n",
       "    </tr>\n",
       "    <tr>\n",
       "      <th>11</th>\n",
       "      <td>550142</td>\n",
       "      <td>16</td>\n",
       "      <td>4.0</td>\n",
       "    </tr>\n",
       "    <tr>\n",
       "      <th>13</th>\n",
       "      <td>575419</td>\n",
       "      <td>4</td>\n",
       "      <td>0.0</td>\n",
       "    </tr>\n",
       "    <tr>\n",
       "      <th>15</th>\n",
       "      <td>591648</td>\n",
       "      <td>1</td>\n",
       "      <td>0.0</td>\n",
       "    </tr>\n",
       "    <tr>\n",
       "      <th>19</th>\n",
       "      <td>604632</td>\n",
       "      <td>1</td>\n",
       "      <td>0.0</td>\n",
       "    </tr>\n",
       "    <tr>\n",
       "      <th>35</th>\n",
       "      <td>2681277</td>\n",
       "      <td>2</td>\n",
       "      <td>0.0</td>\n",
       "    </tr>\n",
       "  </tbody>\n",
       "</table>\n",
       "</div>"
      ],
      "text/plain": [
       "    id_student  count_of_score  count_of_transfer\n",
       "2       128965               6                0.0\n",
       "6       394791               9                0.0\n",
       "9       535460               2                0.0\n",
       "10      544271              12                0.0\n",
       "11      550142              16                4.0\n",
       "13      575419               4                0.0\n",
       "15      591648               1                0.0\n",
       "19      604632               1                0.0\n",
       "35     2681277               2                0.0"
      ]
     },
     "execution_count": 31,
     "metadata": {},
     "output_type": "execute_result"
    }
   ],
   "source": [
    "not_complete_course = (studentRegistration.query(\"date_registration.isna()\").query(\"date_unregistration.notna()\")) \\\n",
    "    .merge(studentAssessment, on='id_student', how='left') \\\n",
    "    .groupby('id_student', as_index=False) \\\n",
    "    .agg({'score': 'count', 'is_banked': 'sum'}) \\\n",
    "    .rename(columns={'score': 'count_of_score', 'is_banked': 'count_of_transfer'}) \\\n",
    "    .query(\"count_of_score != 0\")\n",
    "not_complete_course"
   ]
  },
  {
   "cell_type": "markdown",
   "metadata": {},
   "source": [
    "Из этих оставшихся 39 пропусков, 30 пропусков соответствуют студентам, которые не сдавали ни одного теста - количество в оценок в score равно 0. То есть, вероятно, они записались на курс (но кто-то забыл указать об этом информацию в date_registration), но отменили свою запись до сдачи каких-либо тестов.\n",
    "\n",
    "Еще у 9 студентов присутствуют оценки в score. Из них 7 студентов сдали тесты выше порога и отменили регистрацию на курс после сдачи тестов. Наверное, им оказался больше не актуален данный курс.\n",
    "\n",
    "Один студент (id 575419) сдал тест ниже порогового значения, при этом отменил запись на курс еще до начала семестра - однозначно, это ошибка данных.\n",
    "\n",
    "И еще об одном студенте (id 550142) присутствует много записей, среди них как оценки ниже порога, так и выше него. Также, ему перезачитывали 4 теста (которые соответствуют семестру 2013J - видимо он уходил в академ в этом семестре)."
   ]
  },
  {
   "cell_type": "markdown",
   "metadata": {},
   "source": [
    "Визуализируем количество тестов в кажом семестре: "
   ]
  },
  {
   "cell_type": "code",
   "execution_count": 59,
   "metadata": {
    "scrolled": false
   },
   "outputs": [
    {
     "data": {
      "text/plain": [
       "<matplotlib.axes._subplots.AxesSubplot at 0x7fb2523394a8>"
      ]
     },
     "execution_count": 59,
     "metadata": {},
     "output_type": "execute_result"
    },
    {
     "data": {
      "image/png": "[encoded data removed]",
      "text/plain": [
       "<Figure size 1152x864 with 4 Axes>"
      ]
     },
     "metadata": {},
     "output_type": "display_data"
    }
   ],
   "source": [
    "forplot_1 = assessments.query(\"code_presentation == '2013B'\") \\\n",
    "    .groupby(['code_module', 'assessment_type'], as_index=False) \\\n",
    "    .agg(count_ass_type=('assessment_type', 'count'))\n",
    "\n",
    "forplot_2 = assessments.query(\"code_presentation == '2013J'\") \\\n",
    "    .groupby(['code_module', 'assessment_type'], as_index=False) \\\n",
    "    .agg(count_ass_type=('assessment_type', 'count'))\n",
    "\n",
    "forplot_3 = assessments.query(\"code_presentation == '2014B'\") \\\n",
    "    .groupby(['code_module', 'assessment_type'], as_index=False) \\\n",
    "    .agg(count_ass_type=('assessment_type', 'count'))\n",
    "\n",
    "forplot_4 = assessments.query(\"code_presentation == '2014J'\") \\\n",
    "    .groupby(['code_module', 'assessment_type'], as_index=False) \\\n",
    "    .agg(count_ass_type=('assessment_type', 'count'))\n",
    "\n",
    "fig, axes = plt.subplots(2, 2, figsize=(16, 12))\n",
    "fig.suptitle('Count of assessments by code presentation')\n",
    "axes[0, 0].set_title('2013B')\n",
    "axes[0, 1].set_title('2013J')\n",
    "axes[1, 0].set_title('2014B')\n",
    "axes[1, 1].set_title('2014J')\n",
    "sns.set_theme()\n",
    "sns.barplot(ax=axes[0, 0], data=forplot_1, x='code_module', y='count_ass_type', \n",
    "            hue='assessment_type', hue_order=['CMA', 'TMA', 'Exam'])\n",
    "sns.barplot(ax=axes[0, 1], data=forplot_2, x='code_module', y='count_ass_type', \n",
    "            hue='assessment_type', hue_order=['CMA', 'TMA', 'Exam'])\n",
    "sns.barplot(ax=axes[1, 0], data=forplot_3, x='code_module', y='count_ass_type', \n",
    "            hue='assessment_type', hue_order=['CMA', 'TMA', 'Exam'])\n",
    "sns.barplot(ax=axes[1, 1], data=forplot_4, x='code_module', y='count_ass_type', \n",
    "            hue='assessment_type', hue_order=['CMA', 'TMA', 'Exam'])"
   ]
  },
  {
   "cell_type": "markdown",
   "metadata": {},
   "source": [
    "Посмотрим на количество сдающих экзамены студентов в кажом семестре."
   ]
  },
  {
   "cell_type": "code",
   "execution_count": 33,
   "metadata": {},
   "outputs": [
    {
     "data": {
      "text/plain": [
       "<matplotlib.axes._subplots.AxesSubplot at 0x7fb252ce22b0>"
      ]
     },
     "execution_count": 33,
     "metadata": {},
     "output_type": "execute_result"
    },
    {
     "data": {
      "image/png": "[encoded data removed]",
      "text/plain": [
       "<Figure size 432x288 with 1 Axes>"
      ]
     },
     "metadata": {},
     "output_type": "display_data"
    }
   ],
   "source": [
    "stud_exams = assessments.merge(studentAssessment)\n",
    "\n",
    "forplot_9 = stud_exams.query(\"assessment_type == 'Exam'\") \\\n",
    "    .groupby(['code_presentation', 'code_module'], as_index=False) \\\n",
    "    .agg(count_of_stud=('id_student', 'nunique'))\n",
    "\n",
    "sns.barplot(data=forplot_9, x='code_presentation', y='count_of_stud', hue='code_module')"
   ]
  },
  {
   "cell_type": "markdown",
   "metadata": {},
   "source": [
    "Студенты сдавали экзамены только по предметам DDD и CCC. Наибольшее количество студентов, сдающих экзамены, было зафиксировано в семесте 2014J - чуть больше 2000 человек."
   ]
  },
  {
   "cell_type": "markdown",
   "metadata": {},
   "source": [
    "Визуализируем среднюю оценку по разным типам оценивания в предметах каждого семестра."
   ]
  },
  {
   "cell_type": "code",
   "execution_count": 34,
   "metadata": {},
   "outputs": [
    {
     "data": {
      "text/plain": [
       "<matplotlib.axes._subplots.AxesSubplot at 0x7fb252b73d30>"
      ]
     },
     "execution_count": 34,
     "metadata": {},
     "output_type": "execute_result"
    },
    {
     "data": {
      "image/png": "[encoded data removed]",
      "text/plain": [
       "<Figure size 1152x864 with 4 Axes>"
      ]
     },
     "metadata": {},
     "output_type": "display_data"
    }
   ],
   "source": [
    "forplot_5 = stud_exams.query(\"code_presentation == '2013B'\") \\\n",
    "    .groupby(['code_module', 'assessment_type'], as_index=False) \\\n",
    "    .agg(mean_score=('score', 'mean'))\n",
    "\n",
    "forplot_6 = stud_exams.query(\"code_presentation == '2013J'\") \\\n",
    "    .groupby(['code_module', 'assessment_type'], as_index=False) \\\n",
    "    .agg(mean_score=('score', 'mean'))\n",
    "\n",
    "forplot_7 = stud_exams.query(\"code_presentation == '2014B'\") \\\n",
    "    .groupby(['code_module', 'assessment_type'], as_index=False) \\\n",
    "    .agg(mean_score=('score', 'mean'))\n",
    "\n",
    "forplot_8 = stud_exams.query(\"code_presentation == '2014J'\") \\\n",
    "    .groupby(['code_module', 'assessment_type'], as_index=False) \\\n",
    "    .agg(mean_score=('score', 'mean'))\n",
    "\n",
    "fig, axes = plt.subplots(2, 2, figsize=(16, 12))\n",
    "fig.suptitle('Mean score of assessments by code presentation')\n",
    "axes[0, 0].set_title('2013B')\n",
    "axes[0, 1].set_title('2013J')\n",
    "axes[1, 0].set_title('2014B')\n",
    "axes[1, 1].set_title('2014J')\n",
    "sns.set_theme()\n",
    "sns.barplot(ax=axes[0, 0], data=forplot_5, x='code_module', y='mean_score', \n",
    "            hue='assessment_type', hue_order=['CMA', 'TMA', 'Exam'])\n",
    "sns.barplot(ax=axes[0, 1], data=forplot_6, x='code_module', y='mean_score', \n",
    "            hue='assessment_type', hue_order=['CMA', 'TMA', 'Exam'])\n",
    "sns.barplot(ax=axes[1, 0], data=forplot_7, x='code_module', y='mean_score', \n",
    "            hue='assessment_type', hue_order=['CMA', 'TMA', 'Exam'])\n",
    "sns.barplot(ax=axes[1, 1], data=forplot_8, x='code_module', y='mean_score', \n",
    "            hue='assessment_type', hue_order=['CMA', 'TMA', 'Exam'])"
   ]
  },
  {
   "cell_type": "markdown",
   "metadata": {},
   "source": [
    "Самый низкий средний балл за экзамен по курсу DDD в семестре 2013B - менее 60 баллов. Сдавать этот экзамен студентам было сложнее всего. А самый высокий - за экзамен по курсу ССС в семестре 2014B - 70 баллов. Этот экзамен дался студентам легче всего."
   ]
  },
  {
   "cell_type": "markdown",
   "metadata": {},
   "source": [
    "## Приступим к заданиям."
   ]
  },
  {
   "cell_type": "markdown",
   "metadata": {},
   "source": [
    "### Задание 1\n",
    "Cколько студентов успешно сдали только один курс?"
   ]
  },
  {
   "cell_type": "code",
   "execution_count": 35,
   "metadata": {},
   "outputs": [
    {
     "name": "stdout",
     "output_type": "stream",
     "text": [
      "Количество студентов, успешно сдавших один курс = 3802\n"
     ]
    }
   ],
   "source": [
    "# этот df пригодится и в следующих заданиях\n",
    "df_1 = studentAssessment.merge(assessments, how='inner', on='id_assessment')\n",
    "\n",
    "stud_pass_one = df_1.query(\"score >= 40 & assessment_type == 'Exam'\") \\\n",
    "    .groupby('id_student', as_index=False).agg({'id_assessment': 'count'}) \\\n",
    "    .query('id_assessment == 1') \\\n",
    "    .id_student.count()\n",
    "\n",
    "print(f'Количество студентов, успешно сдавших один курс = {stud_pass_one}')"
   ]
  },
  {
   "cell_type": "markdown",
   "metadata": {},
   "source": [
    "### Задание 2\n",
    "Выяви самый сложный и самый простой экзамен: найди курсы и экзамены в рамках курса, которые обладают самой низкой и самой высокой завершаемостью."
   ]
  },
  {
   "cell_type": "code",
   "execution_count": 36,
   "metadata": {},
   "outputs": [
    {
     "data": {
      "text/html": [
       "<div>\n",
       "<style scoped>\n",
       "    .dataframe tbody tr th:only-of-type {\n",
       "        vertical-align: middle;\n",
       "    }\n",
       "\n",
       "    .dataframe tbody tr th {\n",
       "        vertical-align: top;\n",
       "    }\n",
       "\n",
       "    .dataframe thead th {\n",
       "        text-align: right;\n",
       "    }\n",
       "</style>\n",
       "<table border=\"1\" class=\"dataframe\">\n",
       "  <thead>\n",
       "    <tr style=\"text-align: right;\">\n",
       "      <th></th>\n",
       "      <th>id_assessment</th>\n",
       "      <th>all_tryings</th>\n",
       "      <th>success_tryings</th>\n",
       "      <th>succes_rate, %</th>\n",
       "    </tr>\n",
       "  </thead>\n",
       "  <tbody>\n",
       "    <tr>\n",
       "      <th>0</th>\n",
       "      <td>25340</td>\n",
       "      <td>602</td>\n",
       "      <td>504</td>\n",
       "      <td>83.721</td>\n",
       "    </tr>\n",
       "    <tr>\n",
       "      <th>1</th>\n",
       "      <td>24299</td>\n",
       "      <td>1168</td>\n",
       "      <td>1019</td>\n",
       "      <td>87.243</td>\n",
       "    </tr>\n",
       "    <tr>\n",
       "      <th>2</th>\n",
       "      <td>25368</td>\n",
       "      <td>950</td>\n",
       "      <td>842</td>\n",
       "      <td>88.632</td>\n",
       "    </tr>\n",
       "    <tr>\n",
       "      <th>3</th>\n",
       "      <td>24290</td>\n",
       "      <td>747</td>\n",
       "      <td>664</td>\n",
       "      <td>88.889</td>\n",
       "    </tr>\n",
       "    <tr>\n",
       "      <th>4</th>\n",
       "      <td>25354</td>\n",
       "      <td>968</td>\n",
       "      <td>878</td>\n",
       "      <td>90.702</td>\n",
       "    </tr>\n",
       "    <tr>\n",
       "      <th>5</th>\n",
       "      <td>25361</td>\n",
       "      <td>524</td>\n",
       "      <td>485</td>\n",
       "      <td>92.557</td>\n",
       "    </tr>\n",
       "  </tbody>\n",
       "</table>\n",
       "</div>"
      ],
      "text/plain": [
       "   id_assessment  all_tryings  success_tryings  succes_rate, %\n",
       "0          25340          602              504          83.721\n",
       "1          24299         1168             1019          87.243\n",
       "2          25368          950              842          88.632\n",
       "3          24290          747              664          88.889\n",
       "4          25354          968              878          90.702\n",
       "5          25361          524              485          92.557"
      ]
     },
     "execution_count": 36,
     "metadata": {},
     "output_type": "execute_result"
    }
   ],
   "source": [
    "all_tryings = df_1.query('assessment_type == \"Exam\"') \\\n",
    "    .groupby('id_assessment', as_index=False).agg({'id_student': 'count'}) \\\n",
    "    .rename(columns={'id_student': 'all_tryings'})\n",
    "\n",
    "success_tryings = df_1.query(\"score >= 40 & assessment_type == 'Exam'\") \\\n",
    "    .groupby('id_assessment', as_index=False).agg({'id_student': 'count'}) \\\n",
    "    .rename(columns={'id_student': 'success_tryings'})\n",
    "\n",
    "df_2 = all_tryings.merge(success_tryings, how='inner', on='id_assessment') \n",
    "\n",
    "# привели завершаемость в более приятный вид\n",
    "df_2['succes_rate, %'] = (df_2.success_tryings / df_2.all_tryings * 100).round(3)\n",
    "\n",
    "df_2 = df_2.sort_values('succes_rate, %').reset_index(drop=True)\n",
    "\n",
    "df_2"
   ]
  },
  {
   "cell_type": "code",
   "execution_count": 37,
   "metadata": {},
   "outputs": [
    {
     "data": {
      "image/png": "[encoded data removed]",
      "text/plain": [
       "<Figure size 1080x360 with 1 Axes>"
      ]
     },
     "metadata": {},
     "output_type": "display_data"
    }
   ],
   "source": [
    "plt.figure(figsize=(15, 5))\n",
    "sns.set_theme()\n",
    "plots = sns.barplot(data=df_2, x='id_assessment', y='succes_rate, %')\n",
    "for bar in plots.patches:\n",
    "    plots.annotate(format(bar.get_height(), '.2f'), \n",
    "                         (bar.get_x() + bar.get_width() / 2, \n",
    "                          bar.get_height()), ha='center', va='center', \n",
    "                   size=11, xytext=(0, 8), textcoords='offset points')"
   ]
  },
  {
   "cell_type": "code",
   "execution_count": 38,
   "metadata": {},
   "outputs": [
    {
     "data": {
      "text/html": [
       "<div>\n",
       "<style scoped>\n",
       "    .dataframe tbody tr th:only-of-type {\n",
       "        vertical-align: middle;\n",
       "    }\n",
       "\n",
       "    .dataframe tbody tr th {\n",
       "        vertical-align: top;\n",
       "    }\n",
       "\n",
       "    .dataframe thead th {\n",
       "        text-align: right;\n",
       "    }\n",
       "</style>\n",
       "<table border=\"1\" class=\"dataframe\">\n",
       "  <thead>\n",
       "    <tr style=\"text-align: right;\">\n",
       "      <th></th>\n",
       "      <th>code_module</th>\n",
       "      <th>code_presentation</th>\n",
       "      <th>id_assessment</th>\n",
       "      <th>assessment_type</th>\n",
       "      <th>date</th>\n",
       "      <th>module_presentation_length</th>\n",
       "    </tr>\n",
       "  </thead>\n",
       "  <tbody>\n",
       "    <tr>\n",
       "      <th>87</th>\n",
       "      <td>DDD</td>\n",
       "      <td>2013B</td>\n",
       "      <td>25340</td>\n",
       "      <td>Exam</td>\n",
       "      <td>240.0</td>\n",
       "      <td>240</td>\n",
       "    </tr>\n",
       "    <tr>\n",
       "      <th>101</th>\n",
       "      <td>DDD</td>\n",
       "      <td>2014B</td>\n",
       "      <td>25361</td>\n",
       "      <td>Exam</td>\n",
       "      <td>241.0</td>\n",
       "      <td>241</td>\n",
       "    </tr>\n",
       "  </tbody>\n",
       "</table>\n",
       "</div>"
      ],
      "text/plain": [
       "    code_module code_presentation  id_assessment assessment_type   date  \\\n",
       "87          DDD             2013B          25340            Exam  240.0   \n",
       "101         DDD             2014B          25361            Exam  241.0   \n",
       "\n",
       "     module_presentation_length  \n",
       "87                          240  \n",
       "101                         241  "
      ]
     },
     "execution_count": 38,
     "metadata": {},
     "output_type": "execute_result"
    }
   ],
   "source": [
    "assessments.query(\"id_assessment == 25340 or id_assessment == 25361\")"
   ]
  },
  {
   "cell_type": "markdown",
   "metadata": {},
   "source": [
    "Самый сложный экзамен был по курсу DDD в семестре 2013B с id 25340, процент его сдачи сдачи самый низкий среди всех экзаменов (83.721 %).\n",
    "\n",
    "Самый легкий экзамен по курсу DDD в семестре 2014B с id 25361, процент его сдачи самый высокий среди всех экзаменов (92.557 %)."
   ]
  },
  {
   "cell_type": "markdown",
   "metadata": {},
   "source": [
    "### Задание 3\n",
    "По каждому предмету определи средний срок сдачи экзаменов."
   ]
  },
  {
   "cell_type": "code",
   "execution_count": 39,
   "metadata": {},
   "outputs": [
    {
     "data": {
      "text/html": [
       "<div>\n",
       "<style scoped>\n",
       "    .dataframe tbody tr th:only-of-type {\n",
       "        vertical-align: middle;\n",
       "    }\n",
       "\n",
       "    .dataframe tbody tr th {\n",
       "        vertical-align: top;\n",
       "    }\n",
       "\n",
       "    .dataframe thead th {\n",
       "        text-align: right;\n",
       "    }\n",
       "</style>\n",
       "<table border=\"1\" class=\"dataframe\">\n",
       "  <thead>\n",
       "    <tr style=\"text-align: right;\">\n",
       "      <th></th>\n",
       "      <th>code_module</th>\n",
       "      <th>avg_exam_date</th>\n",
       "    </tr>\n",
       "  </thead>\n",
       "  <tbody>\n",
       "    <tr>\n",
       "      <th>0</th>\n",
       "      <td>DDD</td>\n",
       "      <td>238.0</td>\n",
       "    </tr>\n",
       "    <tr>\n",
       "      <th>1</th>\n",
       "      <td>CCC</td>\n",
       "      <td>239.0</td>\n",
       "    </tr>\n",
       "  </tbody>\n",
       "</table>\n",
       "</div>"
      ],
      "text/plain": [
       "  code_module  avg_exam_date\n",
       "0         DDD          238.0\n",
       "1         CCC          239.0"
      ]
     },
     "execution_count": 39,
     "metadata": {},
     "output_type": "execute_result"
    }
   ],
   "source": [
    "df_3 = studentAssessment.merge(assessments, how='inner', on='id_assessment') \\\n",
    "    .query(\"score >= 40 & assessment_type == 'Exam'\") \\\n",
    "    .groupby('code_module', as_index=False).agg({'date_submitted': 'mean'}) \\\n",
    "    .sort_values('date_submitted').reset_index(drop=True) \\\n",
    "    .rename(columns={'date_submitted': 'avg_exam_date'})\n",
    "df_3.avg_exam_date = df_3.avg_exam_date.round()\n",
    "df_3"
   ]
  },
  {
   "cell_type": "markdown",
   "metadata": {},
   "source": [
    "Студенты сдавали экзамен всего по двум предметам, средний срок сдачи этих экзаменов примерно одинаковый, у DDD - на один день меньше."
   ]
  },
  {
   "cell_type": "markdown",
   "metadata": {},
   "source": [
    "### Задание 4\n",
    "Выяви самые популярные предметы (ТОП-3) по количеству регистраций на них. А также предметы с самым большим оттоком (ТОП-3)."
   ]
  },
  {
   "cell_type": "markdown",
   "metadata": {},
   "source": [
    "Чтобы посчитать отток уберем NaN из date_unregistration"
   ]
  },
  {
   "cell_type": "code",
   "execution_count": 40,
   "metadata": {},
   "outputs": [
    {
     "data": {
      "text/html": [
       "<div>\n",
       "<style scoped>\n",
       "    .dataframe tbody tr th:only-of-type {\n",
       "        vertical-align: middle;\n",
       "    }\n",
       "\n",
       "    .dataframe tbody tr th {\n",
       "        vertical-align: top;\n",
       "    }\n",
       "\n",
       "    .dataframe thead th {\n",
       "        text-align: right;\n",
       "    }\n",
       "</style>\n",
       "<table border=\"1\" class=\"dataframe\">\n",
       "  <thead>\n",
       "    <tr style=\"text-align: right;\">\n",
       "      <th></th>\n",
       "      <th>code_module</th>\n",
       "      <th>unreg_count</th>\n",
       "    </tr>\n",
       "  </thead>\n",
       "  <tbody>\n",
       "    <tr>\n",
       "      <th>0</th>\n",
       "      <td>FFF</td>\n",
       "      <td>2380</td>\n",
       "    </tr>\n",
       "    <tr>\n",
       "      <th>1</th>\n",
       "      <td>BBB</td>\n",
       "      <td>2377</td>\n",
       "    </tr>\n",
       "    <tr>\n",
       "      <th>2</th>\n",
       "      <td>DDD</td>\n",
       "      <td>2235</td>\n",
       "    </tr>\n",
       "  </tbody>\n",
       "</table>\n",
       "</div>"
      ],
      "text/plain": [
       "  code_module  unreg_count\n",
       "0         FFF         2380\n",
       "1         BBB         2377\n",
       "2         DDD         2235"
      ]
     },
     "execution_count": 40,
     "metadata": {},
     "output_type": "execute_result"
    }
   ],
   "source": [
    "df_4_1 = studentRegistration.query(\"date_unregistration.notna()\")\\\n",
    "    .groupby('code_module', as_index=False).agg(unreg_count=('date_unregistration', 'count')) \\\n",
    "    .sort_values('unreg_count', ascending=False).reset_index(drop=True) \\\n",
    "    .head(3)\n",
    "df_4_1"
   ]
  },
  {
   "cell_type": "markdown",
   "metadata": {},
   "source": [
    "Под количеством регистраций я понимаю колонку date_registration в studentRegistration, при этом не имеет значения, была ли в дальнейшем отменена регистрация студента или нет."
   ]
  },
  {
   "cell_type": "code",
   "execution_count": 41,
   "metadata": {
    "scrolled": false
   },
   "outputs": [
    {
     "data": {
      "text/html": [
       "<div>\n",
       "<style scoped>\n",
       "    .dataframe tbody tr th:only-of-type {\n",
       "        vertical-align: middle;\n",
       "    }\n",
       "\n",
       "    .dataframe tbody tr th {\n",
       "        vertical-align: top;\n",
       "    }\n",
       "\n",
       "    .dataframe thead th {\n",
       "        text-align: right;\n",
       "    }\n",
       "</style>\n",
       "<table border=\"1\" class=\"dataframe\">\n",
       "  <thead>\n",
       "    <tr style=\"text-align: right;\">\n",
       "      <th></th>\n",
       "      <th>code_module</th>\n",
       "      <th>reg_count</th>\n",
       "    </tr>\n",
       "  </thead>\n",
       "  <tbody>\n",
       "    <tr>\n",
       "      <th>0</th>\n",
       "      <td>BBB</td>\n",
       "      <td>7900</td>\n",
       "    </tr>\n",
       "    <tr>\n",
       "      <th>1</th>\n",
       "      <td>FFF</td>\n",
       "      <td>7751</td>\n",
       "    </tr>\n",
       "    <tr>\n",
       "      <th>2</th>\n",
       "      <td>DDD</td>\n",
       "      <td>6257</td>\n",
       "    </tr>\n",
       "  </tbody>\n",
       "</table>\n",
       "</div>"
      ],
      "text/plain": [
       "  code_module  reg_count\n",
       "0         BBB       7900\n",
       "1         FFF       7751\n",
       "2         DDD       6257"
      ]
     },
     "execution_count": 41,
     "metadata": {},
     "output_type": "execute_result"
    }
   ],
   "source": [
    "df_4_2 = studentRegistration.groupby('code_module', as_index=False).agg({'date_registration': 'count'}) \\\n",
    "    .sort_values('date_registration', ascending=False).reset_index(drop=True) \\\n",
    "    .rename(columns={'date_registration': 'reg_count'}) \\\n",
    "    .head(3)\n",
    "df_4_2"
   ]
  },
  {
   "cell_type": "markdown",
   "metadata": {},
   "source": [
    "В тройке лидеров в обоих случаях курсы BBB, DDD, FFF. На них записывается больше всего студентов и больше всего их незавершает."
   ]
  },
  {
   "cell_type": "code",
   "execution_count": 42,
   "metadata": {},
   "outputs": [
    {
     "data": {
      "text/html": [
       "<div>\n",
       "<style scoped>\n",
       "    .dataframe tbody tr th:only-of-type {\n",
       "        vertical-align: middle;\n",
       "    }\n",
       "\n",
       "    .dataframe tbody tr th {\n",
       "        vertical-align: top;\n",
       "    }\n",
       "\n",
       "    .dataframe thead th {\n",
       "        text-align: right;\n",
       "    }\n",
       "</style>\n",
       "<table border=\"1\" class=\"dataframe\">\n",
       "  <thead>\n",
       "    <tr style=\"text-align: right;\">\n",
       "      <th></th>\n",
       "      <th>code_module</th>\n",
       "      <th>unreg_count</th>\n",
       "      <th>reg_count</th>\n",
       "      <th>complete_rate, %</th>\n",
       "    </tr>\n",
       "  </thead>\n",
       "  <tbody>\n",
       "    <tr>\n",
       "      <th>0</th>\n",
       "      <td>FFF</td>\n",
       "      <td>2380</td>\n",
       "      <td>7751</td>\n",
       "      <td>30.706</td>\n",
       "    </tr>\n",
       "    <tr>\n",
       "      <th>1</th>\n",
       "      <td>BBB</td>\n",
       "      <td>2377</td>\n",
       "      <td>7900</td>\n",
       "      <td>30.089</td>\n",
       "    </tr>\n",
       "    <tr>\n",
       "      <th>2</th>\n",
       "      <td>DDD</td>\n",
       "      <td>2235</td>\n",
       "      <td>6257</td>\n",
       "      <td>35.720</td>\n",
       "    </tr>\n",
       "  </tbody>\n",
       "</table>\n",
       "</div>"
      ],
      "text/plain": [
       "  code_module  unreg_count  reg_count  complete_rate, %\n",
       "0         FFF         2380       7751            30.706\n",
       "1         BBB         2377       7900            30.089\n",
       "2         DDD         2235       6257            35.720"
      ]
     },
     "execution_count": 42,
     "metadata": {},
     "output_type": "execute_result"
    }
   ],
   "source": [
    "df_4 = df_4_1.merge(df_4_2, how='inner', on='code_module')\n",
    "df_4['complete_rate, %'] = (df_4.unreg_count / df_4.reg_count * 100).round(3)\n",
    "df_4"
   ]
  },
  {
   "cell_type": "code",
   "execution_count": 43,
   "metadata": {},
   "outputs": [
    {
     "data": {
      "image/png": "[encoded data removed]",
      "text/plain": [
       "<Figure size 1080x360 with 1 Axes>"
      ]
     },
     "metadata": {},
     "output_type": "display_data"
    }
   ],
   "source": [
    "plt.figure(figsize=(15, 5))\n",
    "sns.set_theme()\n",
    "plots = sns.barplot(data=df_4, x='code_module', y='complete_rate, %')\n",
    "for bar in plots.patches:\n",
    "    plots.annotate(format(bar.get_height(), '.2f'), \n",
    "                         (bar.get_x() + bar.get_width() / 2, \n",
    "                          bar.get_height()), ha='center', va='center', \n",
    "                   size=11, xytext=(0, 8), textcoords='offset points')"
   ]
  },
  {
   "cell_type": "markdown",
   "metadata": {},
   "source": [
    "Лишь треть студентов по этим предметам оканчивают курс."
   ]
  },
  {
   "cell_type": "markdown",
   "metadata": {},
   "source": [
    "### Задание 5\n",
    "Используя pandas, в период с начала 2013 по конец 2014 выяви семестр с самой низкой завершаемостью курсов и самыми долгими средними сроками сдачи курсов."
   ]
  },
  {
   "cell_type": "code",
   "execution_count": 44,
   "metadata": {},
   "outputs": [
    {
     "data": {
      "text/html": [
       "<div>\n",
       "<style scoped>\n",
       "    .dataframe tbody tr th:only-of-type {\n",
       "        vertical-align: middle;\n",
       "    }\n",
       "\n",
       "    .dataframe tbody tr th {\n",
       "        vertical-align: top;\n",
       "    }\n",
       "\n",
       "    .dataframe thead th {\n",
       "        text-align: right;\n",
       "    }\n",
       "</style>\n",
       "<table border=\"1\" class=\"dataframe\">\n",
       "  <thead>\n",
       "    <tr style=\"text-align: right;\">\n",
       "      <th></th>\n",
       "      <th>code_presentation</th>\n",
       "      <th>succsess_trying</th>\n",
       "      <th>all_trying</th>\n",
       "      <th>complete_rate, %</th>\n",
       "    </tr>\n",
       "  </thead>\n",
       "  <tbody>\n",
       "    <tr>\n",
       "      <th>0</th>\n",
       "      <td>2013B</td>\n",
       "      <td>478</td>\n",
       "      <td>602</td>\n",
       "      <td>79.402</td>\n",
       "    </tr>\n",
       "    <tr>\n",
       "      <th>1</th>\n",
       "      <td>2013J</td>\n",
       "      <td>856</td>\n",
       "      <td>968</td>\n",
       "      <td>88.430</td>\n",
       "    </tr>\n",
       "    <tr>\n",
       "      <th>2</th>\n",
       "      <td>2014B</td>\n",
       "      <td>1128</td>\n",
       "      <td>1271</td>\n",
       "      <td>88.749</td>\n",
       "    </tr>\n",
       "    <tr>\n",
       "      <th>3</th>\n",
       "      <td>2014J</td>\n",
       "      <td>1820</td>\n",
       "      <td>2118</td>\n",
       "      <td>85.930</td>\n",
       "    </tr>\n",
       "  </tbody>\n",
       "</table>\n",
       "</div>"
      ],
      "text/plain": [
       "  code_presentation  succsess_trying  all_trying  complete_rate, %\n",
       "0             2013B              478         602            79.402\n",
       "1             2013J              856         968            88.430\n",
       "2             2014B             1128        1271            88.749\n",
       "3             2014J             1820        2118            85.930"
      ]
     },
     "execution_count": 44,
     "metadata": {},
     "output_type": "execute_result"
    }
   ],
   "source": [
    "suc_stud = df_1.query(\"assessment_type == 'Exam' & score > 40\") \\\n",
    "    .groupby('code_presentation', as_index=False)\\\n",
    "    .agg({'id_student': 'count'}) \\\n",
    "    .rename(columns={'id_student': 'succsess_trying'})\n",
    "\n",
    "try_stud = df_1.query(\"assessment_type == 'Exam'\") \\\n",
    "    .groupby('code_presentation', as_index=False)\\\n",
    "    .agg({'id_student': 'count'}) \\\n",
    "    .rename(columns={'id_student': 'all_trying'})\n",
    "\n",
    "df_5_1 = suc_stud.merge(try_stud, on='code_presentation')\n",
    "df_5_1['complete_rate, %'] = (df_5_1.succsess_trying / df_5_1.all_trying * 100).round(3)\n",
    "df_5_1"
   ]
  },
  {
   "cell_type": "code",
   "execution_count": 45,
   "metadata": {},
   "outputs": [
    {
     "data": {
      "text/html": [
       "<div>\n",
       "<style scoped>\n",
       "    .dataframe tbody tr th:only-of-type {\n",
       "        vertical-align: middle;\n",
       "    }\n",
       "\n",
       "    .dataframe tbody tr th {\n",
       "        vertical-align: top;\n",
       "    }\n",
       "\n",
       "    .dataframe thead th {\n",
       "        text-align: right;\n",
       "    }\n",
       "</style>\n",
       "<table border=\"1\" class=\"dataframe\">\n",
       "  <thead>\n",
       "    <tr style=\"text-align: right;\">\n",
       "      <th></th>\n",
       "      <th>code_presentation</th>\n",
       "      <th>succsess_trying</th>\n",
       "      <th>all_trying</th>\n",
       "      <th>complete_rate, %</th>\n",
       "      <th>avg_exam_date</th>\n",
       "    </tr>\n",
       "  </thead>\n",
       "  <tbody>\n",
       "    <tr>\n",
       "      <th>0</th>\n",
       "      <td>2013B</td>\n",
       "      <td>478</td>\n",
       "      <td>602</td>\n",
       "      <td>79.402</td>\n",
       "      <td>230.0</td>\n",
       "    </tr>\n",
       "    <tr>\n",
       "      <th>3</th>\n",
       "      <td>2014J</td>\n",
       "      <td>1820</td>\n",
       "      <td>2118</td>\n",
       "      <td>85.930</td>\n",
       "      <td>244.0</td>\n",
       "    </tr>\n",
       "    <tr>\n",
       "      <th>1</th>\n",
       "      <td>2013J</td>\n",
       "      <td>856</td>\n",
       "      <td>968</td>\n",
       "      <td>88.430</td>\n",
       "      <td>240.0</td>\n",
       "    </tr>\n",
       "    <tr>\n",
       "      <th>2</th>\n",
       "      <td>2014B</td>\n",
       "      <td>1128</td>\n",
       "      <td>1271</td>\n",
       "      <td>88.749</td>\n",
       "      <td>233.0</td>\n",
       "    </tr>\n",
       "  </tbody>\n",
       "</table>\n",
       "</div>"
      ],
      "text/plain": [
       "  code_presentation  succsess_trying  all_trying  complete_rate, %  \\\n",
       "0             2013B              478         602            79.402   \n",
       "3             2014J             1820        2118            85.930   \n",
       "1             2013J              856         968            88.430   \n",
       "2             2014B             1128        1271            88.749   \n",
       "\n",
       "   avg_exam_date  \n",
       "0          230.0  \n",
       "3          244.0  \n",
       "1          240.0  \n",
       "2          233.0  "
      ]
     },
     "execution_count": 45,
     "metadata": {},
     "output_type": "execute_result"
    }
   ],
   "source": [
    "df_5_2 = df_1.query(\"assessment_type == 'Exam' and score >= 40\")\\\n",
    "    .groupby('code_presentation', as_index=False).agg({'date_submitted': 'mean'})\\\n",
    "    .rename(columns={'date_submitted': 'avg_exam_date'}) \\\n",
    "    .round()\n",
    "df_5 = df_5_1.merge(df_5_2, on='code_presentation') \\\n",
    "    .sort_values(['complete_rate, %', 'avg_exam_date'], ascending=[True, False])\n",
    "\n",
    "df_5"
   ]
  },
  {
   "cell_type": "markdown",
   "metadata": {},
   "source": [
    "Таким образом, семестром с самой низкой завершаемостью курсов **и** самыми долгими средними сроками сдачи курсов в период с начала 2013 по конец 2014 является семестр **2013B**.\n",
    "\n",
    "Если же рассматривать два требования по-отдельности, то семестр с самой низкой завершаемостью курсов по-прежнему **2013B**,\n",
    "а семестр с самым долгим средним сроком сдачи курсов - **2014J**."
   ]
  },
  {
   "cell_type": "markdown",
   "metadata": {},
   "source": [
    "### Задание 6\n",
    "\n",
    "Часто для качественного анализа аудитории используют подходы, основанные на сегментации. \n",
    "\n",
    "Используя python, построй адаптированные RFM-кластеры студентов, чтобы качественно оценить свою аудиторию. \n",
    "\n",
    "В адаптированной кластеризации можешь выбрать следующие метрики: \n",
    "- R - среднее время сдачи одного экзамена, \n",
    "- F - завершаемость курсов, \n",
    "- M - среднее количество баллов, получаемое за экзамен. \n",
    "\n",
    "Подробно опиши, как ты создавал кластеры. \n",
    "\n",
    "Для каждого RFM-сегмента построй границы метрик recency, frequency и monetary для интерпретации этих кластеров."
   ]
  },
  {
   "cell_type": "markdown",
   "metadata": {},
   "source": [
    "Cреднее время сдачи одного экзамена (R):"
   ]
  },
  {
   "cell_type": "code",
   "execution_count": 46,
   "metadata": {
    "scrolled": false
   },
   "outputs": [
    {
     "data": {
      "text/html": [
       "<div>\n",
       "<style scoped>\n",
       "    .dataframe tbody tr th:only-of-type {\n",
       "        vertical-align: middle;\n",
       "    }\n",
       "\n",
       "    .dataframe tbody tr th {\n",
       "        vertical-align: top;\n",
       "    }\n",
       "\n",
       "    .dataframe thead th {\n",
       "        text-align: right;\n",
       "    }\n",
       "</style>\n",
       "<table border=\"1\" class=\"dataframe\">\n",
       "  <thead>\n",
       "    <tr style=\"text-align: right;\">\n",
       "      <th></th>\n",
       "      <th>id_student</th>\n",
       "      <th>R</th>\n",
       "    </tr>\n",
       "  </thead>\n",
       "  <tbody>\n",
       "    <tr>\n",
       "      <th>0</th>\n",
       "      <td>6516</td>\n",
       "      <td>112.0</td>\n",
       "    </tr>\n",
       "    <tr>\n",
       "      <th>1</th>\n",
       "      <td>8462</td>\n",
       "      <td>23.0</td>\n",
       "    </tr>\n",
       "    <tr>\n",
       "      <th>2</th>\n",
       "      <td>11391</td>\n",
       "      <td>112.0</td>\n",
       "    </tr>\n",
       "    <tr>\n",
       "      <th>3</th>\n",
       "      <td>23629</td>\n",
       "      <td>56.0</td>\n",
       "    </tr>\n",
       "    <tr>\n",
       "      <th>4</th>\n",
       "      <td>23698</td>\n",
       "      <td>133.0</td>\n",
       "    </tr>\n",
       "  </tbody>\n",
       "</table>\n",
       "</div>"
      ],
      "text/plain": [
       "   id_student      R\n",
       "0        6516  112.0\n",
       "1        8462   23.0\n",
       "2       11391  112.0\n",
       "3       23629   56.0\n",
       "4       23698  133.0"
      ]
     },
     "execution_count": 46,
     "metadata": {},
     "output_type": "execute_result"
    }
   ],
   "source": [
    "df_R = df_1.groupby('id_student', as_index=False).agg(R=('date_submitted', 'mean'))\n",
    "df_R['R'] = df_R['R'].round()\n",
    "df_R.head()"
   ]
  },
  {
   "cell_type": "markdown",
   "metadata": {},
   "source": [
    "Завершаемость курсов (F):"
   ]
  },
  {
   "cell_type": "code",
   "execution_count": 47,
   "metadata": {},
   "outputs": [
    {
     "data": {
      "text/html": [
       "<div>\n",
       "<style scoped>\n",
       "    .dataframe tbody tr th:only-of-type {\n",
       "        vertical-align: middle;\n",
       "    }\n",
       "\n",
       "    .dataframe tbody tr th {\n",
       "        vertical-align: top;\n",
       "    }\n",
       "\n",
       "    .dataframe thead th {\n",
       "        text-align: right;\n",
       "    }\n",
       "</style>\n",
       "<table border=\"1\" class=\"dataframe\">\n",
       "  <thead>\n",
       "    <tr style=\"text-align: right;\">\n",
       "      <th></th>\n",
       "      <th>id_student</th>\n",
       "      <th>F</th>\n",
       "    </tr>\n",
       "  </thead>\n",
       "  <tbody>\n",
       "    <tr>\n",
       "      <th>0</th>\n",
       "      <td>23698</td>\n",
       "      <td>100.0</td>\n",
       "    </tr>\n",
       "    <tr>\n",
       "      <th>1</th>\n",
       "      <td>24213</td>\n",
       "      <td>100.0</td>\n",
       "    </tr>\n",
       "    <tr>\n",
       "      <th>2</th>\n",
       "      <td>27116</td>\n",
       "      <td>100.0</td>\n",
       "    </tr>\n",
       "    <tr>\n",
       "      <th>3</th>\n",
       "      <td>28787</td>\n",
       "      <td>100.0</td>\n",
       "    </tr>\n",
       "    <tr>\n",
       "      <th>4</th>\n",
       "      <td>29411</td>\n",
       "      <td>100.0</td>\n",
       "    </tr>\n",
       "  </tbody>\n",
       "</table>\n",
       "</div>"
      ],
      "text/plain": [
       "   id_student      F\n",
       "0       23698  100.0\n",
       "1       24213  100.0\n",
       "2       27116  100.0\n",
       "3       28787  100.0\n",
       "4       29411  100.0"
      ]
     },
     "execution_count": 47,
     "metadata": {},
     "output_type": "execute_result"
    }
   ],
   "source": [
    "sucсess_stud = df_1.query(\"assessment_type == 'Exam' & score > 40\") \\\n",
    "    .groupby('id_student', as_index=False)\\\n",
    "    .agg({'score': 'count'}) \\\n",
    "    .rename(columns={'score': 'succsess_trying'})\n",
    "\n",
    "trying_stud = df_1.query(\"assessment_type == 'Exam'\") \\\n",
    "    .groupby('id_student', as_index=False)\\\n",
    "    .agg({'score': 'count'}) \\\n",
    "    .rename(columns={'score': 'all_trying'})\n",
    "\n",
    "df_F = sucсess_stud.merge(trying_stud, on='id_student')\n",
    "df_F['F'] = (df_F.succsess_trying / df_F.all_trying * 100).round(3)\n",
    "df_F = df_F.drop(columns=['succsess_trying', 'all_trying'])\n",
    "df_F.head()"
   ]
  },
  {
   "cell_type": "markdown",
   "metadata": {},
   "source": [
    "Cреднее количество баллов для каждого студента, получаемое за экзамен (M):"
   ]
  },
  {
   "cell_type": "code",
   "execution_count": 48,
   "metadata": {
    "scrolled": false
   },
   "outputs": [
    {
     "data": {
      "text/html": [
       "<div>\n",
       "<style scoped>\n",
       "    .dataframe tbody tr th:only-of-type {\n",
       "        vertical-align: middle;\n",
       "    }\n",
       "\n",
       "    .dataframe tbody tr th {\n",
       "        vertical-align: top;\n",
       "    }\n",
       "\n",
       "    .dataframe thead th {\n",
       "        text-align: right;\n",
       "    }\n",
       "</style>\n",
       "<table border=\"1\" class=\"dataframe\">\n",
       "  <thead>\n",
       "    <tr style=\"text-align: right;\">\n",
       "      <th></th>\n",
       "      <th>id_student</th>\n",
       "      <th>M</th>\n",
       "    </tr>\n",
       "  </thead>\n",
       "  <tbody>\n",
       "    <tr>\n",
       "      <th>0</th>\n",
       "      <td>6516</td>\n",
       "      <td>62.0</td>\n",
       "    </tr>\n",
       "    <tr>\n",
       "      <th>1</th>\n",
       "      <td>8462</td>\n",
       "      <td>87.0</td>\n",
       "    </tr>\n",
       "    <tr>\n",
       "      <th>2</th>\n",
       "      <td>11391</td>\n",
       "      <td>82.0</td>\n",
       "    </tr>\n",
       "    <tr>\n",
       "      <th>3</th>\n",
       "      <td>23629</td>\n",
       "      <td>82.0</td>\n",
       "    </tr>\n",
       "    <tr>\n",
       "      <th>4</th>\n",
       "      <td>23698</td>\n",
       "      <td>74.0</td>\n",
       "    </tr>\n",
       "  </tbody>\n",
       "</table>\n",
       "</div>"
      ],
      "text/plain": [
       "   id_student     M\n",
       "0        6516  62.0\n",
       "1        8462  87.0\n",
       "2       11391  82.0\n",
       "3       23629  82.0\n",
       "4       23698  74.0"
      ]
     },
     "execution_count": 48,
     "metadata": {},
     "output_type": "execute_result"
    }
   ],
   "source": [
    "df_M = df_1.groupby('id_student', as_index=False).agg(M=('score', 'mean'))\n",
    "df_M['M'] = df_M['M'].round()\n",
    "df_M.head()"
   ]
  },
  {
   "cell_type": "markdown",
   "metadata": {},
   "source": [
    "#### Общий *df* с результатами студентов:"
   ]
  },
  {
   "cell_type": "code",
   "execution_count": 49,
   "metadata": {
    "scrolled": false
   },
   "outputs": [
    {
     "data": {
      "text/html": [
       "<div>\n",
       "<style scoped>\n",
       "    .dataframe tbody tr th:only-of-type {\n",
       "        vertical-align: middle;\n",
       "    }\n",
       "\n",
       "    .dataframe tbody tr th {\n",
       "        vertical-align: top;\n",
       "    }\n",
       "\n",
       "    .dataframe thead th {\n",
       "        text-align: right;\n",
       "    }\n",
       "</style>\n",
       "<table border=\"1\" class=\"dataframe\">\n",
       "  <thead>\n",
       "    <tr style=\"text-align: right;\">\n",
       "      <th></th>\n",
       "      <th>id_student</th>\n",
       "      <th>R</th>\n",
       "      <th>F</th>\n",
       "      <th>M</th>\n",
       "    </tr>\n",
       "  </thead>\n",
       "  <tbody>\n",
       "    <tr>\n",
       "      <th>0</th>\n",
       "      <td>23698</td>\n",
       "      <td>133.0</td>\n",
       "      <td>100.0</td>\n",
       "      <td>74.0</td>\n",
       "    </tr>\n",
       "    <tr>\n",
       "      <th>1</th>\n",
       "      <td>24213</td>\n",
       "      <td>126.0</td>\n",
       "      <td>100.0</td>\n",
       "      <td>76.0</td>\n",
       "    </tr>\n",
       "    <tr>\n",
       "      <th>2</th>\n",
       "      <td>27116</td>\n",
       "      <td>133.0</td>\n",
       "      <td>100.0</td>\n",
       "      <td>93.0</td>\n",
       "    </tr>\n",
       "    <tr>\n",
       "      <th>3</th>\n",
       "      <td>28787</td>\n",
       "      <td>140.0</td>\n",
       "      <td>100.0</td>\n",
       "      <td>54.0</td>\n",
       "    </tr>\n",
       "    <tr>\n",
       "      <th>4</th>\n",
       "      <td>29411</td>\n",
       "      <td>108.0</td>\n",
       "      <td>100.0</td>\n",
       "      <td>59.0</td>\n",
       "    </tr>\n",
       "  </tbody>\n",
       "</table>\n",
       "</div>"
      ],
      "text/plain": [
       "   id_student      R      F     M\n",
       "0       23698  133.0  100.0  74.0\n",
       "1       24213  126.0  100.0  76.0\n",
       "2       27116  133.0  100.0  93.0\n",
       "3       28787  140.0  100.0  54.0\n",
       "4       29411  108.0  100.0  59.0"
      ]
     },
     "execution_count": 49,
     "metadata": {},
     "output_type": "execute_result"
    }
   ],
   "source": [
    "RFM = (df_R.merge(df_F, on='id_student')).merge(df_M, on='id_student')\n",
    "RFM.head()"
   ]
  },
  {
   "cell_type": "code",
   "execution_count": 50,
   "metadata": {},
   "outputs": [
    {
     "data": {
      "text/html": [
       "<div>\n",
       "<style scoped>\n",
       "    .dataframe tbody tr th:only-of-type {\n",
       "        vertical-align: middle;\n",
       "    }\n",
       "\n",
       "    .dataframe tbody tr th {\n",
       "        vertical-align: top;\n",
       "    }\n",
       "\n",
       "    .dataframe thead th {\n",
       "        text-align: right;\n",
       "    }\n",
       "</style>\n",
       "<table border=\"1\" class=\"dataframe\">\n",
       "  <thead>\n",
       "    <tr style=\"text-align: right;\">\n",
       "      <th></th>\n",
       "      <th>id_student</th>\n",
       "      <th>R</th>\n",
       "      <th>F</th>\n",
       "      <th>M</th>\n",
       "    </tr>\n",
       "  </thead>\n",
       "  <tbody>\n",
       "    <tr>\n",
       "      <th>count</th>\n",
       "      <td>3.994000e+03</td>\n",
       "      <td>3994.000000</td>\n",
       "      <td>3994.000000</td>\n",
       "      <td>3994.000000</td>\n",
       "    </tr>\n",
       "    <tr>\n",
       "      <th>mean</th>\n",
       "      <td>7.373102e+05</td>\n",
       "      <td>121.767651</td>\n",
       "      <td>99.586880</td>\n",
       "      <td>76.907862</td>\n",
       "    </tr>\n",
       "    <tr>\n",
       "      <th>std</th>\n",
       "      <td>5.834512e+05</td>\n",
       "      <td>12.628229</td>\n",
       "      <td>4.526637</td>\n",
       "      <td>12.501140</td>\n",
       "    </tr>\n",
       "    <tr>\n",
       "      <th>min</th>\n",
       "      <td>2.369800e+04</td>\n",
       "      <td>33.000000</td>\n",
       "      <td>50.000000</td>\n",
       "      <td>35.000000</td>\n",
       "    </tr>\n",
       "    <tr>\n",
       "      <th>25%</th>\n",
       "      <td>5.059280e+05</td>\n",
       "      <td>116.000000</td>\n",
       "      <td>100.000000</td>\n",
       "      <td>69.000000</td>\n",
       "    </tr>\n",
       "    <tr>\n",
       "      <th>50%</th>\n",
       "      <td>5.922810e+05</td>\n",
       "      <td>122.000000</td>\n",
       "      <td>100.000000</td>\n",
       "      <td>78.000000</td>\n",
       "    </tr>\n",
       "    <tr>\n",
       "      <th>75%</th>\n",
       "      <td>6.488508e+05</td>\n",
       "      <td>129.000000</td>\n",
       "      <td>100.000000</td>\n",
       "      <td>87.000000</td>\n",
       "    </tr>\n",
       "    <tr>\n",
       "      <th>max</th>\n",
       "      <td>2.698251e+06</td>\n",
       "      <td>241.000000</td>\n",
       "      <td>100.000000</td>\n",
       "      <td>100.000000</td>\n",
       "    </tr>\n",
       "  </tbody>\n",
       "</table>\n",
       "</div>"
      ],
      "text/plain": [
       "         id_student            R            F            M\n",
       "count  3.994000e+03  3994.000000  3994.000000  3994.000000\n",
       "mean   7.373102e+05   121.767651    99.586880    76.907862\n",
       "std    5.834512e+05    12.628229     4.526637    12.501140\n",
       "min    2.369800e+04    33.000000    50.000000    35.000000\n",
       "25%    5.059280e+05   116.000000   100.000000    69.000000\n",
       "50%    5.922810e+05   122.000000   100.000000    78.000000\n",
       "75%    6.488508e+05   129.000000   100.000000    87.000000\n",
       "max    2.698251e+06   241.000000   100.000000   100.000000"
      ]
     },
     "execution_count": 50,
     "metadata": {},
     "output_type": "execute_result"
    }
   ],
   "source": [
    "RFM.describe()"
   ]
  },
  {
   "cell_type": "code",
   "execution_count": 51,
   "metadata": {},
   "outputs": [
    {
     "data": {
      "image/png": "[encoded data removed]",
      "text/plain": [
       "<Figure size 648x216 with 1 Axes>"
      ]
     },
     "metadata": {},
     "output_type": "display_data"
    },
    {
     "data": {
      "image/png": "[encoded data removed]",
      "text/plain": [
       "<Figure size 648x216 with 1 Axes>"
      ]
     },
     "metadata": {},
     "output_type": "display_data"
    },
    {
     "data": {
      "image/png": "[encoded data removed]",
      "text/plain": [
       "<Figure size 648x216 with 1 Axes>"
      ]
     },
     "metadata": {},
     "output_type": "display_data"
    }
   ],
   "source": [
    "colnames = ['R', 'F', 'M']\n",
    "for col in colnames:\n",
    "    fig, ax = plt.subplots(figsize=(9, 3))\n",
    "    sns.histplot(RFM[col])\n",
    "    ax.set_title('Distribution of %s' % col)\n",
    "    plt.show()"
   ]
  },
  {
   "cell_type": "markdown",
   "metadata": {},
   "source": [
    "Значения по R (среднее время сдачи одного экзамена) разделим по квартилям, где медиана соответствует 50-му перцентилю.\n",
    "Нужные нам значения уже есть в методе .describe выше.\n",
    "\n",
    "Далее названия студентам я буду давать в соответствии с едой, её температурой и графиками приёма пищи. Мне этот вариант кажется подходящим по смыслу и смешным)))\n",
    "\n",
    "Среднее время сдачи экзамена будет по аналогии с графиками приёма пищи.\n",
    "Получили студентов, которые сдают экзамены (кушают) на:\n",
    "\n",
    "- **(1) завтрак**, 0 - 116 дней, \n",
    "- **(2) полдник**, 116 - 122 дня, \n",
    "- **(3) обед**, 122 - 129 дней.\n",
    "- **(4) ужин**, 129 - 241 день.\n"
   ]
  },
  {
   "cell_type": "markdown",
   "metadata": {},
   "source": [
    "Посмотрим на значения по F:"
   ]
  },
  {
   "cell_type": "code",
   "execution_count": 52,
   "metadata": {
    "scrolled": true
   },
   "outputs": [
    {
     "data": {
      "text/plain": [
       "100.0    3961\n",
       "50.0       33\n",
       "Name: F, dtype: int64"
      ]
     },
     "execution_count": 52,
     "metadata": {},
     "output_type": "execute_result"
    }
   ],
   "source": [
    "RFM['F'].value_counts()"
   ]
  },
  {
   "cell_type": "markdown",
   "metadata": {},
   "source": [
    "Так как по F (завершаемость курсов) у нас всего два уникальных значения - 50% и 100%, можем условно разделить студентов \n",
    "\n",
    "на студентов с:\n",
    "- **(1) горячей** едой (100% завершаемость курсов)\n",
    "- **(2) остывшей** едой (50% завершаемость курсов)\n",
    "\n",
    "В дальнейшем реализуем это через if-else в лямба-функции."
   ]
  },
  {
   "cell_type": "markdown",
   "metadata": {},
   "source": [
    "Теперь посмотрим на значения M:"
   ]
  },
  {
   "cell_type": "markdown",
   "metadata": {},
   "source": [
    "Для удобства в этом задании округлили среднюю оценку за экзамен до целого значения.\n",
    "\n",
    "По M (среднее количество баллов за экзамен) можем сегментировать студентов по аналогии с пятибальной системой оценивания.\n",
    "\n",
    "Получим студентов, которые едят такие блюда, как:\n",
    "\n",
    "- **(1) яичница** (100 баллов)\n",
    "- **(2) овсяная каша** (80 - 99 баллов)\n",
    "- **(3) борщ** (60 - 79 баллов)\n",
    "- **(4) стейк** (40 - 59 баллов)\n",
    "- **(5) кастрюля ничего** (меньше 40), в данном случае это тот, кто не сдал экзамен\n",
    "\n",
    "Такое деление не будем реализовывать через квантили, т.к. рискуем потерять разницу в важных значениях оценок - стейк и кастрюля ничего смешаются в одну группу, потому что порог например 25 перцентиля - 69 баллов (высокий). \n",
    "\n",
    "Чтобы различать эти две категории, пришлось бы подбирать перцентиль, получили бы 11й и 0.11й. Но зачем нам идти таким сложным путем? \n",
    "\n",
    "Поэтому мной было принято решение сделать сегментирование по M через if-else - в таком случае кусок кода будет выглядеть понятнее."
   ]
  },
  {
   "cell_type": "code",
   "execution_count": 53,
   "metadata": {},
   "outputs": [],
   "source": [
    "# RFM['M'].quantile([0.0011, 0.11, 0.55, 1.0])"
   ]
  },
  {
   "cell_type": "markdown",
   "metadata": {},
   "source": [
    "Сформируем общий df с рангами:"
   ]
  },
  {
   "cell_type": "code",
   "execution_count": 54,
   "metadata": {
    "scrolled": false
   },
   "outputs": [
    {
     "data": {
      "text/html": [
       "<div>\n",
       "<style scoped>\n",
       "    .dataframe tbody tr th:only-of-type {\n",
       "        vertical-align: middle;\n",
       "    }\n",
       "\n",
       "    .dataframe tbody tr th {\n",
       "        vertical-align: top;\n",
       "    }\n",
       "\n",
       "    .dataframe thead th {\n",
       "        text-align: right;\n",
       "    }\n",
       "</style>\n",
       "<table border=\"1\" class=\"dataframe\">\n",
       "  <thead>\n",
       "    <tr style=\"text-align: right;\">\n",
       "      <th></th>\n",
       "      <th>id_student</th>\n",
       "      <th>R</th>\n",
       "      <th>F</th>\n",
       "      <th>M</th>\n",
       "      <th>R_score</th>\n",
       "      <th>F_score</th>\n",
       "      <th>M_score</th>\n",
       "      <th>total_score</th>\n",
       "    </tr>\n",
       "  </thead>\n",
       "  <tbody>\n",
       "    <tr>\n",
       "      <th>0</th>\n",
       "      <td>23698</td>\n",
       "      <td>133.0</td>\n",
       "      <td>100.0</td>\n",
       "      <td>74.0</td>\n",
       "      <td>4</td>\n",
       "      <td>1</td>\n",
       "      <td>3</td>\n",
       "      <td>413</td>\n",
       "    </tr>\n",
       "    <tr>\n",
       "      <th>1</th>\n",
       "      <td>24213</td>\n",
       "      <td>126.0</td>\n",
       "      <td>100.0</td>\n",
       "      <td>76.0</td>\n",
       "      <td>3</td>\n",
       "      <td>1</td>\n",
       "      <td>3</td>\n",
       "      <td>313</td>\n",
       "    </tr>\n",
       "    <tr>\n",
       "      <th>2</th>\n",
       "      <td>27116</td>\n",
       "      <td>133.0</td>\n",
       "      <td>100.0</td>\n",
       "      <td>93.0</td>\n",
       "      <td>4</td>\n",
       "      <td>1</td>\n",
       "      <td>2</td>\n",
       "      <td>412</td>\n",
       "    </tr>\n",
       "    <tr>\n",
       "      <th>3</th>\n",
       "      <td>28787</td>\n",
       "      <td>140.0</td>\n",
       "      <td>100.0</td>\n",
       "      <td>54.0</td>\n",
       "      <td>4</td>\n",
       "      <td>1</td>\n",
       "      <td>4</td>\n",
       "      <td>414</td>\n",
       "    </tr>\n",
       "    <tr>\n",
       "      <th>4</th>\n",
       "      <td>29411</td>\n",
       "      <td>108.0</td>\n",
       "      <td>100.0</td>\n",
       "      <td>59.0</td>\n",
       "      <td>1</td>\n",
       "      <td>1</td>\n",
       "      <td>4</td>\n",
       "      <td>114</td>\n",
       "    </tr>\n",
       "  </tbody>\n",
       "</table>\n",
       "</div>"
      ],
      "text/plain": [
       "   id_student      R      F     M R_score  F_score  M_score total_score\n",
       "0       23698  133.0  100.0  74.0       4        1        3         413\n",
       "1       24213  126.0  100.0  76.0       3        1        3         313\n",
       "2       27116  133.0  100.0  93.0       4        1        2         412\n",
       "3       28787  140.0  100.0  54.0       4        1        4         414\n",
       "4       29411  108.0  100.0  59.0       1        1        4         114"
      ]
     },
     "execution_count": 54,
     "metadata": {},
     "output_type": "execute_result"
    }
   ],
   "source": [
    "RFM['R_score'] = pd.qcut(RFM['R'], 4, ['1', '2', '3', '4'])\n",
    "\n",
    "RFM['F_score'] = RFM['F'].apply(lambda x: 1 if x == 100 else 2)\n",
    "\n",
    "\n",
    "def monetary(x):\n",
    "    if x == 100:\n",
    "        y = 1\n",
    "    elif 80 <= x < 100:\n",
    "        y = 2\n",
    "    elif 60 <= x < 80:\n",
    "        y = 3\n",
    "    elif 40 <= x < 60:\n",
    "        y = 4\n",
    "    elif x < 40:\n",
    "        y = 5\n",
    "    return y\n",
    "\n",
    "\n",
    "RFM['M_score'] = RFM['M'].apply(monetary)\n",
    "\n",
    "\n",
    "RFM['total_score'] = RFM.R_score.astype(str) + RFM.F_score.astype(str) + RFM.M_score.astype(str)\n",
    "\n",
    "RFM.head()"
   ]
  },
  {
   "cell_type": "markdown",
   "metadata": {},
   "source": [
    "Теперь сделаем df c едой)\n",
    "\n",
    "**Логика тут такая:** лучший студент - он как горячая яичница на завтрак, или овсяная каша на полдник. Вкусно и полезно.\n",
    "\n",
    "Но будет не очень вкусно, если еда будет остывшей => завершаемость курсов у студента будет низкая.\n",
    "\n",
    "Борщ на обед - тоже вкусно, но если его есть на завтрак или ужин - не очень логично.\n",
    "\n",
    "Стейк на ужин - уже вариант не очень хороший, потому что каллорийно и не слишком полезно => студент сдает экзамен поздно и на низкий балл.\n",
    "\n",
    "Кастрюля с ничем - худшее что может быть, если вы не на диете => студент, заваливший экзамен - что может быть хуже?"
   ]
  },
  {
   "cell_type": "code",
   "execution_count": 55,
   "metadata": {},
   "outputs": [],
   "source": [
    "def food(x):    \n",
    "    if int(x[1]) == 1 and (int(x[2]) == 3 or int(x[2]) == 4):\n",
    "        temp = 'горячий'\n",
    "    elif int(x[1]) == 1 and (int(x[2]) == 1 or int(x[2]) == 2 or int(x[2]) == 5):\n",
    "        temp = 'горячая'\n",
    "    elif int(x[1]) == 2 and (int(x[2]) == 3 or int(x[2]) == 4):\n",
    "        temp = 'остывший'\n",
    "    elif int(x[1]) == 2 and (int(x[2]) == 1 or int(x[2]) == 2 or int(x[2]) == 5):\n",
    "        temp = 'остывшая'\n",
    "\n",
    "    if int(x[0]) == 1:\n",
    "        eating = 'завтрак'\n",
    "    elif int(x[0]) == 2:\n",
    "        eating = 'полдник'\n",
    "    elif int(x[0]) == 3:\n",
    "        eating = 'обед'\n",
    "    elif int(x[0]) == 4:\n",
    "        eating = 'ужин'\n",
    "\n",
    "    if int(x[2]) == 1:\n",
    "        meal = 'яичница'\n",
    "    elif int(x[2]) == 2:\n",
    "        meal = 'овсяная каша'\n",
    "    elif int(x[2]) == 3:\n",
    "        meal = 'борщ'\n",
    "    elif int(x[2]) == 4:\n",
    "        meal = 'стейк'\n",
    "    elif int(x[2]) == 5:\n",
    "        meal = 'кастрюля ничего'\n",
    "    \n",
    "    return f'{temp} {meal} на {eating}'\n",
    "\n",
    "\n",
    "RFM['food'] = RFM['total_score'].apply(food)"
   ]
  },
  {
   "cell_type": "code",
   "execution_count": 56,
   "metadata": {},
   "outputs": [
    {
     "data": {
      "text/html": [
       "<div>\n",
       "<style scoped>\n",
       "    .dataframe tbody tr th:only-of-type {\n",
       "        vertical-align: middle;\n",
       "    }\n",
       "\n",
       "    .dataframe tbody tr th {\n",
       "        vertical-align: top;\n",
       "    }\n",
       "\n",
       "    .dataframe thead th {\n",
       "        text-align: right;\n",
       "    }\n",
       "</style>\n",
       "<table border=\"1\" class=\"dataframe\">\n",
       "  <thead>\n",
       "    <tr style=\"text-align: right;\">\n",
       "      <th></th>\n",
       "      <th>total_score</th>\n",
       "      <th>food</th>\n",
       "      <th>count</th>\n",
       "    </tr>\n",
       "  </thead>\n",
       "  <tbody>\n",
       "    <tr>\n",
       "      <th>0</th>\n",
       "      <td>113</td>\n",
       "      <td>горячий борщ на завтрак</td>\n",
       "      <td>552</td>\n",
       "    </tr>\n",
       "    <tr>\n",
       "      <th>1</th>\n",
       "      <td>112</td>\n",
       "      <td>горячая овсяная каша на завтрак</td>\n",
       "      <td>490</td>\n",
       "    </tr>\n",
       "    <tr>\n",
       "      <th>2</th>\n",
       "      <td>412</td>\n",
       "      <td>горячая овсяная каша на ужин</td>\n",
       "      <td>483</td>\n",
       "    </tr>\n",
       "    <tr>\n",
       "      <th>3</th>\n",
       "      <td>312</td>\n",
       "      <td>горячая овсяная каша на обед</td>\n",
       "      <td>469</td>\n",
       "    </tr>\n",
       "    <tr>\n",
       "      <th>4</th>\n",
       "      <td>212</td>\n",
       "      <td>горячая овсяная каша на полдник</td>\n",
       "      <td>428</td>\n",
       "    </tr>\n",
       "    <tr>\n",
       "      <th>5</th>\n",
       "      <td>213</td>\n",
       "      <td>горячий борщ на полдник</td>\n",
       "      <td>417</td>\n",
       "    </tr>\n",
       "    <tr>\n",
       "      <th>6</th>\n",
       "      <td>313</td>\n",
       "      <td>горячий борщ на обед</td>\n",
       "      <td>410</td>\n",
       "    </tr>\n",
       "    <tr>\n",
       "      <th>7</th>\n",
       "      <td>413</td>\n",
       "      <td>горячий борщ на ужин</td>\n",
       "      <td>295</td>\n",
       "    </tr>\n",
       "    <tr>\n",
       "      <th>8</th>\n",
       "      <td>314</td>\n",
       "      <td>горячий стейк на обед</td>\n",
       "      <td>120</td>\n",
       "    </tr>\n",
       "    <tr>\n",
       "      <th>9</th>\n",
       "      <td>114</td>\n",
       "      <td>горячий стейк на завтрак</td>\n",
       "      <td>119</td>\n",
       "    </tr>\n",
       "    <tr>\n",
       "      <th>10</th>\n",
       "      <td>414</td>\n",
       "      <td>горячий стейк на ужин</td>\n",
       "      <td>83</td>\n",
       "    </tr>\n",
       "    <tr>\n",
       "      <th>11</th>\n",
       "      <td>214</td>\n",
       "      <td>горячий стейк на полдник</td>\n",
       "      <td>83</td>\n",
       "    </tr>\n",
       "    <tr>\n",
       "      <th>12</th>\n",
       "      <td>324</td>\n",
       "      <td>остывший стейк на обед</td>\n",
       "      <td>8</td>\n",
       "    </tr>\n",
       "    <tr>\n",
       "      <th>13</th>\n",
       "      <td>323</td>\n",
       "      <td>остывший борщ на обед</td>\n",
       "      <td>8</td>\n",
       "    </tr>\n",
       "    <tr>\n",
       "      <th>14</th>\n",
       "      <td>411</td>\n",
       "      <td>горячая яичница на ужин</td>\n",
       "      <td>6</td>\n",
       "    </tr>\n",
       "    <tr>\n",
       "      <th>15</th>\n",
       "      <td>424</td>\n",
       "      <td>остывший стейк на ужин</td>\n",
       "      <td>4</td>\n",
       "    </tr>\n",
       "    <tr>\n",
       "      <th>16</th>\n",
       "      <td>223</td>\n",
       "      <td>остывший борщ на полдник</td>\n",
       "      <td>3</td>\n",
       "    </tr>\n",
       "    <tr>\n",
       "      <th>17</th>\n",
       "      <td>423</td>\n",
       "      <td>остывший борщ на ужин</td>\n",
       "      <td>3</td>\n",
       "    </tr>\n",
       "    <tr>\n",
       "      <th>18</th>\n",
       "      <td>315</td>\n",
       "      <td>горячая кастрюля ничего на обед</td>\n",
       "      <td>3</td>\n",
       "    </tr>\n",
       "    <tr>\n",
       "      <th>19</th>\n",
       "      <td>224</td>\n",
       "      <td>остывший стейк на полдник</td>\n",
       "      <td>3</td>\n",
       "    </tr>\n",
       "    <tr>\n",
       "      <th>20</th>\n",
       "      <td>124</td>\n",
       "      <td>остывший стейк на завтрак</td>\n",
       "      <td>2</td>\n",
       "    </tr>\n",
       "    <tr>\n",
       "      <th>21</th>\n",
       "      <td>215</td>\n",
       "      <td>горячая кастрюля ничего на полдник</td>\n",
       "      <td>1</td>\n",
       "    </tr>\n",
       "    <tr>\n",
       "      <th>22</th>\n",
       "      <td>311</td>\n",
       "      <td>горячая яичница на обед</td>\n",
       "      <td>1</td>\n",
       "    </tr>\n",
       "    <tr>\n",
       "      <th>23</th>\n",
       "      <td>123</td>\n",
       "      <td>остывший борщ на завтрак</td>\n",
       "      <td>1</td>\n",
       "    </tr>\n",
       "    <tr>\n",
       "      <th>24</th>\n",
       "      <td>415</td>\n",
       "      <td>горячая кастрюля ничего на ужин</td>\n",
       "      <td>1</td>\n",
       "    </tr>\n",
       "    <tr>\n",
       "      <th>25</th>\n",
       "      <td>422</td>\n",
       "      <td>остывшая овсяная каша на ужин</td>\n",
       "      <td>1</td>\n",
       "    </tr>\n",
       "  </tbody>\n",
       "</table>\n",
       "</div>"
      ],
      "text/plain": [
       "   total_score                                food  count\n",
       "0          113             горячий борщ на завтрак    552\n",
       "1          112     горячая овсяная каша на завтрак    490\n",
       "2          412        горячая овсяная каша на ужин    483\n",
       "3          312        горячая овсяная каша на обед    469\n",
       "4          212     горячая овсяная каша на полдник    428\n",
       "5          213             горячий борщ на полдник    417\n",
       "6          313                горячий борщ на обед    410\n",
       "7          413                горячий борщ на ужин    295\n",
       "8          314               горячий стейк на обед    120\n",
       "9          114            горячий стейк на завтрак    119\n",
       "10         414               горячий стейк на ужин     83\n",
       "11         214            горячий стейк на полдник     83\n",
       "12         324              остывший стейк на обед      8\n",
       "13         323               остывший борщ на обед      8\n",
       "14         411             горячая яичница на ужин      6\n",
       "15         424              остывший стейк на ужин      4\n",
       "16         223            остывший борщ на полдник      3\n",
       "17         423               остывший борщ на ужин      3\n",
       "18         315     горячая кастрюля ничего на обед      3\n",
       "19         224           остывший стейк на полдник      3\n",
       "20         124           остывший стейк на завтрак      2\n",
       "21         215  горячая кастрюля ничего на полдник      1\n",
       "22         311             горячая яичница на обед      1\n",
       "23         123            остывший борщ на завтрак      1\n",
       "24         415     горячая кастрюля ничего на ужин      1\n",
       "25         422       остывшая овсяная каша на ужин      1"
      ]
     },
     "execution_count": 56,
     "metadata": {},
     "output_type": "execute_result"
    }
   ],
   "source": [
    "cluster = pd.DataFrame(RFM[['total_score', 'food']].value_counts())\n",
    "cluster = cluster.reset_index().rename(columns={0: 'count'})\n",
    "cluster"
   ]
  },
  {
   "cell_type": "markdown",
   "metadata": {},
   "source": [
    "Выше представлена таблица с возможными комбинациями параметров."
   ]
  },
  {
   "cell_type": "markdown",
   "metadata": {},
   "source": [
    "Получили 26 кластеров.\n",
    "\n",
    "Анализировать такое большое количество кластеров трудоёмко. \n",
    "\n",
    "Далее при анализе не будем учитывать кластеры, которые содержат 10 и менее записей (т.к. это составляет 0.25% от общего числа записей).\n",
    "\n",
    "Тогда останется 12 кластеров. Названия им менять не будем - они у них уже есть."
   ]
  },
  {
   "cell_type": "code",
   "execution_count": 57,
   "metadata": {},
   "outputs": [
    {
     "data": {
      "text/html": [
       "<div>\n",
       "<style scoped>\n",
       "    .dataframe tbody tr th:only-of-type {\n",
       "        vertical-align: middle;\n",
       "    }\n",
       "\n",
       "    .dataframe tbody tr th {\n",
       "        vertical-align: top;\n",
       "    }\n",
       "\n",
       "    .dataframe thead th {\n",
       "        text-align: right;\n",
       "    }\n",
       "</style>\n",
       "<table border=\"1\" class=\"dataframe\">\n",
       "  <thead>\n",
       "    <tr style=\"text-align: right;\">\n",
       "      <th></th>\n",
       "      <th>total_score</th>\n",
       "      <th>food</th>\n",
       "      <th>count</th>\n",
       "    </tr>\n",
       "  </thead>\n",
       "  <tbody>\n",
       "    <tr>\n",
       "      <th>0</th>\n",
       "      <td>113</td>\n",
       "      <td>горячий борщ на завтрак</td>\n",
       "      <td>552</td>\n",
       "    </tr>\n",
       "    <tr>\n",
       "      <th>1</th>\n",
       "      <td>112</td>\n",
       "      <td>горячая овсяная каша на завтрак</td>\n",
       "      <td>490</td>\n",
       "    </tr>\n",
       "    <tr>\n",
       "      <th>2</th>\n",
       "      <td>412</td>\n",
       "      <td>горячая овсяная каша на ужин</td>\n",
       "      <td>483</td>\n",
       "    </tr>\n",
       "    <tr>\n",
       "      <th>3</th>\n",
       "      <td>312</td>\n",
       "      <td>горячая овсяная каша на обед</td>\n",
       "      <td>469</td>\n",
       "    </tr>\n",
       "    <tr>\n",
       "      <th>4</th>\n",
       "      <td>212</td>\n",
       "      <td>горячая овсяная каша на полдник</td>\n",
       "      <td>428</td>\n",
       "    </tr>\n",
       "    <tr>\n",
       "      <th>5</th>\n",
       "      <td>213</td>\n",
       "      <td>горячий борщ на полдник</td>\n",
       "      <td>417</td>\n",
       "    </tr>\n",
       "    <tr>\n",
       "      <th>6</th>\n",
       "      <td>313</td>\n",
       "      <td>горячий борщ на обед</td>\n",
       "      <td>410</td>\n",
       "    </tr>\n",
       "    <tr>\n",
       "      <th>7</th>\n",
       "      <td>413</td>\n",
       "      <td>горячий борщ на ужин</td>\n",
       "      <td>295</td>\n",
       "    </tr>\n",
       "    <tr>\n",
       "      <th>8</th>\n",
       "      <td>314</td>\n",
       "      <td>горячий стейк на обед</td>\n",
       "      <td>120</td>\n",
       "    </tr>\n",
       "    <tr>\n",
       "      <th>9</th>\n",
       "      <td>114</td>\n",
       "      <td>горячий стейк на завтрак</td>\n",
       "      <td>119</td>\n",
       "    </tr>\n",
       "    <tr>\n",
       "      <th>10</th>\n",
       "      <td>414</td>\n",
       "      <td>горячий стейк на ужин</td>\n",
       "      <td>83</td>\n",
       "    </tr>\n",
       "    <tr>\n",
       "      <th>11</th>\n",
       "      <td>214</td>\n",
       "      <td>горячий стейк на полдник</td>\n",
       "      <td>83</td>\n",
       "    </tr>\n",
       "  </tbody>\n",
       "</table>\n",
       "</div>"
      ],
      "text/plain": [
       "   total_score                             food  count\n",
       "0          113          горячий борщ на завтрак    552\n",
       "1          112  горячая овсяная каша на завтрак    490\n",
       "2          412     горячая овсяная каша на ужин    483\n",
       "3          312     горячая овсяная каша на обед    469\n",
       "4          212  горячая овсяная каша на полдник    428\n",
       "5          213          горячий борщ на полдник    417\n",
       "6          313             горячий борщ на обед    410\n",
       "7          413             горячий борщ на ужин    295\n",
       "8          314            горячий стейк на обед    120\n",
       "9          114         горячий стейк на завтрак    119\n",
       "10         414            горячий стейк на ужин     83\n",
       "11         214         горячий стейк на полдник     83"
      ]
     },
     "execution_count": 57,
     "metadata": {},
     "output_type": "execute_result"
    }
   ],
   "source": [
    "adv_cluster = cluster.query('count > 10')\n",
    "adv_cluster"
   ]
  },
  {
   "cell_type": "markdown",
   "metadata": {},
   "source": [
    "Визуализируем."
   ]
  },
  {
   "cell_type": "code",
   "execution_count": 58,
   "metadata": {},
   "outputs": [
    {
     "data": {
      "image/png": "[encoded data removed]",
      "text/plain": [
       "<Figure size 1152x576 with 1 Axes>"
      ]
     },
     "metadata": {},
     "output_type": "display_data"
    }
   ],
   "source": [
    "plt.figure(figsize=(16, 8))\n",
    "sns.set_theme()\n",
    "plots = sns.barplot(x=adv_cluster['total_score'], y=adv_cluster['count'])\n",
    "for bar in plots.patches:\n",
    "    plots.annotate(format(bar.get_height(), '.2f'),\n",
    "                         (bar.get_x() + bar.get_width() / 2, \n",
    "                          bar.get_height()), ha='center', va='center', \n",
    "                   size=11, xytext=(0, 8), textcoords='offset points')"
   ]
  },
  {
   "cell_type": "markdown",
   "metadata": {},
   "source": [
    "### Выводы\n",
    "\n",
    "Получили 12 кластеров.\n",
    "\n",
    "Самый распространенный кластер - **113**. \n",
    "\n",
    "- Это студенты, которые предпочитают **горячий борщ на завтрак**. Это... хорошо, потому что горячий и потому что на завтрак. Но было бы гораздо лучше, если бы это была овсяная каша или яичница. То есть, этим студентам можно порекомендовать чуть лучше готовится к экзаменам, чтобы стать идеальными, лучшими их лучших. Они очень близки к этому.\n",
    "\n",
    "Далее следует кластер **112**.\n",
    "- Это студенты, которые едят **на завтрак горячую овсяную кашу**. Это самые лучшие студенты среди наших кластеров. То, что по количеству они идут у нас на втором месте - не может нас не радовать. Это значит, что курсы наши понятные, интересные и сдавать их на высокий балл не так уж и сложно. А конкретно эти студенты - ответственные и стараются всё сдать как можно раньше.\n",
    "\n",
    "Далее - кластер **412**.\n",
    "- Это студенты, которые едят **на ужин горячую овсяную кашу**. Это тоже хороший вариант. Тоже полезно. Но логинее было бы есть кашу на завтрак. Таким студентам можно в дальнейшем посоветовать не затягивать со сроками сдачи экзаменов. У студентов хорошие оценки, если будут сдавать экзамены пораньше - приблизятся к идеальным студентам.\n",
    "\n",
    "Кластер **312**.\n",
    " - Это студенты, которые едят **на обед горячую овсяную кашу**. Это тоже хорошо. Но на завтрак - лучше. Поэтому, к ним такие же рекомендации, как и к студентам предыдущего кластера.\n",
    "\n",
    "Далее идет кластер **212**.\n",
    " - Эти студенты предпочитают **горячую овсяную кашу в полдник**. Хорошее сочетание, уверенные хорошисты.\n",
    " \n",
    "Следующие кластеры - **213**, **313**, **413**. Это любители **горячего борща** в полдник, обед и ужин соответственно. И, если борщ в обед - это хорошее сочетание, то первому кластеру можно посоветовать есть в полдник что-то более легкое - например, овсяную кашу (получше готовиться к экзаменам), а третьему - не затягивать с употреблением борща и сдавать экзамены пораньше.\n",
    "\n",
    "Последние 4 кластера - любители **горячих стейков**. Нас несомненно должно радовать, что эту не очень полезную пищу едят не так часто. В сумме эти 4 кластера составляют примерно 11 процентов от количества всех студентов. Возможно, для них стоит организовать дополнительные консультации перед экзаменами, чтобы на экзамене им было проще."
   ]
  },
  {
   "cell_type": "markdown",
   "metadata": {},
   "source": [
    "### И еще выводы\n",
    "\n",
    "Первые 5 перечисленных кластеров - это супер-крутые студенты и они составляют 61% от общего числа студентов. Это высокий показатель, который не может не радовать. Рекомендации, как сделать его ещё выше, были даны конкретно для каждого кластера.\n",
    "\n",
    "Следующие 3 кластера - это студенты-среднячки. Они составляют 28% от общего числа. Возможно, им не очень важна оценка по предмету, либо они что-то недопоняли в процессе обучения.\n",
    "\n",
    "Последние 4 кластера - студенты с низкими оценками. Их у нас не так много, 11%. Чтобы сделать этот показатель еще меньше, возможно, следует провести индивидуальную работу с этой группой студентов. Назначить им дополнительные консультации/занятия перед тестированием."
   ]
  }
 ],
 "metadata": {
  "kernelspec": {
   "display_name": "Python 3",
   "language": "python",
   "name": "python3"
  },
  "language_info": {
   "codemirror_mode": {
    "name": "ipython",
    "version": 3
   },
   "file_extension": ".py",
   "mimetype": "text/x-python",
   "name": "python",
   "nbconvert_exporter": "python",
   "pygments_lexer": "ipython3",
   "version": "3.7.3"
  }
 },
 "nbformat": 4,
 "nbformat_minor": 4
}
